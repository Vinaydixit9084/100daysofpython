{
 "cells": [
  {
   "cell_type": "markdown",
   "id": "9b41a95a-0526-446a-8584-489672a6fa40",
   "metadata": {},
   "source": [
    "Python OS Module"
   ]
  },
  {
   "cell_type": "code",
   "execution_count": 1,
   "id": "170e5b28-d4cd-45f9-8eaa-5d1a03630603",
   "metadata": {},
   "outputs": [
    {
     "name": "stdout",
     "output_type": "stream",
     "text": [
      "nt\n"
     ]
    }
   ],
   "source": [
    "import os   \n",
    "print(os.name)   "
   ]
  },
  {
   "cell_type": "code",
   "execution_count": 3,
   "id": "2d14ed3a-5b24-485a-8f02-99cae66cabc9",
   "metadata": {},
   "outputs": [
    {
     "name": "stdout",
     "output_type": "stream",
     "text": [
      "C:\\Users\\dell\\Desktop\\100daysofpython\n"
     ]
    }
   ],
   "source": [
    "import os     \n",
    "print(os.getcwd())   "
   ]
  },
  {
   "cell_type": "code",
   "execution_count": 7,
   "id": "6d28b94b-4aa2-4c00-b769-db2c6dbe4bfe",
   "metadata": {},
   "outputs": [
    {
     "name": "stdout",
     "output_type": "stream",
     "text": [
      "This is awesome\n"
     ]
    },
    {
     "data": {
      "text/plain": [
       "15"
      ]
     },
     "execution_count": 7,
     "metadata": {},
     "output_type": "execute_result"
    }
   ],
   "source": [
    "import os     \n",
    "fd = \"python.txt\"      \n",
    "    \n",
    "# popen() is similar to open()     \n",
    "file = open(fd, 'w')     \n",
    "file.write(\"This is awesome\")     \n",
    "file.close()     \n",
    "file = open(fd, 'r')     \n",
    "text = file.read()     \n",
    "print(text)     \n",
    "      \n",
    "# popen() provides gateway and accesses the file directly     \n",
    "file = os.popen(fd, 'w')     \n",
    "file.write(\"This is awesome\")     \n",
    "# File not closed, shown in next function.      "
   ]
  },
  {
   "cell_type": "code",
   "execution_count": 11,
   "id": "151b6f49-55af-46bf-ac29-93f67d32d57d",
   "metadata": {},
   "outputs": [
    {
     "name": "stdout",
     "output_type": "stream",
     "text": [
      "Exist path: False\n",
      "It access to read the file: False\n",
      "It access to write the file: False\n",
      "Check if path can be executed: False\n"
     ]
    }
   ],
   "source": [
    "import os     \n",
    "import sys    \n",
    "    \n",
    "path1 = os.access(\"Python.txt\", os.F_OK)     \n",
    "print(\"Exist path:\", path1)     \n",
    "      \n",
    "# Checking access with os.R_OK     \n",
    "path2 = os.access(\"Python.txt\", os.R_OK)     \n",
    "print(\"It access to read the file:\", path2)     \n",
    "      \n",
    "# Checking access with os.W_OK     \n",
    "path3 = os.access(\"Python.txt\", os.W_OK)     \n",
    "print(\"It access to write the file:\", path3)     \n",
    "      \n",
    "# Checking access with os.X_OK     \n",
    "path4 = os.access(\"Python.txt\", os.X_OK)     \n",
    "print(\"Check if path can be executed:\", path4)    "
   ]
  },
  {
   "cell_type": "markdown",
   "id": "90478d53-622d-45da-9994-df26844f18de",
   "metadata": {},
   "source": [
    "Python Random module"
   ]
  },
  {
   "cell_type": "code",
   "execution_count": 12,
   "id": "8f5bd615-d731-48b2-8c62-d60498abc3d6",
   "metadata": {},
   "outputs": [
    {
     "name": "stdout",
     "output_type": "stream",
     "text": [
      "0.6350114484919759\n"
     ]
    }
   ],
   "source": [
    "# Python program for generating random float number  \n",
    "import random    \n",
    "num=random.random()    \n",
    "print(num)    "
   ]
  },
  {
   "cell_type": "code",
   "execution_count": 13,
   "id": "8ae272a7-1b81-466d-ae3d-f5ed82d05423",
   "metadata": {},
   "outputs": [
    {
     "name": "stdout",
     "output_type": "stream",
     "text": [
      "228\n"
     ]
    }
   ],
   "source": [
    "# Python program for generating a random integer  \n",
    "import random  \n",
    "num = random.randint(1, 500)  \n",
    "print( num )  "
   ]
  },
  {
   "cell_type": "code",
   "execution_count": 14,
   "id": "b2b89cf1-7d48-4840-bb93-5e4912478c76",
   "metadata": {},
   "outputs": [
    {
     "name": "stdout",
     "output_type": "stream",
     "text": [
      "6\n",
      "1\n"
     ]
    }
   ],
   "source": [
    "# To generate value between a specific range  \n",
    "import random    \n",
    "num = random.randrange(1, 10)    \n",
    "print( num )    \n",
    "num = random.randrange(1, 10, 2)    \n",
    "print( num )                "
   ]
  },
  {
   "cell_type": "code",
   "execution_count": 15,
   "id": "a463b59f-10e9-4a32-be3a-e05f6f4b344d",
   "metadata": {},
   "outputs": [
    {
     "name": "stdout",
     "output_type": "stream",
     "text": [
      "e\n",
      "765\n",
      "64\n"
     ]
    }
   ],
   "source": [
    "# To select a random element  \n",
    "import random  \n",
    "random_s = random.choice('Random Module') #a string  \n",
    "print( random_s )  \n",
    "random_l = random.choice([23, 54, 765, 23, 45, 45]) #a list  \n",
    "print( random_l )  \n",
    "random_s = random.choice((12, 64, 23, 54, 34)) #a set  \n",
    "print( random_s )  "
   ]
  },
  {
   "cell_type": "code",
   "execution_count": 16,
   "id": "8a803c00-138f-4cd8-9879-86e298709845",
   "metadata": {},
   "outputs": [
    {
     "name": "stdout",
     "output_type": "stream",
     "text": [
      "[34, 86, 23, 65, 43, 23]\n",
      "[86, 23, 34, 43, 23, 65]\n"
     ]
    }
   ],
   "source": [
    "# To shuffle elements in the list  \n",
    "list1 = [34, 23, 65, 86, 23, 43]    \n",
    "random.shuffle( list1 )    \n",
    "print( list1 )    \n",
    "random.shuffle( list1 )    \n",
    "print( list1 )    "
   ]
  },
  {
   "cell_type": "code",
   "execution_count": null,
   "id": "e7c855b4-7101-44ba-8438-9b275cab4adc",
   "metadata": {},
   "outputs": [],
   "source": []
  }
 ],
 "metadata": {
  "kernelspec": {
   "display_name": "Python 3 (ipykernel)",
   "language": "python",
   "name": "python3"
  },
  "language_info": {
   "codemirror_mode": {
    "name": "ipython",
    "version": 3
   },
   "file_extension": ".py",
   "mimetype": "text/x-python",
   "name": "python",
   "nbconvert_exporter": "python",
   "pygments_lexer": "ipython3",
   "version": "3.12.4"
  }
 },
 "nbformat": 4,
 "nbformat_minor": 5

}
