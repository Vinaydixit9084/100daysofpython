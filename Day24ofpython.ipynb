{
 "cells": [
  {
   "cell_type": "markdown",
   "id": "1d08707b-35cf-4fc6-a324-b85941a9dc18",
   "metadata": {},
   "source": [
    "Python Math Module"
   ]
  },
  {
   "cell_type": "code",
   "execution_count": 2,
   "id": "f9368168-7eb3-4039-aaf6-d27fa0d17267",
   "metadata": {},
   "outputs": [
    {
     "name": "stdout",
     "output_type": "stream",
     "text": [
      "3.0\n"
     ]
    }
   ],
   "source": [
    "import math  \n",
    "print(math.sqrt( 9 ))  "
   ]
  },
  {
   "cell_type": "code",
   "execution_count": 3,
   "id": "89002879-7606-4d4c-9315-e7ba508ac136",
   "metadata": {},
   "outputs": [
    {
     "name": "stdin",
     "output_type": "stream",
     "text": [
      " 7\n"
     ]
    },
    {
     "name": "stdout",
     "output_type": "stream",
     "text": [
      "5040\n"
     ]
    }
   ],
   "source": [
    "import math  \n",
    "n=int(input())  \n",
    "print(math.factorial(n))  "
   ]
  },
  {
   "cell_type": "code",
   "execution_count": 5,
   "id": "cb7e61d1-e5d4-48ef-8d4c-7b0604bc2de2",
   "metadata": {},
   "outputs": [
    {
     "name": "stdin",
     "output_type": "stream",
     "text": [
      " 15\n",
      " 2\n"
     ]
    },
    {
     "name": "stdout",
     "output_type": "stream",
     "text": [
      "225.0\n"
     ]
    }
   ],
   "source": [
    "import math  \n",
    "num=int(input())  \n",
    "exp=int(input())  \n",
    "res=math.pow(num, exp)  \n",
    "print(res)  "
   ]
  },
  {
   "cell_type": "code",
   "execution_count": 8,
   "id": "f0b394bd-c4ee-42d8-aca6-b51b51d95c1d",
   "metadata": {},
   "outputs": [
    {
     "name": "stdin",
     "output_type": "stream",
     "text": [
      " 12\n",
      " 4\n"
     ]
    },
    {
     "name": "stdout",
     "output_type": "stream",
     "text": [
      "4\n"
     ]
    }
   ],
   "source": [
    "import math  \n",
    "n1=int(input())  \n",
    "n2=int(input())  \n",
    "res=math.gcd(n1,n2)  \n",
    "print(res)  "
   ]
  },
  {
   "cell_type": "code",
   "execution_count": 9,
   "id": "49e78384-336b-483e-beeb-db0bced49c66",
   "metadata": {},
   "outputs": [
    {
     "data": {
      "text/plain": [
       "['__doc__',\n",
       " '__loader__',\n",
       " '__name__',\n",
       " '__package__',\n",
       " '__spec__',\n",
       " 'acos',\n",
       " 'acosh',\n",
       " 'asin',\n",
       " 'asinh',\n",
       " 'atan',\n",
       " 'atan2',\n",
       " 'atanh',\n",
       " 'cbrt',\n",
       " 'ceil',\n",
       " 'comb',\n",
       " 'copysign',\n",
       " 'cos',\n",
       " 'cosh',\n",
       " 'degrees',\n",
       " 'dist',\n",
       " 'e',\n",
       " 'erf',\n",
       " 'erfc',\n",
       " 'exp',\n",
       " 'exp2',\n",
       " 'expm1',\n",
       " 'fabs',\n",
       " 'factorial',\n",
       " 'floor',\n",
       " 'fmod',\n",
       " 'frexp',\n",
       " 'fsum',\n",
       " 'gamma',\n",
       " 'gcd',\n",
       " 'hypot',\n",
       " 'inf',\n",
       " 'isclose',\n",
       " 'isfinite',\n",
       " 'isinf',\n",
       " 'isnan',\n",
       " 'isqrt',\n",
       " 'lcm',\n",
       " 'ldexp',\n",
       " 'lgamma',\n",
       " 'log',\n",
       " 'log10',\n",
       " 'log1p',\n",
       " 'log2',\n",
       " 'modf',\n",
       " 'nan',\n",
       " 'nextafter',\n",
       " 'perm',\n",
       " 'pi',\n",
       " 'pow',\n",
       " 'prod',\n",
       " 'radians',\n",
       " 'remainder',\n",
       " 'sin',\n",
       " 'sinh',\n",
       " 'sqrt',\n",
       " 'sumprod',\n",
       " 'tan',\n",
       " 'tanh',\n",
       " 'tau',\n",
       " 'trunc',\n",
       " 'ulp']"
      ]
     },
     "execution_count": 9,
     "metadata": {},
     "output_type": "execute_result"
    }
   ],
   "source": [
    "import math  \n",
    "dir(math)  "
   ]
  },
  {
   "cell_type": "code",
   "execution_count": 11,
   "id": "faba1c38-6a4e-4fa9-973e-e1b4947fd920",
   "metadata": {},
   "outputs": [
    {
     "name": "stdin",
     "output_type": "stream",
     "text": [
      " 12.78\n"
     ]
    },
    {
     "name": "stdout",
     "output_type": "stream",
     "text": [
      "13\n"
     ]
    }
   ],
   "source": [
    "import math  \n",
    "n = eval(input())  \n",
    "res = math.ceil(n)  \n",
    "print(res)  "
   ]
  },
  {
   "cell_type": "code",
   "execution_count": 12,
   "id": "359988f7-2b0e-4e4a-9b5b-36f256066f4c",
   "metadata": {},
   "outputs": [
    {
     "name": "stdin",
     "output_type": "stream",
     "text": [
      " 12.785\n"
     ]
    },
    {
     "name": "stdout",
     "output_type": "stream",
     "text": [
      "12\n"
     ]
    }
   ],
   "source": [
    "import math  \n",
    "n = eval(input())  \n",
    "res = math.floor(n)  \n",
    "print(res)  "
   ]
  },
  {
   "cell_type": "code",
   "execution_count": 13,
   "id": "ea66e2f9-a0c2-4a87-b0b9-eeb0f289988b",
   "metadata": {},
   "outputs": [
    {
     "name": "stdin",
     "output_type": "stream",
     "text": [
      " 12.765\n"
     ]
    },
    {
     "name": "stdout",
     "output_type": "stream",
     "text": [
      "12.765\n"
     ]
    }
   ],
   "source": [
    "import math  \n",
    "n = eval(input())  \n",
    "res = math.fabs(n)  \n",
    "print(res)  "
   ]
  },
  {
   "cell_type": "code",
   "execution_count": 14,
   "id": "ce5718bc-21c0-43c7-bb35-75e07a8bc8d5",
   "metadata": {},
   "outputs": [
    {
     "name": "stdout",
     "output_type": "stream",
     "text": [
      "3.141592653589793\n"
     ]
    }
   ],
   "source": [
    "import math  \n",
    "print(math.pi)  "
   ]
  },
  {
   "cell_type": "code",
   "execution_count": 15,
   "id": "7450b67e-584a-4622-bc16-068b29e5d0da",
   "metadata": {},
   "outputs": [
    {
     "name": "stdin",
     "output_type": "stream",
     "text": [
      " 12\n",
      " 5\n"
     ]
    },
    {
     "name": "stdout",
     "output_type": "stream",
     "text": [
      "Float Division 2.4\n",
      "Integer Division 2\n",
      "Reminder 2\n"
     ]
    }
   ],
   "source": [
    "a = int(input())  \n",
    "b = int(input())  \n",
    "res = a/b  \n",
    "print(\"Float Division\" , res)  \n",
    "res = a//b  \n",
    "print(\"Integer Division\" , res)  \n",
    "res = a % b  \n",
    "print(\"Reminder\", res)  "
   ]
  },
  {
   "cell_type": "code",
   "execution_count": 16,
   "id": "8dea7618-279d-4b03-9a38-13da74143f05",
   "metadata": {},
   "outputs": [
    {
     "name": "stdout",
     "output_type": "stream",
     "text": [
      "The value of Euler's Number is:  2.718281828459045\n"
     ]
    }
   ],
   "source": [
    "# importing the required library  \n",
    "import math  \n",
    "   \n",
    "# printing the value of Euler's number using the math module  \n",
    "print( \"The value of Euler's Number is: \", math.e )  "
   ]
  },
  {
   "cell_type": "code",
   "execution_count": 17,
   "id": "9a2aedc5-3f22-4d45-a3fc-99d8bdc774c6",
   "metadata": {},
   "outputs": [
    {
     "name": "stdout",
     "output_type": "stream",
     "text": [
      "The value of Tau is:  6.283185307179586\n"
     ]
    }
   ],
   "source": [
    "# Importing the required library  \n",
    "import math  \n",
    "   \n",
    "# Printing the value of tau using math module  \n",
    "print ( \"The value of Tau is: \", math.tau )  "
   ]
  },
  {
   "cell_type": "code",
   "execution_count": 18,
   "id": "7bb3a35c-9b9d-49bf-a3fa-b51b47be4ff0",
   "metadata": {},
   "outputs": [
    {
     "name": "stdout",
     "output_type": "stream",
     "text": [
      "inf\n",
      "-inf\n"
     ]
    }
   ],
   "source": [
    "# Importing the required library  \n",
    "import math  \n",
    "   \n",
    "# Printing the value of positive infinity using the math module  \n",
    "print( math.inf )  \n",
    "   \n",
    "# Printing the value of negative infinity using the math module  \n",
    "print( -math.inf )  "
   ]
  },
  {
   "cell_type": "code",
   "execution_count": 19,
   "id": "031f40bc-6b66-4384-9c94-e7d4d7d0750d",
   "metadata": {},
   "outputs": [
    {
     "name": "stdout",
     "output_type": "stream",
     "text": [
      "True\n",
      "True\n"
     ]
    }
   ],
   "source": [
    "# Importing the required library  \n",
    "import math  \n",
    "   \n",
    "# comparing the value of infinity  \n",
    "print( math.inf > 10e109 )  \n",
    "print( -math.inf < -10e109 )  "
   ]
  },
  {
   "cell_type": "code",
   "execution_count": 20,
   "id": "96fd15da-5c19-4eb6-b8e1-50850579ead7",
   "metadata": {},
   "outputs": [
    {
     "name": "stdout",
     "output_type": "stream",
     "text": [
      "The value of pi is  3.141592653589793\n"
     ]
    }
   ],
   "source": [
    "# Importing the required library  \n",
    "import math  \n",
    "   \n",
    "# Printing the value of pi using the math module  \n",
    "print( \"The value of pi is \", math.pi )  "
   ]
  },
  {
   "cell_type": "code",
   "execution_count": 21,
   "id": "93e89767-80ff-49f0-a09c-39ad1aadfd6c",
   "metadata": {},
   "outputs": [
    {
     "name": "stdout",
     "output_type": "stream",
     "text": [
      "The value of the circle circumference:  25.132741228718345\n"
     ]
    }
   ],
   "source": [
    "# Importing the required library    \n",
    "import math    \n",
    "     \n",
    "# radius of the circle    \n",
    "r = 4    \n",
    "     \n",
    "# value of pi    \n",
    "pi_value = math.pi    \n",
    "     \n",
    "# circumference of the circle    \n",
    "print(\"The value of the circle circumference: \",2 * pi_value * r)    "
   ]
  },
  {
   "cell_type": "code",
   "execution_count": 22,
   "id": "a320a911-f679-4eee-86f8-3372de495b70",
   "metadata": {},
   "outputs": [
    {
     "name": "stdout",
     "output_type": "stream",
     "text": [
      "nan\n"
     ]
    }
   ],
   "source": [
    "# Importing the required library  \n",
    "import math  \n",
    "   \n",
    "# Printing the value of nan using the math module  \n",
    "print( math.nan )  "
   ]
  },
  {
   "cell_type": "code",
   "execution_count": 23,
   "id": "a20d681e-5b12-4133-a8af-f552383883ed",
   "metadata": {},
   "outputs": [
    {
     "name": "stdout",
     "output_type": "stream",
     "text": [
      "The ceiling value of 4.346 is : 5\n",
      "The floor value of 4.346 is : 4\n"
     ]
    }
   ],
   "source": [
    "# Python program to show how to use floor() and ceil() functions.  \n",
    "   \n",
    "# importing the math module  \n",
    "import math  \n",
    "   \n",
    "x = 4.346  \n",
    "   \n",
    "# returning the ceiling value of 4.346  \n",
    "print(\"The ceiling value of 4.346 is : \", end=\"\")  \n",
    "print( math.ceil(x) )  \n",
    "   \n",
    "# returning the floor value of 4.346  \n",
    "print(\"The floor value of 4.346 is : \", end=\"\")  \n",
    "print( math.floor(x) )  "
   ]
  },
  {
   "cell_type": "code",
   "execution_count": 24,
   "id": "16f3cf60-b662-41b0-8029-963c140cfa37",
   "metadata": {},
   "outputs": [
    {
     "name": "stdout",
     "output_type": "stream",
     "text": [
      "The factorial of 6 is :  720\n",
      "Cannot calculate factorial of a non-integral number\n"
     ]
    }
   ],
   "source": [
    "# Python program to show how to use function() functions.  \n",
    "   \n",
    "# importing the math module  \n",
    "import math  \n",
    "   \n",
    "x = 6  \n",
    "   \n",
    "# returning the factorial of 6  \n",
    "print( \"The factorial of 6 is : \", math.factorial(x) )  \n",
    "  \n",
    "# passing a non integral number  \n",
    "try:  \n",
    "    print( \"The factorial of 6.5 in: \", math.factorial(6.5) )  \n",
    "except:  \n",
    "    print( \"Cannot calculate factorial of a non-integral number\" )  "
   ]
  },
  {
   "cell_type": "code",
   "execution_count": 25,
   "id": "508371fb-79c6-4a88-867b-aca82aa1d87b",
   "metadata": {},
   "outputs": [
    {
     "name": "stdout",
     "output_type": "stream",
     "text": [
      "The absolute value of -45 is:  45.0\n"
     ]
    }
   ],
   "source": [
    "# Python program to show how to use fabs() functions.  \n",
    "   \n",
    "# importing the math module  \n",
    "import math  \n",
    "   \n",
    "x = -45  \n",
    "   \n",
    "# returning x's absolute value.  \n",
    "print( \"The absolute value of -45 is: \", math.fabs(x) )  "
   ]
  },
  {
   "cell_type": "code",
   "execution_count": 26,
   "id": "ed22ceef-28a4-41f5-aef4-af080db44c90",
   "metadata": {},
   "outputs": [
    {
     "name": "stdout",
     "output_type": "stream",
     "text": [
      "The exponenetial value of 4 is:  54.598150033144236\n",
      "The exponenetial value of -3 is:  0.049787068367863944\n",
      "The exponenetial value of 0.0 is:  1.0\n"
     ]
    }
   ],
   "source": [
    "# Python program to show how to use the exp() function.  \n",
    "   \n",
    "# importing the math module  \n",
    "import math  \n",
    "   \n",
    "# declaring some value  \n",
    "num1 = 4  \n",
    "num2 = -3  \n",
    "num3 = 0.00  \n",
    "   \n",
    "# passing above values to the exp() function  \n",
    "print( f\"The exponenetial value of {num1} is: \", math.exp(num1) )  \n",
    "print( f\"The exponenetial value of {num2} is: \", math.exp(num2) )  \n",
    "print( f\"The exponenetial value of {num3} is: \", math.exp(num3) )  "
   ]
  },
  {
   "cell_type": "code",
   "execution_count": 27,
   "id": "baa3e4a4-7915-4a8a-921f-2375ee4299e3",
   "metadata": {},
   "outputs": [
    {
     "name": "stdout",
     "output_type": "stream",
     "text": [
      "The value of 4 to the power of 5 is:  1024.0\n"
     ]
    }
   ],
   "source": [
    "# Python program to show how to use the pow() function.  \n",
    "   \n",
    "# importing the math module  \n",
    "import math  \n",
    "   \n",
    "x = 4  \n",
    "y = 5  \n",
    "# returning x to the power of y.  \n",
    "print( f\"The value of {x} to the power of {y} is: \", math.pow(x,y) )  "
   ]
  },
  {
   "cell_type": "code",
   "execution_count": 28,
   "id": "33cdda06-b895-48db-a53e-2fe4de54b240",
   "metadata": {},
   "outputs": [
    {
     "name": "stdout",
     "output_type": "stream",
     "text": [
      "The value of 4 to the power of 5 is:  1024\n"
     ]
    }
   ],
   "source": [
    "# importing the math module    \n",
    "import math    \n",
    "x = 4    \n",
    "y = 5    \n",
    "# returning x to the power of y.    \n",
    "print( f\"The value of {x} to the power of {y} is: \", x**y )    "
   ]
  },
  {
   "cell_type": "code",
   "execution_count": 29,
   "id": "ff0df1ee-d387-47b4-840f-27e244904265",
   "metadata": {},
   "outputs": [
    {
     "name": "stdout",
     "output_type": "stream",
     "text": [
      "The sine of pi/4 is :  0.7071067811865476\n",
      "The cosine of pi/4 is :  0.7071067811865476\n",
      "The tangent of pi/4 is :  0.9999999999999999\n"
     ]
    }
   ],
   "source": [
    "# Python program to show how to use the sin(), cos(), tan() function.  \n",
    "   \n",
    "# importing the math module  \n",
    "import math  \n",
    "   \n",
    "angle = math.pi / 4  \n",
    "   \n",
    "# returning the sine of pi/4  \n",
    "print( \"The sine of pi/4 is : \", math.sin( angle ) )  \n",
    "   \n",
    "# returning the cosine of pi/4  \n",
    "print( \"The cosine of pi/4 is : \", math.cos( angle ) )  \n",
    "   \n",
    "# returning the tangent of pi/4  \n",
    "print(\"The tangent of pi/4 is : \", math.tan( angle ))  "
   ]
  },
  {
   "cell_type": "code",
   "execution_count": 30,
   "id": "4027e63e-7463-4cce-9c8b-36b094c8a583",
   "metadata": {},
   "outputs": [
    {
     "name": "stdout",
     "output_type": "stream",
     "text": [
      "['__doc__', '__loader__', '__name__', '__package__', '__spec__', 'acos', 'acosh', 'asin', 'asinh', 'atan', 'atan2', 'atanh', 'cbrt', 'ceil', 'comb', 'copysign', 'cos', 'cosh', 'degrees', 'dist', 'e', 'erf', 'erfc', 'exp', 'exp2', 'expm1', 'fabs', 'factorial', 'floor', 'fmod', 'frexp', 'fsum', 'gamma', 'gcd', 'hypot', 'inf', 'isclose', 'isfinite', 'isinf', 'isnan', 'isqrt', 'lcm', 'ldexp', 'lgamma', 'log', 'log10', 'log1p', 'log2', 'modf', 'nan', 'nextafter', 'perm', 'pi', 'pow', 'prod', 'radians', 'remainder', 'sin', 'sinh', 'sqrt', 'sumprod', 'tan', 'tanh', 'tau', 'trunc', 'ulp']\n"
     ]
    }
   ],
   "source": [
    "# Importing the math module  \n",
    "import math  \n",
    "  \n",
    "functions = dir(math)  \n",
    "print( functions )  "
   ]
  },
  {
   "cell_type": "code",
   "execution_count": null,
   "id": "01a020f2-f3c1-421d-91a5-d0ac83b135b3",
   "metadata": {},
   "outputs": [],
   "source": []
  }
 ],
 "metadata": {
  "kernelspec": {
   "display_name": "Python 3 (ipykernel)",
   "language": "python",
   "name": "python3"
  },
  "language_info": {
   "codemirror_mode": {
    "name": "ipython",
    "version": 3
   },
   "file_extension": ".py",
   "mimetype": "text/x-python",
   "name": "python",
   "nbconvert_exporter": "python",
   "pygments_lexer": "ipython3",
   "version": "3.12.4"
  }
 },
 "nbformat": 4,
 "nbformat_minor": 5
}
