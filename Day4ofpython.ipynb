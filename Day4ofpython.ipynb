{
 "cells": [
  {
   "cell_type": "code",
   "execution_count": 1,
   "id": "c73d536a-079e-4150-b7a1-a2115d2a555a",
   "metadata": {},
   "outputs": [
    {
     "name": "stdout",
     "output_type": "stream",
     "text": [
      "E\n"
     ]
    }
   ],
   "source": [
    "str = \"HELLO\"\n",
    "print(str[1])"
   ]
  },
  {
   "cell_type": "code",
   "execution_count": 6,
   "id": "07ef1bcd-6778-4571-96b9-9cdf17d3aa50",
   "metadata": {},
   "outputs": [
    {
     "name": "stdout",
     "output_type": "stream",
     "text": [
      "Hello, Vinay\n"
     ]
    }
   ],
   "source": [
    "name = \"Vinay\"\n",
    "print(\"Hello, \" + name)"
   ]
  },
  {
   "cell_type": "code",
   "execution_count": 2,
   "id": "26aec2bd-ed9f-4325-8c9c-9d093fe72ffc",
   "metadata": {},
   "outputs": [
    {
     "name": "stdout",
     "output_type": "stream",
     "text": [
      "Hello Python\n",
      "Hello Python\n",
      "''Triple quotes are generally used for  \n",
      "    represent the multiline or \n",
      "    docstring\n"
     ]
    }
   ],
   "source": [
    "#Using single quotes  \n",
    "str1 = 'Hello Python'  \n",
    "print(str1)  \n",
    "#Using double quotes  \n",
    "str2 = \"Hello Python\"  \n",
    "print(str2)  \n",
    "  \n",
    "#Using triple quotes  \n",
    "str3 = '''''Triple quotes are generally used for  \n",
    "    represent the multiline or \n",
    "    docstring'''   \n",
    "print(str3)  "
   ]
  },
  {
   "cell_type": "code",
   "execution_count": 9,
   "id": "62428386-349b-440e-a6d1-df6ae2a245ad",
   "metadata": {},
   "outputs": [
    {
     "name": "stdout",
     "output_type": "stream",
     "text": [
      "H\n",
      "E\n",
      "L\n",
      "L\n",
      "O\n",
      "O\n"
     ]
    }
   ],
   "source": [
    "str = \"HELLO\"  \n",
    "print(str[0])  \n",
    "print(str[1])  \n",
    "print(str[2])  \n",
    "print(str[3])  \n",
    "print(str[4])  \n",
    "\n",
    "print(str[4])  "
   ]
  },
  {
   "cell_type": "code",
   "execution_count": 14,
   "id": "81650303-fd16-41b2-9676-c01896a384e4",
   "metadata": {},
   "outputs": [
    {
     "name": "stdout",
     "output_type": "stream",
     "text": [
      "Pythonlanguage\n",
      "ytho\n",
      "th\n",
      "Pyt\n",
      "onl\n"
     ]
    }
   ],
   "source": [
    "# Given String  \n",
    "str = \"Pythonlanguage\"  \n",
    "# Start Oth index to end  \n",
    "print(str[0:])  \n",
    "# Starts 1th index to 4th index  \n",
    "print(str[1:5])  \n",
    "# Starts 2nd index to 3rd index  \n",
    "print(str[2:4])  \n",
    "# Starts 0th to 2nd index  \n",
    "print(str[:3])  \n",
    "#Starts 4th to 6th index  \n",
    "print(str[4:7])  \n"
   ]
  },
  {
   "cell_type": "code",
   "execution_count": 15,
   "id": "1bb7b2c0-959a-40a2-bffc-925196d6880b",
   "metadata": {},
   "outputs": [
    {
     "name": "stdout",
     "output_type": "stream",
     "text": [
      "HelloHelloHello\n",
      "Hello world\n",
      "o\n",
      "ll\n",
      "False\n",
      "False\n",
      "C://python37\n",
      "The string str : Hello\n"
     ]
    }
   ],
   "source": [
    "str = \"Hello\"     \n",
    "str1 = \" world\"    \n",
    "print(str*3) # prints HelloHelloHello    \n",
    "print(str+str1)# prints Hello world     \n",
    "print(str[4]) # prints o                \n",
    "print(str[2:4]); # prints ll                    \n",
    "print('w' in str) # prints false as w is not present in str    \n",
    "print('wo' not in str1) # prints false as wo is present in str1.     \n",
    "print(r'C://python37') # prints C://python37 as it is written    \n",
    "print(\"The string str : %s\"%(str)) # prints The string str : Hello     "
   ]
  },
  {
   "cell_type": "markdown",
   "id": "f08f2560-3eb3-493b-9978-438c900de6e3",
   "metadata": {},
   "source": [
    "The format() method"
   ]
  },
  {
   "cell_type": "code",
   "execution_count": 16,
   "id": "96cc92af-5eba-4408-b685-01e485cb90ba",
   "metadata": {},
   "outputs": [
    {
     "name": "stdout",
     "output_type": "stream",
     "text": [
      "Devansh and Abhishek both are the best friend\n",
      "Rohit and Virat best players \n",
      "James,Peter,Ricky\n"
     ]
    }
   ],
   "source": [
    "# Using Curly braces  \n",
    "print(\"{} and {} both are the best friend\".format(\"Devansh\",\"Abhishek\"))  \n",
    "  \n",
    "#Positional Argument  \n",
    "print(\"{1} and {0} best players \".format(\"Virat\",\"Rohit\"))  \n",
    "  \n",
    "#Keyword Argument  \n",
    "print(\"{a},{b},{c}\".format(a = \"James\", b = \"Peter\", c = \"Ricky\"))  "
   ]
  },
  {
   "cell_type": "code",
   "execution_count": 17,
   "id": "b0c0a3d1-92db-40f8-a10d-d9bb1cf0c2ee",
   "metadata": {},
   "outputs": [
    {
     "name": "stdout",
     "output_type": "stream",
     "text": [
      "Hi I am Integer ... My value is 10\n",
      "Hi I am float ... My value is 1.290000\n",
      "Hi I am string ... My value is Devansh\n"
     ]
    }
   ],
   "source": [
    "Integer = 10;    \n",
    "Float = 1.290    \n",
    "String = \"Devansh\"    \n",
    "print(\"Hi I am Integer ... My value is %d\\nHi I am float ... My value is %f\\nHi I am string ... My value is %s\"%(Integer,Float,String))    "
   ]
  },
  {
   "cell_type": "code",
   "execution_count": null,
   "id": "52430d35-373c-42d5-910b-39bc16d39f0e",
   "metadata": {},
   "outputs": [],
   "source": []
  }
 ],
 "metadata": {
  "kernelspec": {
   "display_name": "Python 3 (ipykernel)",
   "language": "python",
   "name": "python3"
  },
  "language_info": {
   "codemirror_mode": {
    "name": "ipython",
    "version": 3
   },
   "file_extension": ".py",
   "mimetype": "text/x-python",
   "name": "python",
   "nbconvert_exporter": "python",
   "pygments_lexer": "ipython3",
   "version": "3.12.4"
  }
 },
 "nbformat": 4,
 "nbformat_minor": 5

}
