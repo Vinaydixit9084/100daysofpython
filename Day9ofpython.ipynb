{
 "cells": [
  {
   "cell_type": "markdown",
   "id": "ff16d248-f0a2-4393-bd67-166baf789f3f",
   "metadata": {},
   "source": [
    "STRINGS"
   ]
  },
  {
   "cell_type": "code",
   "execution_count": 1,
   "id": "40965842-54dd-4ffd-a8c3-6301cee50f09",
   "metadata": {},
   "outputs": [
    {
     "name": "stdout",
     "output_type": "stream",
     "text": [
      "Hello Python\n",
      "Hello Python\n",
      "''Triple quotes are generally used for  \n",
      "    represent the multiline or \n",
      "    docstring\n"
     ]
    }
   ],
   "source": [
    "#Using single quotes  \n",
    "str1 = 'Hello Python'  \n",
    "print(str1)  \n",
    "#Using double quotes  \n",
    "str2 = \"Hello Python\"  \n",
    "print(str2)  \n",
    "  \n",
    "#Using triple quotes  \n",
    "str3 = '''''Triple quotes are generally used for  \n",
    "    represent the multiline or \n",
    "    docstring'''   \n",
    "print(str3)  "
   ]
  },
  {
   "cell_type": "code",
   "execution_count": 3,
   "id": "4f3c6569-3803-40f5-adab-9f8942984b8a",
   "metadata": {},
   "outputs": [
    {
     "name": "stdout",
     "output_type": "stream",
     "text": [
      "H\n",
      "E\n",
      "L\n",
      "L\n",
      "O\n"
     ]
    }
   ],
   "source": [
    "str = \"HELLO\"  \n",
    "print(str[0])  \n",
    "print(str[1])  \n",
    "print(str[2])  \n",
    "print(str[3])  \n",
    "print(str[4])  \n"
   ]
  },
  {
   "cell_type": "code",
   "execution_count": 4,
   "id": "a11b5ede-eac2-442a-b352-9363a29c5bdf",
   "metadata": {},
   "outputs": [
    {
     "name": "stdout",
     "output_type": "stream",
     "text": [
      "PYTHONLANGUAGE\n",
      "YTHO\n",
      "TH\n",
      "PYT\n",
      "ONL\n"
     ]
    }
   ],
   "source": [
    "# Given String  \n",
    "str = \"PYTHONLANGUAGE\"  \n",
    "# Start Oth index to end  \n",
    "print(str[0:])  \n",
    "# Starts 1th index to 4th index  \n",
    "print(str[1:5])  \n",
    "# Starts 2nd index to 3rd index  \n",
    "print(str[2:4])  \n",
    "# Starts 0th to 2nd index  \n",
    "print(str[:3])  \n",
    "#Starts 4th to 6th index  \n",
    "print(str[4:7])  "
   ]
  },
  {
   "cell_type": "code",
   "execution_count": 5,
   "id": "c4f021de-5a28-4165-9c89-5581dcf4d248",
   "metadata": {},
   "outputs": [
    {
     "name": "stdout",
     "output_type": "stream",
     "text": [
      "E\n"
     ]
    }
   ],
   "source": [
    "str = \"PYTHONLANGUAGE\"\n",
    "print(str[-1])"
   ]
  },
  {
   "cell_type": "code",
   "execution_count": 6,
   "id": "d944c252-c7f9-4162-bfdf-3d4b1569e600",
   "metadata": {},
   "outputs": [
    {
     "name": "stdout",
     "output_type": "stream",
     "text": [
      "E\n",
      "G\n",
      "\n",
      "EGAUGNALNOHTYP\n",
      "T\n"
     ]
    }
   ],
   "source": [
    "str = \"PYTHONLANGUAGE\"\n",
    "print(str[-1])\n",
    "print(str[-2])\n",
    "print(str[-1:-4])\n",
    "# Reversing the given string  \n",
    "print(str[::-1])  \n",
    "print(str[-12])  "
   ]
  },
  {
   "cell_type": "code",
   "execution_count": 9,
   "id": "d0a64ff3-1bd0-4456-97d7-ed009ec6ab89",
   "metadata": {},
   "outputs": [
    {
     "name": "stdout",
     "output_type": "stream",
     "text": [
      "HELLO\n",
      "hello\n"
     ]
    }
   ],
   "source": [
    "str = \"HELLO\"    \n",
    "print(str)    \n",
    "str = \"hello\"    \n",
    "print(str) "
   ]
  },
  {
   "cell_type": "code",
   "execution_count": 11,
   "id": "0909b3a3-7612-4d86-a811-5397fae50229",
   "metadata": {},
   "outputs": [
    {
     "name": "stdout",
     "output_type": "stream",
     "text": [
      "HelloHelloHello\n",
      "Hello world\n",
      "o\n",
      "ll\n",
      "False\n",
      "False\n",
      "C://python37\n",
      "The string str : Hello\n"
     ]
    }
   ],
   "source": [
    "str = \"Hello\"     \n",
    "str1 = \" world\"    \n",
    "print(str*3) # prints HelloHelloHello    \n",
    "print(str+str1)# prints Hello world     \n",
    "print(str[4]) # prints o                \n",
    "print(str[2:4]); # prints ll                    \n",
    "print('w' in str) # prints false as w is not present in str    \n",
    "print('wo' not in str1) # prints false as wo is present in str1.     \n",
    "print(r'C://python37') # prints C://python37 as it is written    \n",
    "print(\"The string str : %s\"%(str)) # prints The string str : Hello     "
   ]
  },
  {
   "cell_type": "code",
   "execution_count": 12,
   "id": "f4fe527c-ba52-4ec0-bebb-6039e031463e",
   "metadata": {},
   "outputs": [
    {
     "name": "stdout",
     "output_type": "stream",
     "text": [
      "''They said, \"What's there?\"\n",
      "They said, \"What's going on?\"\n",
      "They said, \"What's going on?\"\n"
     ]
    }
   ],
   "source": [
    "# using triple quotes  \n",
    "print('''''They said, \"What's there?\"''')  \n",
    "  \n",
    "# escaping single quotes  \n",
    "print('They said, \"What\\'s going on?\"')  \n",
    "  \n",
    "# escaping double quotes  \n",
    "print(\"They said, \\\"What's going on?\\\"\")  "
   ]
  },
  {
   "cell_type": "markdown",
   "id": "c009f4ea-68be-4ce8-b348-ac56392c01c1",
   "metadata": {},
   "source": [
    "The format() method"
   ]
  },
  {
   "cell_type": "code",
   "execution_count": 14,
   "id": "862a433e-17eb-4c5a-a647-9300ed388233",
   "metadata": {},
   "outputs": [
    {
     "name": "stdout",
     "output_type": "stream",
     "text": [
      "Devansh and Abhishek both are the best friend\n",
      "Rohit and Virat best players \n",
      "James,Peter,Ricky\n"
     ]
    }
   ],
   "source": [
    "# Using Curly braces  \n",
    "print(\"{} and {} both are the best friend\".format(\"Devansh\",\"Abhishek\"))  \n",
    "  \n",
    "#Positional Argument  \n",
    "print(\"{1} and {0} best players \".format(\"Virat\",\"Rohit\"))  \n",
    "  \n",
    "#Keyword Argument  \n",
    "print(\"{a},{b},{c}\".format(a = \"James\", b = \"Peter\", c = \"Ricky\"))  "
   ]
  },
  {
   "cell_type": "code",
   "execution_count": null,
   "id": "1053323c-61cf-4077-b4db-0438dd4489ca",
   "metadata": {},
   "outputs": [],
   "source": []
  }
 ],
 "metadata": {
  "kernelspec": {
   "display_name": "Python 3 (ipykernel)",
   "language": "python",
   "name": "python3"
  },
  "language_info": {
   "codemirror_mode": {
    "name": "ipython",
    "version": 3
   },
   "file_extension": ".py",
   "mimetype": "text/x-python",
   "name": "python",
   "nbconvert_exporter": "python",
   "pygments_lexer": "ipython3",
   "version": "3.12.4"
  }
 },
 "nbformat": 4,
 "nbformat_minor": 5
}
