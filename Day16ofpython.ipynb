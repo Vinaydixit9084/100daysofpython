{
 "cells": [
  {
   "cell_type": "markdown",
   "id": "4c610d06-863e-4281-941a-6dee8766b495",
   "metadata": {},
   "source": [
    "Python Built-In Functions"
   ]
  },
  {
   "cell_type": "code",
   "execution_count": 1,
   "id": "e5342f37-df38-4e9a-9b5f-df9197cb281e",
   "metadata": {},
   "outputs": [
    {
     "name": "stdout",
     "output_type": "stream",
     "text": [
      "Absolute value of -40 is: 20\n",
      "Absolute value of -40.83 is: 20.83\n"
     ]
    }
   ],
   "source": [
    "#Python abs() Function Example\n",
    "#  integer number     \n",
    "integer = -20  \n",
    "print('Absolute value of -40 is:', abs(integer))  \n",
    "  \n",
    "#  floating number  \n",
    "floating = -20.83  \n",
    "print('Absolute value of -40.83 is:', abs(floating))  "
   ]
  },
  {
   "cell_type": "code",
   "execution_count": 2,
   "id": "9892eb53-738c-4990-9fe5-b9523486f383",
   "metadata": {},
   "outputs": [
    {
     "name": "stdout",
     "output_type": "stream",
     "text": [
      "True\n",
      "False\n",
      "False\n",
      "False\n",
      "True\n"
     ]
    }
   ],
   "source": [
    "#Python all() Function\n",
    "# all values true  \n",
    "k = [1, 3, 4, 6]  \n",
    "print(all(k))  \n",
    "  \n",
    "# all values false  \n",
    "k = [0, False]  \n",
    "print(all(k))  \n",
    "  \n",
    "# one false value  \n",
    "k = [1, 3, 7, 0]  \n",
    "print(all(k))  \n",
    "  \n",
    "# one true value  \n",
    "k = [0, False, 5]  \n",
    "print(all(k))  \n",
    "  \n",
    "# empty iterable  \n",
    "k = []  \n",
    "print(all(k))  "
   ]
  },
  {
   "cell_type": "code",
   "execution_count": 3,
   "id": "097c4c47-29e3-45af-ae5d-16c06359cc91",
   "metadata": {},
   "outputs": [
    {
     "name": "stdout",
     "output_type": "stream",
     "text": [
      "0b1010\n"
     ]
    }
   ],
   "source": [
    "x =  10  \n",
    "y =  bin(x)  \n",
    "print (y)  "
   ]
  },
  {
   "cell_type": "code",
   "execution_count": 4,
   "id": "58263e12-9393-41f4-82c8-38fd08131f98",
   "metadata": {},
   "outputs": [
    {
     "name": "stdout",
     "output_type": "stream",
     "text": [
      "[] is False\n",
      "[0] is True\n",
      "0.0 is False\n",
      "None is False\n",
      "True is True\n",
      "Easy string is True\n"
     ]
    }
   ],
   "source": [
    "#Python bool()\n",
    "test1 = []  \n",
    "print(test1,'is',bool(test1))  \n",
    "test1 = [0]  \n",
    "print(test1,'is',bool(test1))  \n",
    "test1 = 0.0  \n",
    "print(test1,'is',bool(test1))  \n",
    "test1 = None  \n",
    "print(test1,'is',bool(test1))  \n",
    "test1 = True  \n",
    "print(test1,'is',bool(test1))  \n",
    "test1 = 'Easy string'  \n",
    "print(test1,'is',bool(test1))  "
   ]
  },
  {
   "cell_type": "code",
   "execution_count": 5,
   "id": "3777f99e-b65b-4735-8178-f05e4e4d7279",
   "metadata": {},
   "outputs": [
    {
     "name": "stdout",
     "output_type": "stream",
     "text": [
      "b'Hello World.'\n"
     ]
    }
   ],
   "source": [
    "#Python bytes()\n",
    "string = \"Hello World.\"  \n",
    "array = bytes(string, 'utf-8')  \n",
    "print(array) "
   ]
  },
  {
   "cell_type": "code",
   "execution_count": 6,
   "id": "da009526-d401-4fdd-985c-61358e1d8123",
   "metadata": {},
   "outputs": [
    {
     "name": "stdout",
     "output_type": "stream",
     "text": [
      "False\n"
     ]
    }
   ],
   "source": [
    "#Python callable() Function Example\n",
    "\n",
    "x = 8  \n",
    "print(callable(x)) "
   ]
  },
  {
   "cell_type": "code",
   "execution_count": 9,
   "id": "6d579b9f-f31d-4581-b53e-e6873f07ee6a",
   "metadata": {},
   "outputs": [
    {
     "name": "stdout",
     "output_type": "stream",
     "text": [
      "True\n",
      "False\n",
      "True\n",
      "False\n"
     ]
    }
   ],
   "source": [
    "#Python any() Function Example\n",
    "\n",
    "l = [4, 3, 2, 0]                              \n",
    "print(any(l))                                   \n",
    "  \n",
    "l = [0, False]  \n",
    "print(any(l))  \n",
    "  \n",
    "l = [0, False, 5]  \n",
    "print(any(l))  \n",
    "  \n",
    "l = []  \n",
    "print(any(l))  "
   ]
  },
  {
   "cell_type": "code",
   "execution_count": 10,
   "id": "c38e6adb-4cca-4f0b-82ea-06de352a3463",
   "metadata": {},
   "outputs": [
    {
     "name": "stdout",
     "output_type": "stream",
     "text": [
      "'Python is interesting'\n",
      "'Pyth\\ufffdn is interesting'\n",
      "Pythön is interesting\n"
     ]
    }
   ],
   "source": [
    "#Python ascii() Function Example\n",
    "\n",
    "normalText = 'Python is interesting'  \n",
    "print(ascii(normalText))  \n",
    "  \n",
    "otherText = 'Pyth�n is interesting'  \n",
    "print(ascii(otherText))  \n",
    "  \n",
    "print('Pyth\\xf6n is interesting')  "
   ]
  },
  {
   "cell_type": "code",
   "execution_count": 11,
   "id": "b27e53a9-bf99-4a93-bb0f-547f07a52fcf",
   "metadata": {},
   "outputs": [
    {
     "name": "stdout",
     "output_type": "stream",
     "text": [
      "bytearray(b'Python is a programming language.')\n"
     ]
    }
   ],
   "source": [
    "#Python bytearray() Example\n",
    "\n",
    "string = \"Python is a programming language.\"  \n",
    "  \n",
    "# string with encoding 'utf-8'  \n",
    "arr = bytearray(string, 'utf-8')  \n",
    "print(arr)  "
   ]
  },
  {
   "cell_type": "code",
   "execution_count": 12,
   "id": "5f23da22-8c46-45f7-8194-2df70c2145cc",
   "metadata": {},
   "outputs": [
    {
     "name": "stdout",
     "output_type": "stream",
     "text": [
      "9\n"
     ]
    }
   ],
   "source": [
    "#Python eval() Function Example\n",
    "\n",
    "x = 8  \n",
    "print(eval('x + 1'))  \n"
   ]
  },
  {
   "cell_type": "code",
   "execution_count": 15,
   "id": "62a75203-7f35-4798-b87b-505ab1da446b",
   "metadata": {},
   "outputs": [
    {
     "name": "stdout",
     "output_type": "stream",
     "text": [
      "9.0\n",
      "8.19\n",
      "-24.27\n",
      "-17.19\n"
     ]
    }
   ],
   "source": [
    "#Python float() Example\n",
    "\n",
    "# for integers  \n",
    "print(float(9))  \n",
    "  \n",
    "# for floats  \n",
    "print(float(8.19))  \n",
    "  \n",
    "# for string floats  \n",
    "print(float(\"-24.27\"))  \n",
    "  \n",
    "# for string floats with whitespaces  \n",
    "print(float(\"     -17.19\\n\"))  \n",
    "  \n"
   ]
  },
  {
   "cell_type": "code",
   "execution_count": 16,
   "id": "886c5db9-6ae8-49a4-8001-3d1ee3ee54b4",
   "metadata": {},
   "outputs": [
    {
     "name": "stdout",
     "output_type": "stream",
     "text": [
      "123\n",
      "123.456790\n",
      "1100\n"
     ]
    }
   ],
   "source": [
    "#Python format() Function Example\n",
    "\n",
    "# d, f and b are a type  \n",
    "  \n",
    "# integer  \n",
    "print(format(123, \"d\"))  \n",
    "  \n",
    "# float arguments  \n",
    "print(format(123.4567898, \"f\"))  \n",
    "  \n",
    "# binary format  \n",
    "print(format(12, \"b\"))  "
   ]
  },
  {
   "cell_type": "code",
   "execution_count": 17,
   "id": "ba328dc6-c9c1-4e37-a1c0-bff43de37807",
   "metadata": {},
   "outputs": [
    {
     "name": "stdout",
     "output_type": "stream",
     "text": [
      "Frozen set is: frozenset({'s', 'm', 'o', 't', 'r'})\n",
      "Empty frozen set is: frozenset()\n"
     ]
    }
   ],
   "source": [
    "#Python frozenset() Example\n",
    "\n",
    "# tuple of letters  \n",
    "letters = ('m', 'r', 'o', 't', 's')  \n",
    "  \n",
    "fSet = frozenset(letters)  \n",
    "print('Frozen set is:', fSet)  \n",
    "print('Empty frozen set is:', frozenset())  "
   ]
  },
  {
   "cell_type": "code",
   "execution_count": 18,
   "id": "2cbd60d5-4188-4ebe-af13-1426140060e5",
   "metadata": {},
   "outputs": [
    {
     "name": "stdout",
     "output_type": "stream",
     "text": [
      "The age is: 22\n",
      "The age is: 22\n"
     ]
    }
   ],
   "source": [
    "#Python getattr() Function Example\n",
    "\n",
    "class Details:  \n",
    "    age = 22  \n",
    "    name = \"Phill\"  \n",
    "  \n",
    "details = Details()  \n",
    "print('The age is:', getattr(details, \"age\"))  \n",
    "print('The age is:', details.age)  "
   ]
  },
  {
   "cell_type": "code",
   "execution_count": 19,
   "id": "5dd93370-5481-40ce-af6a-f480362f05f5",
   "metadata": {},
   "outputs": [
    {
     "name": "stdout",
     "output_type": "stream",
     "text": [
      "The age is: 22\n"
     ]
    }
   ],
   "source": [
    "#Python globals() Function Example\n",
    "\n",
    "age = 22  \n",
    "  \n",
    "globals()['age'] = 22  \n",
    "print('The age is:', age)  "
   ]
  },
  {
   "cell_type": "code",
   "execution_count": 20,
   "id": "90cbfe73-34c3-4dc8-875a-8413dafd103a",
   "metadata": {},
   "outputs": [
    {
     "name": "stdout",
     "output_type": "stream",
     "text": [
      "1\n",
      "2\n",
      "3\n",
      "4\n",
      "5\n"
     ]
    }
   ],
   "source": [
    "#Python iter() Function Example\n",
    "\n",
    "# list of numbers  \n",
    "list = [1,2,3,4,5]  \n",
    "  \n",
    "listIter = iter(list)  \n",
    "  \n",
    "# prints '1'  \n",
    "print(next(listIter))  \n",
    "  \n",
    "# prints '2'  \n",
    "print(next(listIter))  \n",
    "  \n",
    "# prints '3'  \n",
    "print(next(listIter))  \n",
    "  \n",
    "# prints '4'  \n",
    "print(next(listIter))  \n",
    "  \n",
    "# prints '5'  \n",
    "print(next(listIter))  "
   ]
  },
  {
   "cell_type": "code",
   "execution_count": null,
   "id": "63edff10-ad94-4fd9-b9a3-def0fbdc01c7",
   "metadata": {},
   "outputs": [],
   "source": []
  }
 ],
 "metadata": {
  "kernelspec": {
   "display_name": "Python 3 (ipykernel)",
   "language": "python",
   "name": "python3"
  },
  "language_info": {
   "codemirror_mode": {
    "name": "ipython",
    "version": 3
   },
   "file_extension": ".py",
   "mimetype": "text/x-python",
   "name": "python",
   "nbconvert_exporter": "python",
   "pygments_lexer": "ipython3",
   "version": "3.12.4"
  }
 },
 "nbformat": 4,
 "nbformat_minor": 5

}
