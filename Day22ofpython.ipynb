{
 "cells": [
  {
   "cell_type": "markdown",
   "id": "e676c1bf-071a-4df9-b302-99cc8c0e6fe0",
   "metadata": {},
   "source": [
    "List Comprehension"
   ]
  },
  {
   "cell_type": "code",
   "execution_count": 47,
   "id": "a3384d88-cc35-4e96-9f3f-46c332894463",
   "metadata": {},
   "outputs": [
    {
     "name": "stdout",
     "output_type": "stream",
     "text": [
      "['Piyali', 'Hiya', 'Rudrashish', 'Lipi']\n"
     ]
    }
   ],
   "source": [
    "Person = [\"Piyali\", \"Hiya\", \"Rudrashish\", \"Badsha\", \"Lipi\"]  \n",
    "newlist = [x for x in Person if \"i\" in x]  \n",
    "print(newlist)  "
   ]
  },
  {
   "cell_type": "code",
   "execution_count": 48,
   "id": "bdb3f68b-fa05-4604-ae8d-cb99327f20ef",
   "metadata": {},
   "outputs": [
    {
     "name": "stdout",
     "output_type": "stream",
     "text": [
      "[9, 25, 1, 49, 9, 81]\n"
     ]
    }
   ],
   "source": [
    "#using for loop to iterate through items in list  \n",
    "numbers = [3, 5, 1, 7, 3, 9]  \n",
    "num = []  \n",
    "  \n",
    "for n in numbers:  \n",
    "    num.append(n**2)  \n",
    "  \n",
    "print(num)  "
   ]
  },
  {
   "cell_type": "code",
   "execution_count": 49,
   "id": "485354ad-6e67-4f01-97c0-fa54851e93df",
   "metadata": {},
   "outputs": [
    {
     "name": "stdout",
     "output_type": "stream",
     "text": [
      "[9, 25, 1, 49, 9, 81]\n"
     ]
    }
   ],
   "source": [
    "#using list comprehension to iterate through list items  \n",
    "numbers = [3, 5, 1, 7, 3, 9]  \n",
    "  \n",
    "num = [n**2 for n in numbers]  \n",
    "  \n",
    "print(num)  "
   ]
  },
  {
   "cell_type": "code",
   "execution_count": 50,
   "id": "7f22a6f5-ed25-4163-b9ff-57d19705653d",
   "metadata": {},
   "outputs": [
    {
     "name": "stdout",
     "output_type": "stream",
     "text": [
      "Time taken by for loop: 1.0556905269622803\n",
      "Time taken by list comprehension: 1.112380027770996\n"
     ]
    }
   ],
   "source": [
    "# Import module to keep track of time  \n",
    "import time  \n",
    "   \n",
    "# defining function to execute for loop  \n",
    "def for_loop(num):  \n",
    "    l = []  \n",
    "    for i in range(num):  \n",
    "        l.append(i + 10)  \n",
    "    return l  \n",
    "   \n",
    "# defining function to execute list comprehension  \n",
    "def list_comprehension(num):  \n",
    "    return [i + 10 for i in range(num)]  \n",
    "   \n",
    "# Giving values to the functions  \n",
    "   \n",
    "# Calculating time taken by for loop  \n",
    "start = time.time()  \n",
    "for_loop(10000000)  \n",
    "end = time.time()  \n",
    "  \n",
    "print('Time taken by for loop:', (end - start))  \n",
    "   \n",
    "# Calculating time taken by list comprehension  \n",
    "start = time.time()  \n",
    "list_comprehension(10000000)  \n",
    "end = time.time()  \n",
    "  \n",
    "print('Time taken by list comprehension:', (end - start))  \n"
   ]
  },
  {
   "cell_type": "code",
   "execution_count": 51,
   "id": "cb9f24cf-733f-4cd7-b564-bd844bc65fc5",
   "metadata": {},
   "outputs": [
    {
     "name": "stdout",
     "output_type": "stream",
     "text": [
      "['p', 'y', 't', 'h', 'o', 'n']\n"
     ]
    }
   ],
   "source": [
    "letters = [ alpha for alpha in 'python' ]  \n",
    "print( letters)  "
   ]
  },
  {
   "cell_type": "code",
   "execution_count": 52,
   "id": "fa750e3c-3cd4-4855-8acf-0e1dc85ee3fe",
   "metadata": {},
   "outputs": [
    {
     "name": "stdout",
     "output_type": "stream",
     "text": [
      "[1, 3, 5, 7, 9, 11, 13, 15, 17, 19, 21, 23, 25, 27, 29]\n"
     ]
    }
   ],
   "source": [
    "number_list = [ num for num in range(30) if num % 2 != 0]  \n",
    "print(number_list)  "
   ]
  },
  {
   "cell_type": "code",
   "execution_count": 54,
   "id": "929aadb9-5cd5-43a1-831f-086dd306a326",
   "metadata": {},
   "outputs": [
    {
     "name": "stdout",
     "output_type": "stream",
     "text": [
      "[11, 15, 10, 16, 6, 17, 10]\n"
     ]
    }
   ],
   "source": [
    "def Sum(n):  \n",
    "    dsum = 0  \n",
    "    for ele in str(n):  \n",
    "        dsum += int(ele)  \n",
    "    return dsum  \n",
    "List = [47, 69, 73, 97, 105, 845, 307]  \n",
    "newList = [Sum(i) for i in List if i & 1]  \n",
    "print(newList)  "
   ]
  },
  {
   "cell_type": "code",
   "execution_count": 55,
   "id": "a2edca79-c723-4e75-81f8-4f437aeb7a50",
   "metadata": {},
   "outputs": [
    {
     "name": "stdout",
     "output_type": "stream",
     "text": [
      "[[0, 1, 2, 3, 4], [1, 2, 3, 4, 5], [2, 3, 4, 5, 6]]\n"
     ]
    }
   ],
   "source": [
    "nested_list = []  \n",
    "   \n",
    "for _ in range(3):  \n",
    "       \n",
    "    # Append an empty sublist inside the list  \n",
    "    nested_list.append([])  \n",
    "       \n",
    "    for __ in range(5):  \n",
    "        nested_list[_].append(__ + _)  \n",
    "           \n",
    "print(nested_list)  "
   ]
  },
  {
   "cell_type": "code",
   "execution_count": null,
   "id": "8521a307-e788-4207-8646-0c7fbd1afdd2",
   "metadata": {},
   "outputs": [],
   "source": []
  }
 ],
 "metadata": {
  "kernelspec": {
   "display_name": "Python 3 (ipykernel)",
   "language": "python",
   "name": "python3"
  },
  "language_info": {
   "codemirror_mode": {
    "name": "ipython",
    "version": 3
   },
   "file_extension": ".py",
   "mimetype": "text/x-python",
   "name": "python",
   "nbconvert_exporter": "python",
   "pygments_lexer": "ipython3",
   "version": "3.12.4"
  }
 },
 "nbformat": 4,
 "nbformat_minor": 5
}
