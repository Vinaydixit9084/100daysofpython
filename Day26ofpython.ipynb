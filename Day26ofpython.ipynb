{
 "cells": [
  {
   "cell_type": "markdown",
   "id": "74afef04-07f5-4413-9368-1f8dc906bb5f",
   "metadata": {},
   "source": [
    "LOOPS IN PYTHON"
   ]
  },
  {
   "cell_type": "markdown",
   "id": "8430bc19-2dfd-43c7-a103-0b61c0db784a",
   "metadata": {},
   "source": [
    "#FOR LOOP"
   ]
  },
  {
   "cell_type": "code",
   "execution_count": 1,
   "id": "0c3f6bd1-5a90-4fa4-bc38-c2050f8159ce",
   "metadata": {},
   "outputs": [
    {
     "name": "stdout",
     "output_type": "stream",
     "text": [
      "1\n",
      "2\n",
      "3\n",
      "4\n",
      "5\n",
      "6\n",
      "7\n",
      "8\n",
      "9\n",
      "10\n"
     ]
    }
   ],
   "source": [
    "#Print the first 10 natural numbers using for loop.\n",
    "n = 11\n",
    "for i in range(1,n):\n",
    "    print(i)"
   ]
  },
  {
   "cell_type": "code",
   "execution_count": 3,
   "id": "cc128fe2-fc19-45be-b217-2c0c9b4c5c77",
   "metadata": {},
   "outputs": [
    {
     "name": "stdout",
     "output_type": "stream",
     "text": [
      "0\n",
      "2\n",
      "4\n",
      "6\n",
      "8\n",
      "10\n",
      "12\n",
      "14\n",
      "16\n",
      "18\n"
     ]
    }
   ],
   "source": [
    "#Python program to print all the even numbers within the given range.\n",
    "given_range = 19\n",
    "for i in range(given_range):\n",
    "    if i%2 == 0:\n",
    "        print(i)"
   ]
  },
  {
   "cell_type": "code",
   "execution_count": 4,
   "id": "97096d7b-9c3b-484b-91de-ec59635e3cde",
   "metadata": {},
   "outputs": [
    {
     "name": "stdout",
     "output_type": "stream",
     "text": [
      "1\n",
      "2\n",
      "3\n",
      "4\n",
      "5\n",
      "6\n",
      "7\n",
      "8\n",
      "9\n",
      "10\n"
     ]
    }
   ],
   "source": [
    "#Python program to calculate the sum of all numbers from 1 to a given number.\n",
    "given_number = 10\n",
    "sum = 0\n",
    "for i in range(1,given_number+1):\n",
    "    sum+=i\n",
    "    print(i)"
   ]
  },
  {
   "cell_type": "code",
   "execution_count": 6,
   "id": "c7853687-7619-4784-948b-b6c3f6a8af4b",
   "metadata": {},
   "outputs": [
    {
     "name": "stdout",
     "output_type": "stream",
     "text": [
      "1\n",
      "4\n",
      "9\n",
      "16\n",
      "25\n"
     ]
    }
   ],
   "source": [
    "#Python program to calculate the sum of all the odd numbers within the given range.\n",
    "given_range = 10\n",
    "sum = 0\n",
    "for i in range(given_range):\n",
    "    if i%2 != 0:\n",
    "        sum+=i \n",
    "        print(sum)"
   ]
  },
  {
   "cell_type": "code",
   "execution_count": 7,
   "id": "52f5bd91-515e-4488-acc4-d07e11efdb47",
   "metadata": {},
   "outputs": [
    {
     "name": "stdout",
     "output_type": "stream",
     "text": [
      "5  x 0  = 0\n",
      "5  x 1  = 5\n",
      "5  x 2  = 10\n",
      "5  x 3  = 15\n",
      "5  x 4  = 20\n",
      "5  x 5  = 25\n",
      "5  x 6  = 30\n",
      "5  x 7  = 35\n",
      "5  x 8  = 40\n",
      "5  x 9  = 45\n",
      "5  x 10  = 50\n"
     ]
    }
   ],
   "source": [
    "#Python program to print a multiplication table of a given number\n",
    "given_number = 5\n",
    "for i in range(11):\n",
    "    print(given_number,\" x\",i,\" =\",5*i)"
   ]
  },
  {
   "cell_type": "code",
   "execution_count": 8,
   "id": "bad9940a-05f1-478f-a7b4-509b1f621280",
   "metadata": {},
   "outputs": [
    {
     "name": "stdout",
     "output_type": "stream",
     "text": [
      "1\n",
      "4\n",
      "55\n",
      "66\n"
     ]
    }
   ],
   "source": [
    "#Python program to display numbers from a list using a for loop.\n",
    "list = [1,4,55,66]\n",
    "for i in list:\n",
    "    print(i)"
   ]
  },
  {
   "cell_type": "code",
   "execution_count": 13,
   "id": "a30e8370-9f8e-4caf-ae19-7917a8a02dc1",
   "metadata": {},
   "outputs": [
    {
     "name": "stdout",
     "output_type": "stream",
     "text": [
      "1\n",
      "2\n",
      "3\n",
      "4\n",
      "5\n",
      "6\n"
     ]
    }
   ],
   "source": [
    "#Python program to count the total number of digits in a number.\n",
    "given_number = 124355\n",
    "given_number=str(given_number)\n",
    "count=0\n",
    "for i in given_number:\n",
    "    count+=1\n",
    "    print(count)"
   ]
  },
  {
   "cell_type": "code",
   "execution_count": 15,
   "id": "421c6aa4-3299-4a17-82e8-57c800ac86b1",
   "metadata": {},
   "outputs": [
    {
     "name": "stdout",
     "output_type": "stream",
     "text": [
      "The string madam is a Palindrome.\n"
     ]
    }
   ],
   "source": [
    "#Python program to check if the given string is a palindrome.\n",
    "# given string\n",
    "given_string = \"madam\"\n",
    "reverse_string = \"\"\n",
    " \n",
    "\n",
    "for i in given_string:\n",
    "    reverse_string = i + reverse_string  \n",
    " \n",
    "if(given_string == reverse_string):\n",
    "   print(\"The string\", given_string,\"is a Palindrome.\")\n",
    " \n",
    "# else the given string is not a palindrome   \n",
    "else:\n",
    "   print(\"The string\",given_string,\"is NOT a Palindrome.\")"
   ]
  },
  {
   "cell_type": "code",
   "execution_count": 16,
   "id": "d98f3be9-34ae-498d-804e-bd5788c9d038",
   "metadata": {},
   "outputs": [
    {
     "name": "stdin",
     "output_type": "stream",
     "text": [
      " Python\n"
     ]
    },
    {
     "name": "stdout",
     "output_type": "stream",
     "text": [
      "nohtyP\n"
     ]
    }
   ],
   "source": [
    "#Python program that accepts a word from the user and reverses it.\n",
    "given_string = input()\n",
    "reverse_string = \"\"\n",
    " \n",
    "for i in given_string:\n",
    "    reverse_string = i + reverse_string  \n",
    " \n",
    "# print the reverse_string variable\n",
    "print(reverse_string)"
   ]
  },
  {
   "cell_type": "code",
   "execution_count": 26,
   "id": "80fda566-3265-4e11-a01e-87ba1c353b61",
   "metadata": {},
   "outputs": [
    {
     "name": "stdout",
     "output_type": "stream",
     "text": [
      "The given number 370 is an Amstrong number.\n"
     ]
    }
   ],
   "source": [
    "#Python program to check if a given number is an Armstrong number\n",
    "given_number = 370\n",
    "\n",
    "given_number = str(given_number)\n",
    "string_length = len(given_number)\n",
    " \n",
    "sum = 0\n",
    " \n",
    "# iterate through the given string\n",
    "for i in given_number:\n",
    "    sum += int(i)**string_length\n",
    " \n",
    "if sum == int(given_number):\n",
    "    print(\"The given number\",given_number,\"is an Amstrong number.\")\n",
    " \n",
    "else:\n",
    "    print(\"The given number\",given_number,\"is Not an Amstrong number.\")"
   ]
  },
  {
   "cell_type": "code",
   "execution_count": 28,
   "id": "17dbef13-4dc5-49f6-a603-4a610bafbff4",
   "metadata": {},
   "outputs": [
    {
     "name": "stdout",
     "output_type": "stream",
     "text": [
      "1 is an odd number.\n",
      "3 is an odd number.\n",
      "5 is an odd number.\n",
      "6 is an even number.\n",
      "99 is an odd number.\n",
      "134 is an even number.\n",
      "55 is an odd number.\n"
     ]
    }
   ],
   "source": [
    "#Python program to count the number of even and odd numbers from a series of numbers.\n",
    "num_list = [1,3,5,6,99,134,55]\n",
    " \n",
    "for i in num_list:\n",
    " \n",
    "    if i%2==0:\n",
    "        print(i,\"is an even number.\")\n",
    " \n",
    "    else:\n",
    "        print(i,\"is an odd number.\")"
   ]
  },
  {
   "cell_type": "code",
   "execution_count": 30,
   "id": "363bc34b-93e2-42d7-a140-fc4046ea9b28",
   "metadata": {},
   "outputs": [
    {
     "name": "stdout",
     "output_type": "stream",
     "text": [
      "Non-prime numbers between 10 and 30 are:\n",
      "10\n",
      "12\n",
      "14\n",
      "15\n",
      "16\n",
      "18\n",
      "20\n",
      "21\n",
      "22\n",
      "24\n",
      "25\n",
      "26\n",
      "27\n",
      "28\n"
     ]
    }
   ],
   "source": [
    "#Python program to display all numbers within a range except the prime numbers.\n",
    "import math\n",
    " \n",
    "def is_not_prime(n):\n",
    " \n",
    "    flag = False\n",
    " \n",
    "    for i in range(2, int(math.sqrt(n)) + 1):\n",
    " \n",
    "        if n % i == 0:\n",
    "            flag = True\n",
    "    return flag\n",
    " \n",
    "range_starts = 10\n",
    "range_ends = 30\n",
    "print(\"Non-prime numbers between\",range_starts,\"and\", range_ends,\"are:\")\n",
    " \n",
    "for number in filter(is_not_prime, range(range_starts, range_ends)):\n",
    "    print(number)"
   ]
  },
  {
   "cell_type": "code",
   "execution_count": 37,
   "id": "bb97eb37-3071-4d53-b733-a3d52684e75e",
   "metadata": {},
   "outputs": [
    {
     "name": "stdout",
     "output_type": "stream",
     "text": [
      "The factorial of  5  is  120\n"
     ]
    }
   ],
   "source": [
    "#Python program to find the factorial of a given number.\n",
    "given_number= 5\n",
    " \n",
    "factorial = 1\n",
    " \n",
    "# iterate till the given number\n",
    "for i in range(1, given_number + 1):\n",
    "    factorial = factorial * i\n",
    " \n",
    "print(\"The factorial of \", given_number, \" is \", factorial)"
   ]
  },
  {
   "cell_type": "code",
   "execution_count": 39,
   "id": "cfff857c-7fe6-463a-bce1-8a22c47a2bb9",
   "metadata": {},
   "outputs": [
    {
     "name": "stdin",
     "output_type": "stream",
     "text": [
      " python975\n"
     ]
    },
    {
     "name": "stdout",
     "output_type": "stream",
     "text": [
      " The input string python975 has 6 letters and 3 digits.\n"
     ]
    }
   ],
   "source": [
    "#Python program that accepts a string and calculates the number of digits and letters.\n",
    "user_input = input()\n",
    " \n",
    "digits = 0\n",
    "letters = 0\n",
    " \n",
    "# iterate through the input string\n",
    "for i in user_input:\n",
    " \n",
    "    if i.isdigit():\n",
    " \n",
    "        digits=digits+1\n",
    " \n",
    "    elif i.isalpha():\n",
    "        letters=letters+1\n",
    " \n",
    "print(\" The input string\",user_input, \"has\", letters, \"letters and\", digits,\"digits.\")"
   ]
  },
  {
   "cell_type": "code",
   "execution_count": 43,
   "id": "b37afeb9-c2c7-42c9-b0cf-2ff7f103ceda",
   "metadata": {},
   "outputs": [
    {
     "name": "stdin",
     "output_type": "stream",
     "text": [
      " Python@123\n"
     ]
    },
    {
     "name": "stdout",
     "output_type": "stream",
     "text": [
      "Valid Password\n"
     ]
    }
   ],
   "source": [
    "#Python program to check the validity of password input by users.\n",
    "\n",
    "password = input()\n",
    " \n",
    "# set up flags for each criteria\n",
    "# of a valid password\n",
    "has_valid_length = False\n",
    "has_lower_case = False\n",
    "has_upper_case = False\n",
    "has_digits = False\n",
    "has_special_characters = False\n",
    " \n",
    " \n",
    "# first verify if the length of password is\n",
    "# higher or equal to 8 and lower or equal to 16\n",
    "if (len(password) >= 8) and (len(password)<=16):\n",
    " \n",
    "    has_valid_length = True\n",
    " \n",
    "    # iterate through each characters\n",
    "    # of the password\n",
    "    for i in password:\n",
    " \n",
    "        # check if there are lowercase alphabets\n",
    "        if (i.islower()):\n",
    "                has_lower_case = True                   \n",
    " \n",
    "        # check if there are uppercase alphabets\n",
    "        if (i.isupper()):\n",
    "                has_upper_case = True                   \n",
    " \n",
    "        # check if the password has digits\n",
    "        if (i.isdigit()):\n",
    "                has_digits = True                       \n",
    " \n",
    "        # check if the password has special characters\n",
    "        if(i==\"@\" or i==\"$\" or i==\"_\"or i==\"#\" or i==\"^\" or i==\"&\" or i==\"*\"):\n",
    "                has_special_characters = True           \n",
    " \n",
    " \n",
    "if (has_valid_length==True and has_lower_case ==True and has_upper_case == True and has_digits == True and has_special_characters == True):\n",
    "    print(\"Valid Password\")\n",
    "else:\n",
    "        print(\"Invalid Password\")"
   ]
  },
  {
   "cell_type": "code",
   "execution_count": 45,
   "id": "442d9563-d287-4c79-8ba8-4d5c5e67fa58",
   "metadata": {},
   "outputs": [
    {
     "name": "stdout",
     "output_type": "stream",
     "text": [
      "The month of January has 31 days.\n",
      "The month of April has 30 days.\n",
      "The month of August has 31 days.\n",
      "The month of June has 30 days.\n",
      "Dovember is not a valid month name.\n"
     ]
    }
   ],
   "source": [
    "#Python program to convert the month name to a number of days.\n",
    "\n",
    "month = [\"January\", \"April\", \"August\",\"June\",\"Dovember\"]\n",
    " \n",
    "for i in month:\n",
    "    if i == \"February\":\n",
    "            print(\"The month of February has 28/29 days\")\n",
    "    elif i in (\"April\", \"June\", \"September\", \"November\"):\n",
    "            print(\"The month of\",i,\"has 30 days.\")\n",
    "    elif i in (\"January\", \"March\", \"May\", \"July\", \"August\", \"October\", \"December\"):\n",
    "            print(\"The month of\",i,\"has 31 days.\")\n",
    "    else:\n",
    "            print(i,\"is not a valid month name.\")"
   ]
  },
  {
   "cell_type": "code",
   "execution_count": null,
   "id": "dc63f936-b02b-4084-84e1-fe169e39e0f5",
   "metadata": {},
   "outputs": [],
   "source": []
  }
 ],
 "metadata": {
  "kernelspec": {
   "display_name": "Python 3 (ipykernel)",
   "language": "python",
   "name": "python3"
  },
  "language_info": {
   "codemirror_mode": {
    "name": "ipython",
    "version": 3
   },
   "file_extension": ".py",
   "mimetype": "text/x-python",
   "name": "python",
   "nbconvert_exporter": "python",
   "pygments_lexer": "ipython3",
   "version": "3.12.4"
  }
 },
 "nbformat": 4,
 "nbformat_minor": 5

}
