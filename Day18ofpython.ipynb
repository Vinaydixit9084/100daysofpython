{
 "cells": [
  {
   "cell_type": "markdown",
   "id": "665fef89-de7e-4025-b6b8-ab5cdd625541",
   "metadata": {},
   "source": [
    "File Handling"
   ]
  },
  {
   "cell_type": "code",
   "execution_count": 7,
   "id": "e5968c74-7f30-48d5-a254-7cb1bbb756cb",
   "metadata": {},
   "outputs": [
    {
     "name": "stdout",
     "output_type": "stream",
     "text": [
      "The existing file is opened successfully in Python\n"
     ]
    }
   ],
   "source": [
    " #opens the file file.txt in read mode    \n",
    "fileptr = open(\"file.txt\",\"r\")    \n",
    "    \n",
    "if fileptr:    \n",
    "    print(\"The existing file is opened successfully in Python\")    \n",
    "    \n",
    "#closes the opened file    \n",
    "fileptr.close()  "
   ]
  },
  {
   "cell_type": "code",
   "execution_count": 18,
   "id": "346583d5-ea57-4f21-9802-72c8340418fa",
   "metadata": {},
   "outputs": [
    {
     "name": "stdout",
     "output_type": "stream",
     "text": [
      "<class 'str'>\n",
      " Python ha\n"
     ]
    }
   ],
   "source": [
    "#open the file.txt in read mode. causes error if no such file exists.    \n",
    "fileptr = open(\"file2.txt\",\"r\")  \n",
    "#stores all the data of the file into the variable content    \n",
    "content = fileptr.read(10)   \n",
    "# prints the type of the data stored in the file    \n",
    "print(type(content))      \n",
    "#prints the content of the file    \n",
    "print(content)       \n",
    "#closes the opened file    \n",
    "fileptr.close()    "
   ]
  },
  {
   "cell_type": "code",
   "execution_count": 19,
   "id": "843d0cb8-91fb-4ce1-b615-0e186ca95bca",
   "metadata": {},
   "outputs": [
    {
     "name": "stdout",
     "output_type": "stream",
     "text": [
      " Python has an easy syntax and user-friendly interaction. Python has an easy syntax and user-friendly interaction. Python has an easy syntax and user-friendly interaction. Python has an easy syntax and user-friendly interaction. Python has an easy syntax and user-friendly interaction.\n"
     ]
    }
   ],
   "source": [
    "#open the file.txt in read mode. causes an error if no such file exists.    \n",
    "fileptr = open(\"file2.txt\",\"r\");     \n",
    "#running a for loop     \n",
    "for i in fileptr:    \n",
    "    print(i) # i contains each line of the file     "
   ]
  },
  {
   "cell_type": "code",
   "execution_count": 21,
   "id": "b85682ce-d489-4d86-93b3-8d86287ec210",
   "metadata": {},
   "outputs": [
    {
     "name": "stdout",
     "output_type": "stream",
     "text": [
      "Line1: H\n",
      "Line2: e\n",
      "Line3: l\n",
      "Line4: l\n",
      "Line5: o\n",
      "Line6: \n",
      "Line7: C\n",
      "Line8: o\n",
      "Line9: d\n",
      "Line10: e\n",
      "Line11: r\n",
      "Line12: s\n",
      "Line13: \n",
      "Line14: P\n",
      "Line15: y\n",
      "Line16: t\n",
      "Line17: h\n",
      "Line18: o\n",
      "Line19: n\n",
      "Line20: \n"
     ]
    }
   ],
   "source": [
    "A = [\"Hello\\n\", \"Coders\\n\", \"Python\\n\"]  \n",
    "f1 = open('myfile.txt', 'w')  \n",
    "f1.writelines(A)  \n",
    "f1.close()  \n",
    "f1 = open('myfile.txt', 'r')  \n",
    "Lines = f1.read()  \n",
    "count = 0  \n",
    "for line in Lines:  \n",
    "    count += 1  \n",
    "    print(\"Line{}: {}\".format(count, line.strip()))  \n"
   ]
  },
  {
   "cell_type": "code",
   "execution_count": 22,
   "id": "a03fcfa6-2dc7-40f4-ba0f-df9e91e0840e",
   "metadata": {},
   "outputs": [
    {
     "name": "stdout",
     "output_type": "stream",
     "text": [
      " Python has an easy syntax and user-friendly interaction. Python has an easy syntax and user-friendly interaction. Python has an easy syntax and user-friendly interaction. Python has an easy syntax and user-friendly interaction. Python has an easy syntax and user-friendly interaction.\n",
      "\n"
     ]
    }
   ],
   "source": [
    "#open the file.txt in read mode. causes error if no such file exists.    \n",
    "fileptr = open(\"file2.txt\",\"r\");     \n",
    "#stores all the data of the file into the variable content    \n",
    "content = fileptr.readline()     \n",
    "content1 = fileptr.readline()  \n",
    "#prints the content of the file    \n",
    "print(content)     \n",
    "print(content1)  \n",
    "#closes the opened file    \n",
    "fileptr.close()    "
   ]
  },
  {
   "cell_type": "code",
   "execution_count": 24,
   "id": "69fb1c05-1df3-45b3-9168-439f49555c11",
   "metadata": {},
   "outputs": [
    {
     "name": "stdout",
     "output_type": "stream",
     "text": [
      "[' Python has an easy syntax and user-friendly interaction. Python has an easy syntax and user-friendly interaction. Python has an easy syntax and user-friendly interaction. Python has an easy syntax and user-friendly interaction. Python has an easy syntax and user-friendly interaction.']\n"
     ]
    }
   ],
   "source": [
    "#open the file.txt in read mode. causes error if no such file exists.    \n",
    "fileptr = open(\"file2.txt\",\"r\");     \n",
    "    \n",
    "#stores all the data of the file into the variable content    \n",
    "content = fileptr.readlines()     \n",
    "  \n",
    "#prints the content of the file    \n",
    "print(content)     \n",
    "    \n",
    "#closes the opened file    \n",
    "fileptr.close()    "
   ]
  },
  {
   "cell_type": "code",
   "execution_count": 26,
   "id": "6bc1c7bf-1023-4b07-934c-dc14db171901",
   "metadata": {},
   "outputs": [
    {
     "name": "stdout",
     "output_type": "stream",
     "text": [
      "Line1: Hello\n",
      "Line2: Coders\n",
      "Line3: Python\n"
     ]
    }
   ],
   "source": [
    "A = [\"Hello\\n\", \"Coders\\n\", \"Python\\n\"]  \n",
    "f1 = open('myfile.txt', 'w')  \n",
    "f1.writelines(A)  \n",
    "f1.close()  \n",
    "f1 = open('myfile.txt', 'r')  \n",
    "Lines = f1.readlines()  \n",
    "count = 0  \n",
    "for line in Lines:  \n",
    "    count += 1  \n",
    "    print(\"Line{}: {}\".format(count, line.strip()))  "
   ]
  },
  {
   "cell_type": "code",
   "execution_count": null,
   "id": "f70e9d7d-fabb-4a10-8bec-f9730bdc97e7",
   "metadata": {},
   "outputs": [],
   "source": []
  }
 ],
 "metadata": {
  "kernelspec": {
   "display_name": "Python 3 (ipykernel)",
   "language": "python",
   "name": "python3"
  },
  "language_info": {
   "codemirror_mode": {
    "name": "ipython",
    "version": 3
   },
   "file_extension": ".py",
   "mimetype": "text/x-python",
   "name": "python",
   "nbconvert_exporter": "python",
   "pygments_lexer": "ipython3",
   "version": "3.12.4"
  }
 },
 "nbformat": 4,
 "nbformat_minor": 5
}
