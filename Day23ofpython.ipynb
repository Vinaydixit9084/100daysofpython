{
 "cells": [
  {
   "cell_type": "markdown",
   "id": "874857eb-6bf6-4fdb-a0e5-764677cef2b3",
   "metadata": {},
   "source": [
    "Python Collection Module"
   ]
  },
  {
   "cell_type": "code",
   "execution_count": 3,
   "id": "7d512333-3d8c-4518-9427-6e69bfb96d2e",
   "metadata": {},
   "outputs": [
    {
     "name": "stdout",
     "output_type": "stream",
     "text": [
      "('James', 24, 'M')\n"
     ]
    }
   ],
   "source": [
    "pranshu = ('James', 24, 'M')    \n",
    "print(pranshu)    "
   ]
  },
  {
   "cell_type": "code",
   "execution_count": 4,
   "id": "2d2eda51-0fa4-4a19-96a2-d8a2a6e38b18",
   "metadata": {},
   "outputs": [
    {
     "name": "stdout",
     "output_type": "stream",
     "text": [
      "A 10\n",
      "C 12\n",
      "B 11\n",
      "D 13\n"
     ]
    }
   ],
   "source": [
    "#OrderedDict()\n",
    "import collections    \n",
    "d1=collections.OrderedDict()    \n",
    "d1['A']=10    \n",
    "d1['C']=12    \n",
    "d1['B']=11    \n",
    "d1['D']=13    \n",
    "    \n",
    "for k,v in d1.items():    \n",
    "    print (k,v)  "
   ]
  },
  {
   "cell_type": "code",
   "execution_count": 5,
   "id": "0f79137e-95c3-4e9d-947d-8f60d8c488be",
   "metadata": {},
   "outputs": [
    {
     "name": "stdout",
     "output_type": "stream",
     "text": [
      "0\n"
     ]
    }
   ],
   "source": [
    "#defaultdict()\n",
    "from collections import defaultdict      \n",
    "number = defaultdict(int)      \n",
    "number['one'] = 1      \n",
    "number['two'] = 2      \n",
    "print(number['three'])    "
   ]
  },
  {
   "cell_type": "code",
   "execution_count": 6,
   "id": "17f3c31a-ef9a-4f82-826f-ee3ceb1b9a7c",
   "metadata": {},
   "outputs": [
    {
     "name": "stdout",
     "output_type": "stream",
     "text": [
      "3\n"
     ]
    }
   ],
   "source": [
    "from collections import Counter      \n",
    "c = Counter()    \n",
    "list = [1,2,3,4,5,7,8,5,9,6,10]      \n",
    "Counter(list)    \n",
    "Counter({1:5,2:4})      \n",
    "list = [1,2,4,7,5,1,6,7,6,9,1]      \n",
    "c = Counter(list)      \n",
    "print(c[1])     "
   ]
  },
  {
   "cell_type": "code",
   "execution_count": 7,
   "id": "c02a80a4-62d3-4e89-a38a-3c88ef69fddb",
   "metadata": {},
   "outputs": [
    {
     "name": "stdout",
     "output_type": "stream",
     "text": [
      "deque(['x', 'y', 'z'])\n"
     ]
    }
   ],
   "source": [
    "from collections import deque    \n",
    "list = [\"x\",\"y\",\"z\"]    \n",
    "deq = deque(list)    \n",
    "print(deq)    "
   ]
  },
  {
   "cell_type": "code",
   "execution_count": null,
   "id": "7f629c2b-ea1f-48c3-b784-12131f97d686",
   "metadata": {},
   "outputs": [],
   "source": []
  }
 ],
 "metadata": {
  "kernelspec": {
   "display_name": "Python 3 (ipykernel)",
   "language": "python",
   "name": "python3"
  },
  "language_info": {
   "codemirror_mode": {
    "name": "ipython",
    "version": 3
   },
   "file_extension": ".py",
   "mimetype": "text/x-python",
   "name": "python",
   "nbconvert_exporter": "python",
   "pygments_lexer": "ipython3",
   "version": "3.12.4"
  }
 },
 "nbformat": 4,
 "nbformat_minor": 5
}
