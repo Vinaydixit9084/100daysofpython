{
 "cells": [
  {
   "cell_type": "markdown",
   "id": "468bf15b-d3f3-4c2e-bce9-96d2332c7123",
   "metadata": {},
   "source": [
    "Arrays"
   ]
  },
  {
   "cell_type": "code",
   "execution_count": 1,
   "id": "f5589bd6-50e8-45e6-8af0-ff09ceb147d1",
   "metadata": {},
   "outputs":[ 
    {
     "name": "stdout",
     "output_type": "stream",
     "text": [
      "First element is: 2\n",
      "Second element is: 4\n",
      "Third element is: 5\n",
      "Forth element is: 6\n",
      "last element is: 6\n",
      "Second last element is: 5\n",
      "Third last element is: 4\n",
      "Forth last element is: 2\n",
      "2 4 5 6 6 5 4 2\n"
     ]
    }
   ],
   "source": [
    "import array as arr    \n",
    "a = arr.array('i', [2, 4, 5, 6])    \n",
    "print(\"First element is:\", a[0])    \n",
    "print(\"Second element is:\", a[1])   \n",
    "print(\"Third element is:\", a[2])  \n",
    "print(\"Forth element is:\", a[3])  \n",
    "print(\"last element is:\", a[-1])    \n",
    "print(\"Second last element is:\", a[-2])    \n",
    "print(\"Third last element is:\", a[-3])    \n",
    "print(\"Forth last element is:\", a[-4])    \n",
    "print(a[0], a[1], a[2], a[3], a[-1],a[-2],a[-3],a[-4])  "
   ]
  },
  {
   "cell_type": "code",
   "execution_count": 2,
   "id": "67a466d6-0bc6-4b2b-a695-68fc5779a9fe",
   "metadata": {},
   "outputs": [
    {
     "name": "stdout",
     "output_type": "stream",
     "text": [
      "array('i', [0, 2, 3, 5, 7, 10])\n",
      "array('i', [0, 2, 3, 5, 7, 8])\n",
      "array('i', [0, 2, 4, 6, 8, 8])\n"
     ]
    }
   ],
   "source": [
    "import array as arr    \n",
    "numbers = arr.array('i', [1, 2, 3, 5, 7, 10])    \n",
    "       \n",
    "numbers[0] = 0       \n",
    "print(numbers)            \n",
    "    \n",
    "numbers[5] = 8      \n",
    "print(numbers)         \n",
    "\n",
    "numbers[2:5] = arr.array('i', [4, 6, 8])      \n",
    "print(numbers)            "
   ]
  },
  {
   "cell_type": "code",
   "execution_count": 6,
   "id": "e35a8357-22b9-4325-a6c3-6c8213e6338f",
   "metadata": {},
   "outputs": [
    {
     "name": "stdout",
     "output_type": "stream",
     "text": [
      "First element is: 4\n",
      "Second element is: 5\n",
      "Third element is: 6\n",
      "fourth element is: 7\n"
     ]
    }
   ],
   "source": [
    "import array as arr\n",
    "a = arr.array('i', [4,5,6,7])\n",
    "print(\"First element is:\", a[0])\n",
    "print(\"Second element is:\", a[1])\n",
    "print(\"Third element is:\", a[2])\n",
    "print(\"fourth element is:\", a[3])\n"
   ]
  },
  {
   "cell_type": "code",
   "execution_count": 7,
   "id": "9efa01ba-409c-4f84-8564-06a12d2d7e97",
   "metadata": {},
   "outputs": [
    {
     "name": "stdout",
     "output_type": "stream",
     "text": [
      "array('i', [0, 4, 34, 3, 5])\n",
      "array('i', [0, 4, 34, 9, 5])\n"
     ]
    }
   ],
   "source": [
    "import array as arr\n",
    "numbers = arr.array('i', [3,4,34,3,5])\n",
    "numbers[0] = 0\n",
    "print(numbers)\n",
    "\n",
    "numbers[3] = 9\n",
    "print(numbers)"
   ]
  },
  {
   "cell_type": "code",
   "execution_count": 8,
   "id": "b24ef597-13cb-45da-82f9-fb3a8e4163a0",
   "metadata": {},
   "outputs": [
    {
     "name": "stdout",
     "output_type": "stream",
     "text": [
      "array('i', [1, 2, 3, 4])\n"
     ]
    }
   ],
   "source": [
    "import array as arr  \n",
    "number = arr.array('i', [1, 2, 3, 3, 4])  \n",
    "del number[2]                            \n",
    "print(number)  "
   ]
  },
  {
   "cell_type": "code",
   "execution_count": 9,
   "id": "3cd0a091-0053-4b6b-b22e-7ef6c231864f",
   "metadata": {},
   "outputs": [
    {
     "name": "stdout",
     "output_type": "stream",
     "text": [
      "array('i', [43, 23, 34, 55])\n"
     ]
    }
   ],
   "source": [
    "import array as arr\n",
    "number = arr.array('i', [43,23,34,55,22])\n",
    "del number[4]\n",
    "print(number)"
   ]
  },
  {
   "cell_type": "code",
   "execution_count": 10,
   "id": "dd24ef80-8e36-4698-a330-f359d003b579",
   "metadata": {},
   "outputs": [
    {
     "name": "stdout",
     "output_type": "stream",
     "text": [
      "Array c =  array('d', [1.1, 2.1, 3.1, 2.6, 7.8, 3.7, 8.6])\n"
     ]
    }
   ],
   "source": [
    "a=arr.array('d',[1.1 , 2.1 ,3.1,2.6,7.8])  \n",
    "b=arr.array('d',[3.7,8.6])  \n",
    "c=arr.array('d')  \n",
    "c=a+b  \n",
    "print(\"Array c = \",c)  "
   ]
  },
  {
   "cell_type": "code",
   "execution_count": 12,
   "id": "6297a7da-a116-4aad-9f95-0b17a4d16159",
   "metadata": {},
   "outputs": [
    {
     "name": "stdout",
     "output_type": "stream",
     "text": [
      "First element: 4\n",
      "Second element: 7\n",
      "Second last element: 22\n"
     ]
    }
   ],
   "source": [
    "import array as arr    \n",
    "x = arr.array('i', [4, 7, 19, 22])  \n",
    "print(\"First element:\", x[0])    \n",
    "print(\"Second element:\", x[1])    \n",
    "print(\"Second last element:\", x[-1])    "
   ]
  },
  {
   "cell_type": "code",
   "execution_count": null,
   "id": "f1e3d6c6-7f9a-4f6b-863c-5aca3b838997",
   "metadata": {},
   "outputs": [],
   "source": []
  }
 ],
 "metadata": {
  "kernelspec": {
   "display_name": "Python 3 (ipykernel)",
   "language": "python",
   "name": "python3"
  },
  "language_info": {
   "codemirror_mode": {
    "name": "ipython",
    "version": 3
   },
   "file_extension": ".py",
   "mimetype": "text/x-python",
   "name": "python",
   "nbconvert_exporter": "python",
   "pygments_lexer": "ipython3",
   "version": "3.12.4"
  }
 },
 "nbformat": 4,
 "nbformat_minor": 5

}
