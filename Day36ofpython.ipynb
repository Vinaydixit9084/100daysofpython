{
 "cells": [
  {
   "cell_type": "markdown",
   "id": "0a9f0117-4da3-4028-a321-b6fe2f4a6af9",
   "metadata": {},
   "source": [
    "Python Multiprocessing"
   ]
  },
  {
   "cell_type": "code",
   "execution_count": 1,
   "id": "bea202f3-d141-44ae-9c41-0f81e82a22ef",
   "metadata": {},
   "outputs": [
    {
     "name": "stdout",
     "output_type": "stream",
     "text": [
      "Both processes are finished\n"
     ]
    }
   ],
   "source": [
    "# Python multiprocessing example  \n",
    "# importing the multiprocessing module  \n",
    "  \n",
    "import multiprocessing  \n",
    "def cube(n):  \n",
    "   # This function will print the cube of the given number  \n",
    "   print(\"The Cube is: {}\".format(n * n * n))  \n",
    "  \n",
    "def square(n):  \n",
    "    # This function will print the square of the given number  \n",
    "   print(\"The Square is: {}\".format(n * n))  \n",
    "  \n",
    "if __name__ == \"__main__\":  \n",
    "   # creating two processes  \n",
    "   process1 = multiprocessing.Process(target= square, args=(5, ))  \n",
    "   process2 = multiprocessing.Process(target= cube, args=(5, ))  \n",
    "  \n",
    "   # Here we start the process 1  \n",
    "   process1.start()  \n",
    "   # Here we start process 2  \n",
    "   process2.start()  \n",
    "  \n",
    "   # The join() method is used to wait for process 1 to complete  \n",
    "   process1.join()  \n",
    "   # It is used to wait for process 1 to complete  \n",
    "   process2.join()  \n",
    "  \n",
    "   # Print if both processes are completed  \n",
    "   print(\"Both processes are finished\")  "
   ]
  },
  {
   "cell_type": "code",
   "execution_count": 2,
   "id": "620b14cb-6c1e-4457-b8d5-7af0a16a90a4",
   "metadata": {},
   "outputs": [
    {
     "name": "stdout",
     "output_type": "stream",
     "text": [
      "pushing items to the queue:\n",
      "item no:  1   Apple\n",
      "item no:  2   Orange\n",
      "item no:  3   Guava\n",
      "item no:  4   Papaya\n",
      "item no:  5   Banana\n",
      "\n",
      "popping items from the queue:\n",
      "item no:  0   Apple\n",
      "item no:  1   Orange\n",
      "item no:  2   Guava\n",
      "item no:  3   Papaya\n",
      "item no:  4   Banana\n"
     ]
    }
   ],
   "source": [
    "# Importing Queue Class  \n",
    "  \n",
    "from multiprocessing import Queue  \n",
    "  \n",
    "fruits = ['Apple', 'Orange', 'Guava', 'Papaya', 'Banana']  \n",
    "count = 1  \n",
    "# creating a queue object  \n",
    "queue = Queue()  \n",
    "print('pushing items to the queue:')  \n",
    "for fr in fruits:  \n",
    "    print('item no: ', count, ' ', fr)  \n",
    "    queue.put(fr)  \n",
    "    count += 1  \n",
    "  \n",
    "print('\\npopping items from the queue:')  \n",
    "count = 0  \n",
    "while not queue.empty():  \n",
    "    print('item no: ', count, ' ', queue.get())  \n",
    "    count += 1  "
   ]
  },
  {
   "cell_type": "code",
   "execution_count": 5,
   "id": "67d5a127-67d9-4243-8226-19f8d101f30b",
   "metadata": {},
   "outputs": [
    {
     "name": "stdout",
     "output_type": "stream",
     "text": [
      "The distance between New York and Texas is:  2503.04243426357 K.M\n",
      "The distance between New York and Texas is:  1556.985899699659 Miles\n"
     ]
    }
   ],
   "source": [
    "from math import radians, cos, sin, asin, sqrt  \n",
    "# For calculating the distance in Kilometres   \n",
    "def distance_1(La1, La2, Lo1, Lo2):  \n",
    "       \n",
    "    # The math module contains the function name \"radians\" which is used for converting the degrees value into radians.  \n",
    "    Lo1 = radians(Lo1)  \n",
    "    Lo2 = radians(Lo2)  \n",
    "    La1 = radians(La1)  \n",
    "    La2 = radians(La2)  \n",
    "        \n",
    "    # Using the \"Haversine formula\"  \n",
    "    D_Lo = Lo2 - Lo1  \n",
    "    D_La = La2 - La1  \n",
    "    P = sin(D_La / 2)**2 + cos(La1) * cos(La2) * sin(D_Lo / 2)**2  \n",
    "   \n",
    "    Q = 2 * asin(sqrt(P))  \n",
    "      \n",
    "    # The radius of earth in kilometres.  \n",
    "    R_km = 6371  \n",
    "        \n",
    "    # Then, we will calculate the result  \n",
    "    return(Q * R_km)  \n",
    "      \n",
    "            \n",
    "       \n",
    "# driver code  \n",
    "La1 = 40.7128  \n",
    "La2 = 31.9686  \n",
    "Lo1 = -74.0060  \n",
    "Lo2 = -99.9018  \n",
    "print (\"The distance between New York and Texas is: \", distance_1(La1, La2, Lo1, Lo2), \"K.M\")  \n",
    "# For calculating the distance in Miles  \n",
    "def distance_2(La1, La2, Lo1, Lo2):  \n",
    "       \n",
    "    # The math module contains the function name \"radians\" which is used for converting the degrees value into radians.  \n",
    "    Lo1 = radians(Lo1)  \n",
    "    Lo2 = radians(Lo2)  \n",
    "    La1 = radians(La1)  \n",
    "    La2 = radians(La2)  \n",
    "        \n",
    "    # Using the \"Haversine formula\"  \n",
    "    D_Lo = Lo2 - Lo1  \n",
    "    D_La = La2 - La1  \n",
    "    P = sin(D_La / 2)**2 + cos(La1) * cos(La2) * sin(D_Lo / 2)**2  \n",
    "   \n",
    "    Q = 2 * asin(sqrt(P))  \n",
    "    # The radius of earth in Miles.  \n",
    "    R_Mi = 3963  \n",
    "        \n",
    "    # Then, we will calculate the result  \n",
    "    return(Q * R_Mi)  \n",
    "print (\"The distance between New York and Texas is: \", distance_2(La1, La2, Lo1, Lo2), \"Miles\")  "
   ]
  },
  {
   "cell_type": "code",
   "execution_count": null,
   "id": "6117c9e5-fda9-480f-91ab-f471989a9945",
   "metadata": {},
   "outputs": [],
   "source": []
  }
 ],
 "metadata": {
  "kernelspec": {
   "display_name": "Python 3 (ipykernel)",
   "language": "python",
   "name": "python3"
  },
  "language_info": {
   "codemirror_mode": {
    "name": "ipython",
    "version": 3
   },
   "file_extension": ".py",
   "mimetype": "text/x-python",
   "name": "python",
   "nbconvert_exporter": "python",
   "pygments_lexer": "ipython3",
   "version": "3.12.4"
  }
 },
 "nbformat": 4,
 "nbformat_minor": 5
}
