{
 "cells": [
  {
   "cell_type": "code",
   "execution_count": 1,
   "id": "b5c0ccce-ce76-47eb-92ba-e89cd55ab24f",
   "metadata": {},
   "outputs": [
    {
     "name": "stdout",
     "output_type": "stream",
     "text": [
      "12th Element of the Fibonacci Series: 144\n"
     ]
    }
   ],
   "source": [
    "# defining the function for Fibonacci Series  \n",
    "def Fibonacci_Series(n):   \n",
    "    # using if-else conditional statement  \n",
    "    if n < 0:  \n",
    "        print(\"Oops! Incorrect input\")  \n",
    "    # First Fibonacci number is 0  \n",
    "    elif n == 0:   \n",
    "        return (0)   \n",
    "    # Second Fibonacci number is 1   \n",
    "    elif n == 1:  \n",
    "        return (1)  \n",
    "    else:  \n",
    "        return (Fibonacci_Series(n - 1) + Fibonacci_Series(n - 2))   \n",
    "# printing the 12th element of the Fibonacci Series  \n",
    "print(\"12th Element of the Fibonacci Series:\", Fibonacci_Series(12))"
   ]
  },
  {
   "cell_type": "code",
   "execution_count": 3,
   "id": "79bbe9cd-3a97-4bb8-86cc-4bc3158adfa2",
   "metadata": {},
   "outputs": [
    {
     "name": "stdout",
     "output_type": "stream",
     "text": [
      "12th Term of Fibonacci Series: 144\n"
     ]
    }
   ],
   "source": [
    "# defining the function to find the nth Fibonacci Number  \n",
    "def Fibonacci_series(x):  \n",
    "    # Taking First two terms of the Fibonacci Series as 0 and 1  \n",
    "    fib_Array = [0, 1]  \n",
    "    # Here, as we know that the first two terms of Fibonacci Series are 0 and 1,  \n",
    "    # we append the remaining values (Fibonacci numbers from index 2 to x)  \n",
    "    # in the array using recursion and return the last element.   \n",
    "    # In the range function, we take range(2, x + 1) instead of range(2, x).  \n",
    "    # This is because range function in python iterates until the value  \n",
    "    # before the upper limit. So, if we take from 2 to x, it would only  \n",
    "    # iterate from second to (x - 1)th element.  \n",
    "    for n in range(2, x + 1):  \n",
    "        fib_Array.append(fib_Array[n - 1] + fib_Array[n - 2])  \n",
    "    return fib_Array[x]  \n",
    "print(\"12th Term of Fibonacci Series:\", Fibonacci_series(12))"
   ]
  },
  {
   "cell_type": "code",
   "execution_count": 4,
   "id": "e879b0d0-73f0-4761-a7c1-ea1d08dd0d1f",
   "metadata": {},
   "outputs": [
    {
     "name": "stdout",
     "output_type": "stream",
     "text": [
      "12th element of the Fibonacci Series: 144\n"
     ]
    }
   ],
   "source": [
    "# defing the function to return the nth element of the Fibonacci Series  \n",
    "def Fibonacci_series(x):   \n",
    "    # assiging the variables  \n",
    "    m = 0  \n",
    "    n = 1  \n",
    "    # using the if-elif-else conditional statements  \n",
    "    if x < 0:  \n",
    "        print(\"Wrong input\")   \n",
    "    elif x == 0:  \n",
    "        return m   \n",
    "    elif x == 1:   \n",
    "        return n  \n",
    "    else:  \n",
    "        # using the for-loop   \n",
    "        for i in range(2, x + 1):   \n",
    "            o = m + n  \n",
    "            m = n   \n",
    "            n = o   \n",
    "        return n   \n",
    "# printing the twelveth term of the Fibonacci Series  \n",
    "print(\"12th element of the Fibonacci Series:\", Fibonacci_series(12))  "
   ]
  },
  {
   "cell_type": "code",
   "execution_count": 5,
   "id": "0ee20007-6484-4676-ba38-ff37b4544b5b",
   "metadata": {},
   "outputs": [
    {
     "name": "stdout",
     "output_type": "stream",
     "text": [
      "12th element of the Fibonacci series: 144\n"
     ]
    }
   ],
   "source": [
    "# defining the function  \n",
    "def Fibonacci_series(x):   \n",
    "  # creating an array in the function  \n",
    "   fib_Array = [0] * (x + 1)  \n",
    "   fib_Array[1] = 1  \n",
    "   # adding elements of the series to the array using addition of previous two elements.  \n",
    "   for n in range (2, x + 1):  \n",
    "      fib_Array[n] = fib_Array[n - 1] + fib_Array[n - 2]   \n",
    "   return fib_Array[x]  \n",
    "if __name__ == \"__main__\":  \n",
    "   print(\"12th element of the Fibonacci series:\", Fibonacci_series(12))  "
   ]
  },
  {
   "cell_type": "code",
   "execution_count": 8,
   "id": "05387fce-0e97-426b-a11c-e8920d864e1c",
   "metadata": {},
   "outputs": [
    {
     "name": "stdout",
     "output_type": "stream",
     "text": [
      "The Original Dataset we defined in the program: \n",
      " [[32, nan, 34, 47], [17, nan, 71, 53], [19, 29, nan, 79], [nan, 31, 23, 37], [19, nan, 79, 53]]\n",
      "The imputed dataset after replacing missing values from it: \n",
      " [[32.   30.   34.   47.  ]\n",
      " [17.   30.   71.   53.  ]\n",
      " [19.   29.   51.75 79.  ]\n",
      " [21.75 31.   23.   37.  ]\n",
      " [19.   30.   79.   53.  ]]\n"
     ]
    }
   ],
   "source": [
    "# Import numpy module as nmp  \n",
    "import numpy as nmp  \n",
    "# Importing SimpleImputer class from sklearn impute module  \n",
    "from sklearn.impute import SimpleImputer  \n",
    "# Setting up imputer function variable  \n",
    "imputerFunc = SimpleImputer(missing_values = nmp.nan, strategy ='mean')  \n",
    "# Defining a dataset  \n",
    "dataSet = [[32, nmp.nan, 34, 47], [17, nmp.nan, 71, 53], [19, 29, nmp.nan, 79], [nmp.nan, 31, 23, 37], [19, nmp.nan, 79, 53]]  \n",
    "# Print original dataset  \n",
    "print(\"The Original Dataset we defined in the program: \\n\", dataSet)  \n",
    "# Imputing dataset by replacing missing values  \n",
    "imputerFunc = imputerFunc.fit(dataSet)  \n",
    "dataSet2 = imputerFunc.transform(dataSet)  \n",
    "# Printing imputed dataset  \n",
    "print(\"The imputed dataset after replacing missing values from it: \\n\", dataSet2)  "
   ]
  },
  {
   "cell_type": "code",
   "execution_count": null,
   "id": "5eee7de4-5a1c-47fe-8d36-f9a85d2288b8",
   "metadata": {},
   "outputs": [],
   "source": []
  }
 ],
 "metadata": {
  "kernelspec": {
   "display_name": "Python 3 (ipykernel)",
   "language": "python",
   "name": "python3"
  },
  "language_info": {
   "codemirror_mode": {
    "name": "ipython",
    "version": 3
   },
   "file_extension": ".py",
   "mimetype": "text/x-python",
   "name": "python",
   "nbconvert_exporter": "python",
   "pygments_lexer": "ipython3",
   "version": "3.12.4"
  }
 },
 "nbformat": 4,
 "nbformat_minor": 5
}
