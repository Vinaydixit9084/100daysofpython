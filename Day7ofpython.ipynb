{
 "cells": [
  {
   "cell_type": "markdown",
   "id": "82366ca8-2104-43c7-b3e9-85b8afdd9e7d",
   "metadata": {},
   "source": [
    "WHILE LOOP"
   ]
  },
  {
   "cell_type": "code",
   "execution_count": 10,
   "id": "584bece4-7a97-4d1b-a28d-515327cee2fd",
   "metadata": {},
   "outputs": [
    {
     "name": "stdout",
     "output_type": "stream",
     "text": [
      "1 2 3 4 5 6 7 8 9 10 "
     ]
    }
   ],
   "source": [
    "i=1  \n",
    "while i<=10:  \n",
    "    print(i, end=' ')  \n",
    "    i+=1  "
   ]
  },
  {
   "cell_type": "code",
   "execution_count": 11,
   "id": "340c7606-c6a2-489a-80ba-2890717575e9",
   "metadata": {},
   "outputs": [
    {
     "name": "stdout",
     "output_type": "stream",
     "text": [
      "Count: 5\n",
      "Count: 4\n",
      "Count: 3\n",
      "Count: 2\n",
      "Count: 1\n",
      "Blastoff!\n"
     ]
    }
   ],
   "source": [
    "# Countdown from 5 to 1\n",
    "count = 5\n",
    "while count > 0:\n",
    "    print(\"Count:\", count)\n",
    "    count -= 1\n",
    "print(\"Blastoff!\")"
   ]
  },
  {
   "cell_type": "code",
   "execution_count": 12,
   "id": "f905e6e8-583c-4c68-8285-9e27c1f0195b",
   "metadata": {},
   "outputs": [
    {
     "name": "stdout",
     "output_type": "stream",
     "text": [
      "Sum: 55\n"
     ]
    }
   ],
   "source": [
    "# Sum numbers from 1 to N\n",
    "n = 10\n",
    "total = 0\n",
    "i = 1\n",
    "while i <= n:\n",
    "    total += i\n",
    "    i += 1\n",
    "print(\"Sum:\", total)"
   ]
  },
  {
   "cell_type": "code",
   "execution_count": 13,
   "id": "76ee74bf-0616-47a5-a0ca-f47e64ab41c1",
   "metadata": {},
   "outputs": [
    {
     "name": "stdout",
     "output_type": "stream",
     "text": [
      "Even number: 2\n",
      "Even number: 4\n",
      "Even number: 6\n",
      "Even number: 8\n",
      "Even number: 10\n"
     ]
    }
   ],
   "source": [
    "# Find first n even numbers\n",
    "n = 5\n",
    "count = 0\n",
    "number = 2\n",
    "while count < n:\n",
    "    print(\"Even number:\", number)\n",
    "    number += 2\n",
    "    count += 1"
   ]
  },
  {
   "cell_type": "code",
   "execution_count": 14,
   "id": "c874b734-65ff-45ae-9950-dd184cdd742f",
   "metadata": {},
   "outputs": [
    {
     "name": "stdin",
     "output_type": "stream",
     "text": [
      "Guess a number between 1 and 10:  6\n"
     ]
    },
    {
     "name": "stdout",
     "output_type": "stream",
     "text": [
      "Too low! Try again.\n"
     ]
    },
    {
     "name": "stdin",
     "output_type": "stream",
     "text": [
      "Guess a number between 1 and 10:  7\n"
     ]
    },
    {
     "name": "stdout",
     "output_type": "stream",
     "text": [
      "Congratulations! You guessed it.\n"
     ]
    }
   ],
   "source": [
    "# Number guessing game\n",
    "target = 7\n",
    "guess = None\n",
    "while guess != target:\n",
    "    guess = int(input(\"Guess a number between 1 and 10: \"))\n",
    "    if guess < target:\n",
    "        print(\"Too low! Try again.\")\n",
    "    elif guess > target:\n",
    "        print(\"Too high! Try again.\")\n",
    "print(\"Congratulations! You guessed it.\")"
   ]
  },
  {
   "cell_type": "code",
   "execution_count": 15,
   "id": "8bfe02bd-16d2-4359-aab4-b63a5aa76d99",
   "metadata": {},
   "outputs": [
    {
     "name": "stdout",
     "output_type": "stream",
     "text": [
      "0 1 1 2 3 5 8 13 21 34 "
     ]
    }
   ],
   "source": [
    "# Fibonacci sequence up to a limit\n",
    "limit = 50\n",
    "a, b = 0, 1\n",
    "while a <= limit:\n",
    "    print(a, end=\" \")\n",
    "    a, b = b, a + b"
   ]
  },
  {
   "cell_type": "code",
   "execution_count": 17,
   "id": "2654fdd3-ed7f-4fcf-a2fb-c9efe12569f3",
   "metadata": {},
   "outputs": [
    {
     "name": "stdout",
     "output_type": "stream",
     "text": [
      "The sum of squares is 1240\n"
     ]
    }
   ],
   "source": [
    "# Python program example to show the use of while loop   \n",
    "  \n",
    "num = 15  \n",
    "  \n",
    "# initializing summation and a counter for iteration  \n",
    "summation = 0  \n",
    "c = 1  \n",
    "  \n",
    "while c <= num: # specifying the condition of the loop  \n",
    "    # begining the code block  \n",
    "    summation = c**2 + summation  \n",
    "    c = c + 1    # incrementing the counter  \n",
    "  \n",
    "# print the final sum  \n",
    "print(\"The sum of squares is\", summation)  "
   ]
  },
  {
   "cell_type": "code",
   "execution_count": 18,
   "id": "a16d57fe-5140-4dba-8b87-2b16db35cc43",
   "metadata": {},
   "outputs": [
    {
     "name": "stdout",
     "output_type": "stream",
     "text": [
      "34 is not a PRIME number\n",
      "12 is not a PRIME number\n",
      "54 is not a PRIME number\n",
      "23 is a PRIME number\n",
      "75 is not a PRIME number\n",
      "34 is not a PRIME number\n",
      "11 is a PRIME number\n"
     ]
    }
   ],
   "source": [
    "num = [34, 12, 54, 23, 75, 34, 11]    \n",
    "  \n",
    "def prime_number(number):  \n",
    "    condition = 0  \n",
    "    iteration = 2  \n",
    "    while iteration <= number / 2:  \n",
    "        if number % iteration == 0:  \n",
    "            condition = 1  \n",
    "            break  \n",
    "        iteration = iteration + 1  \n",
    "  \n",
    "    if condition == 0:  \n",
    "        print(f\"{number} is a PRIME number\")  \n",
    "    else:  \n",
    "        print(f\"{number} is not a PRIME number\")  \n",
    "for i in num:  \n",
    "    prime_number(i)  "
   ]
  },
  {
   "cell_type": "code",
   "execution_count": null,
   "id": "2118d6d8-0fd8-48c9-a266-069de7bd705b",
   "metadata": {},
   "outputs": [],
   "source": []
  }
 ],
 "metadata": {
  "kernelspec": {
   "display_name": "Python 3 (ipykernel)",
   "language": "python",
   "name": "python3"
  },
  "language_info": {
   "codemirror_mode": {
    "name": "ipython",
    "version": 3
   },
   "file_extension": ".py",
   "mimetype": "text/x-python",
   "name": "python",
   "nbconvert_exporter": "python",
   "pygments_lexer": "ipython3",
   "version": "3.12.4"
  }
 },
 "nbformat": 4,
 "nbformat_minor": 5
}
