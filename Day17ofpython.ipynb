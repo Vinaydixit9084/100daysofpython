{
 "cells": [
  {
   "cell_type": "markdown",
   "id": "3acff221-bcc0-48ef-ab5c-17aa234ba40e",
   "metadata": {},
   "source": [
    "Python Lambda Functions"
   ]
  },
  {
   "cell_type": "code",
   "execution_count": 6,
   "id": "c7da2e1b-c60f-46f7-b9a0-e3168219a0c0",
   "metadata": {},
   "outputs": [
    {
     "name": "stdout",
     "output_type": "stream",
     "text": [
      "12\n"
     ]
    }
   ],
   "source": [
    " add = lambda num: num + 6\n",
    "print( add(6) )"
   ]
  },
  {
   "cell_type": "code",
   "execution_count": 9,
   "id": "0d6dd524-7a09-40d9-a8b6-ce51a5c0075d",
   "metadata": {},
   "outputs": [
    {
     "name": "stdout",
     "output_type": "stream",
     "text": [
      "9.0\n"
     ]
    }
   ],
   "source": [
    "add = lambda num: num / 9\n",
    "print(add(81))"
   ]
  },
  {
   "cell_type": "code",
   "execution_count": 10,
   "id": "625a33ea-d157-4be1-94ea-9b76e473315d",
   "metadata": {},
   "outputs": [
    {
     "name": "stdout",
     "output_type": "stream",
     "text": [
      "10\n"
     ]
    }
   ],
   "source": [
    "def add( num ):  \n",
    "   return num + 4  \n",
    "print( add(6) )  "
   ]
  },
  {
   "cell_type": "code",
   "execution_count": 13,
   "id": "1b6657c0-9e10-49e6-b63d-baa1df015ec3",
   "metadata": {},
   "outputs": [
    {
     "name": "stdout",
     "output_type": "stream",
     "text": [
      "42\n"
     ]
    }
   ],
   "source": [
    "def mul(num):\n",
    "    return num * 6\n",
    "print(mul(7))"
   ]
  },
  {
   "cell_type": "code",
   "execution_count": 14,
   "id": "a329647e-2eda-4c76-a220-85eff6e85b85",
   "metadata": {},
   "outputs": [
    {
     "name": "stdout",
     "output_type": "stream",
     "text": [
      "20\n"
     ]
    }
   ],
   "source": [
    "a = lambda x, y : (x * y)  \n",
    "print(a(4, 5))  "
   ]
  },
  {
   "cell_type": "code",
   "execution_count": 15,
   "id": "1ddf951c-ffea-4149-9b9f-8db169a910c4",
   "metadata": {},
   "outputs": [
    {
     "name": "stdout",
     "output_type": "stream",
     "text": [
      "Def keyword:  0.16666666666666666\n",
      "Lambda keyword:  0.16666666666666666\n"
     ]
    }
   ],
   "source": [
    "# Python code to show the reciprocal of the given number to highlight the difference between def() and lambda().  \n",
    "def reciprocal( num ):  \n",
    "    return 1 / num  \n",
    "   \n",
    "lambda_reciprocal = lambda num: 1 / num  \n",
    "   \n",
    "# using the function defined by def keyword  \n",
    "print( \"Def keyword: \", reciprocal(6) )  \n",
    "   \n",
    "# using the function defined by lambda keyword  \n",
    "print( \"Lambda keyword: \", lambda_reciprocal(6) ) "
   ]
  },
  {
   "cell_type": "code",
   "execution_count": 16,
   "id": "52e24d05-9545-4083-ae73-80a5a1622b69",
   "metadata": {},
   "outputs": [
    {
     "name": "stdout",
     "output_type": "stream",
     "text": [
      "The list of odd number is: [35, 69, 55, 75, 73]\n"
     ]
    }
   ],
   "source": [
    "# This code used to filter the odd numbers from the given list  \n",
    "list_ = [35, 12, 69, 55, 75, 14, 73]      \n",
    "odd_list = list(filter( lambda num: (num % 2 != 0) , list_ ))      \n",
    "print('The list of odd number is:',odd_list)    "
   ]
  },
  {
   "cell_type": "code",
   "execution_count": 19,
   "id": "b6ac6ee2-80d5-40e8-8934-83bf80171602",
   "metadata": {},
   "outputs": [
    {
     "name": "stdout",
     "output_type": "stream",
     "text": [
      "The square value of all numbers from 0 to 10: 0 The square value of all numbers from 0 to 10: 1 The square value of all numbers from 0 to 10: 4 The square value of all numbers from 0 to 10: 9 The square value of all numbers from 0 to 10: 16 The square value of all numbers from 0 to 10: 25 The square value of all numbers from 0 to 10: 36 The square value of all numbers from 0 to 10: 49 The square value of all numbers from 0 to 10: 64 The square value of all numbers from 0 to 10: 81 The square value of all numbers from 0 to 10: 100 "
     ]
    }
   ],
   "source": [
    "#Code to calculate square of each number of lists using list comprehension    \n",
    "squares = [lambda num = num: num ** 2 for num in range(0, 11)]       \n",
    "for square in squares:    \n",
    "       print('The square value of all numbers from 0 to 10:',square(), end = \" \")    "
   ]
  },
  {
   "cell_type": "code",
   "execution_count": 20,
   "id": "54031d1e-5498-43fe-833b-9a6dd56c747c",
   "metadata": {},
   "outputs": [
    {
     "name": "stdout",
     "output_type": "stream",
     "text": [
      "The greater number is: 35\n"
     ]
    }
   ],
   "source": [
    "# Code to use lambda function with if-else    \n",
    "Minimum = lambda x, y : x if (x < y) else y       \n",
    "print('The greater number is:', Minimum( 35, 74 )) "
   ]
  },
  {
   "cell_type": "code",
   "execution_count": 21,
   "id": "e72501a4-9874-41fc-a059-2bc3beb90ded",
   "metadata": {},
   "outputs": [
    {
     "name": "stdout",
     "output_type": "stream",
     "text": [
      "The third largest number from every sub list is: [6, 54, 5]\n"
     ]
    }
   ],
   "source": [
    "# Code to print the third largest number of the given list using the lambda function      \n",
    "  \n",
    "my_List = [ [3, 5, 8, 6], [23, 54, 12, 87], [1, 2, 4, 12, 5] ]      \n",
    "# sorting every sublist of the above list    \n",
    "sort_List = lambda num : ( sorted(n) for n in num )      \n",
    "# Getting the third largest number of the sublist    \n",
    "third_Largest = lambda num, func : [ l[ len(l) - 2] for l in func(num)]    \n",
    "result = third_Largest( my_List, sort_List)      \n",
    "print('The third largest number from every sub list is:', result )    "
   ]
  },
  {
   "cell_type": "code",
   "execution_count": null,
   "id": "243b5449-e896-4007-b0b4-7143eaedcd5b",
   "metadata": {},
   "outputs": [],
   "source": []
  }
 ],
 "metadata": {
  "kernelspec": {
   "display_name": "Python 3 (ipykernel)",
   "language": "python",
   "name": "python3"
  },
  "language_info": {
   "codemirror_mode": {
    "name": "ipython",
    "version": 3
   },
   "file_extension": ".py",
   "mimetype": "text/x-python",
   "name": "python",
   "nbconvert_exporter": "python",
   "pygments_lexer": "ipython3",
   "version": "3.12.4"
  }
 },
 "nbformat": 4,
 "nbformat_minor": 5

}
