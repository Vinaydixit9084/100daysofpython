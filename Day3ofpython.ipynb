{
 "cells": [
  {
   "cell_type": "markdown",
   "id": "37ab010f-4c9a-4d0d-b87a-368873eb74d1",
   "metadata": {},
   "source": [
    "TYPECASTING"
   ]
  },
  {
   "cell_type": "code",
   "execution_count": 3,
   "id": "ea9aed76-f491-42b3-8483-2a9c9ce182e9",
   "metadata": {},
   "outputs": [
    {
     "name": "stdout",
     "output_type": "stream",
     "text": [
      "The sum of both the numbers is: 20\n"
     ]
    }
   ],
   "source": [
    "# Explicit Typecasting\n",
    "\n",
    "string = \"15\"\n",
    "number = 5\n",
    "string_number = int(string)\n",
    "sum = number + string_number\n",
    "print(\"The sum of both the numbers is:\", sum)"
   ]
  },
  {
   "cell_type": "code",
   "execution_count": 4,
   "id": "7ba0b9cf-37dd-45f3-b414-04b0cabe0625",
   "metadata": {},
   "outputs": [
    {
     "name": "stdout",
     "output_type": "stream",
     "text": [
      "<class 'int'>\n",
      "<class 'float'>\n",
      "9.0\n",
      "<class 'float'>\n"
     ]
    }
   ],
   "source": [
    "# Implicit Typecasting\n",
    "\n",
    "a = 6\n",
    "print(type(a))\n",
    "\n",
    "b = 3.0\n",
    "print(type(b))\n",
    "\n",
    "c = a+b\n",
    "print(c)\n",
    "print(type(c))"
   ]
  },
  {
   "cell_type": "markdown",
   "id": "452d76d0-24fb-4a7f-9103-df2fa7c5493c",
   "metadata": {},
   "source": [
    "Taking User Input in Python"
   ]
  },
  {
   "cell_type": "code",
   "execution_count": 5,
   "id": "3e9479b2-b568-4c93-b8c9-3fa720cf7b05",
   "metadata": {},
   "outputs": [
    {
     "name": "stdin",
     "output_type": "stream",
     "text": [
      " Vinay\n"
     ]
    },
    {
     "name": "stdout",
     "output_type": "stream",
     "text": [
      "My name is Vinay\n"
     ]
    }
   ],
   "source": [
    "a = input()\n",
    "print(\"My name is\", a)"
   ]
  },
  {
   "cell_type": "code",
   "execution_count": 6,
   "id": "ffc6a6b9-6667-467d-b608-a0e900ec1370",
   "metadata": {},
   "outputs": [
    {
     "name": "stdin",
     "output_type": "stream",
     "text": [
      "Enter your name:  KK\n"
     ]
    },
    {
     "name": "stdout",
     "output_type": "stream",
     "text": [
      "My name is KK\n"
     ]
    }
   ],
   "source": [
    "a = input(\"Enter your name: \")\n",
    "print(\"My name is\", a)"
   ]
  },
  {
   "cell_type": "code",
   "execution_count": 9,
   "id": "827221bb-294a-4085-a48c-ae469c018a41",
   "metadata": {},
   "outputs": [
    {
     "name": "stdin",
     "output_type": "stream",
     "text": [
      "Enter first number:  7\n",
      "Enter second number:  6\n"
     ]
    },
    {
     "name": "stdout",
     "output_type": "stream",
     "text": [
      "76\n",
      "13\n"
     ]
    }
   ],
   "source": [
    "x = input(\"Enter first number: \")\n",
    "y = input(\"Enter second number: \")\n",
    "print(x+y)\n",
    "print(int(x) + int(y))"
   ]
  },
  {
   "cell_type": "code",
   "execution_count": null,
   "id": "bd8a78a2-838d-49bc-a684-9e5044548eef",
   "metadata": {},
   "outputs": [],
   "source": []
  }
 ],
 "metadata": {
  "kernelspec": {
   "display_name": "Python 3 (ipykernel)",
   "language": "python",
   "name": "python3"
  },
  "language_info": {
   "codemirror_mode": {
    "name": "ipython",
    "version": 3
   },
   "file_extension": ".py",
   "mimetype": "text/x-python",
   "name": "python",
   "nbconvert_exporter": "python",
   "pygments_lexer": "ipython3",
   "version": "3.12.4"
  }
 },
 "nbformat": 4,
 "nbformat_minor": 5
}
