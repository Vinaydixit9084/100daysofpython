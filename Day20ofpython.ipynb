{
 "cells": [
  {
   "cell_type": "markdown",
   "id": "524e3d97-d40e-4246-b5fa-e1b4912c72d1",
   "metadata": {},
   "source": [
    "Exceptions"
   ]
  },
  {
   "cell_type": "code",
   "execution_count": 4,
   "id": "92755fcf-9f2b-49f4-9908-0c73ed333e47",
   "metadata": {},
   "outputs": [
    {
     "name": "stdout",
     "output_type": "stream",
     "text": [
      "The index and element from the array is 0 Python\n",
      "The index and element from the array is 1 Exceptions\n",
      "The index and element from the array is 2 try and except\n",
      "Index out of range\n"
     ]
    }
   ],
   "source": [
    "#Try and Except Statement  \n",
    "# Python code to catch an exception and handle it using try and except code blocks  \n",
    "   \n",
    "a = [\"Python\", \"Exceptions\", \"try and except\"]  \n",
    "try:  \n",
    "    #looping through the elements of the array a, choosing a range that goes beyond the length of the array  \n",
    "     for i in range( 4 ):  \n",
    "        print( \"The index and element from the array is\", i, a[i] )  \n",
    "#if an error occurs in the try block, then except block will be executed by the Python interpreter       \n",
    "except:  \n",
    "    print (\"Index out of range\")  "
   ]
  },
  {
   "cell_type": "code",
   "execution_count": 11,
   "id": "3fba52f6-df17-4daa-a0e8-c63f17c77724",
   "metadata": {},
   "outputs": [
    {
     "name": "stdout",
     "output_type": "stream",
     "text": [
      "0.25\n",
      "We cannot divide by zero\n"
     ]
    }
   ],
   "source": [
    "# program to show how to use else clause with try and except clauses  \n",
    "  \n",
    "# Defining a function which returns reciprocal of a number  \n",
    "def reciprocal( num1 ):  \n",
    "    try:  \n",
    "        reci = 1 / num1  \n",
    "    except ZeroDivisionError:  \n",
    "        print( \"We cannot divide by zero\" )  \n",
    "    else:  \n",
    "        print ( reci )  \n",
    "# Calling the function and passing values  \n",
    "reciprocal( 4 )  \n",
    "reciprocal( 0 )   "
   ]
  },
  {
   "cell_type": "code",
   "execution_count": 12,
   "id": "a88b0e55-8346-453d-adc7-4faeb8a84a1c",
   "metadata": {},
   "outputs": [
    {
     "name": "stdout",
     "output_type": "stream",
     "text": [
      "Atepting to divide by zero\n",
      "This is code of finally clause\n"
     ]
    }
   ],
   "source": [
    "# Python code to show the use of finally clause  \n",
    "   \n",
    "# Raising an exception in try block  \n",
    "try:  \n",
    "    div = 4 // 0    \n",
    "    print( div )  \n",
    "# this block will handle the exception raised  \n",
    "except ZeroDivisionError:  \n",
    "    print( \"Atepting to divide by zero\" )  \n",
    "# this will always be executed no matter exception is raised or not  \n",
    "finally:  \n",
    "    print( 'This is code of finally clause' )  "
   ]
  },
  {
   "cell_type": "markdown",
   "id": "0c97378e-e1c5-4d25-ba7d-92e3b94a317e",
   "metadata": {},
   "source": [
    "Python Date and Time"
   ]
  },
  {
   "cell_type": "code",
   "execution_count": 13,
   "id": "7c659822-e217-46b2-a516-3cdc88cfc84e",
   "metadata": {},
   "outputs": [
    {
     "name": "stdout",
     "output_type": "stream",
     "text": [
      "1731134281.2017567\n"
     ]
    }
   ],
   "source": [
    "import time;  \n",
    "#prints the number of ticks spent since 12 AM, 1st January 1970  \n",
    "print(time.time())  "
   ]
  },
  {
   "cell_type": "code",
   "execution_count": 15,
   "id": "8ed2985b-0940-459a-bb31-cf57046d5799",
   "metadata": {},
   "outputs": [
    {
     "name": "stdout",
     "output_type": "stream",
     "text": [
      "time.struct_time(tm_year=2024, tm_mon=11, tm_mday=9, tm_hour=12, tm_min=8, tm_sec=59, tm_wday=5, tm_yday=314, tm_isdst=0)\n"
     ]
    }
   ],
   "source": [
    "import time;\n",
    "print(time.localtime(time.time()))"
   ]
  },
  {
   "cell_type": "code",
   "execution_count": 16,
   "id": "1cb427c5-565f-42a9-8413-2d9f50b46c94",
   "metadata": {},
   "outputs": [
    {
     "name": "stdout",
     "output_type": "stream",
     "text": [
      "Sat Nov  9 12:09:59 2024\n"
     ]
    }
   ],
   "source": [
    "import time    \n",
    "  #returns the formatted time      \n",
    "  \n",
    "print(time.asctime(time.localtime(time.time()))) "
   ]
  },
  {
   "cell_type": "code",
   "execution_count": 20,
   "id": "e08a9d06-c8bf-498e-baef-bc85d9b27101",
   "metadata": {},
   "outputs": [
    {
     "name": "stdout",
     "output_type": "stream",
     "text": [
      "0\n",
      "1\n",
      "2\n",
      "3\n",
      "4\n"
     ]
    }
   ],
   "source": [
    "import time;\n",
    "for i in range(0,5):\n",
    "    print(i)\n",
    "    #Each element will be printed after 1 second\n",
    "    time.sleep(1)"
   ]
  },
  {
   "cell_type": "code",
   "execution_count": 21,
   "id": "dfce652d-e94e-4938-b15b-6373693eb523",
   "metadata": {},
   "outputs": [
    {
     "name": "stdout",
     "output_type": "stream",
     "text": [
      "2024-11-09 12:13:17.345515\n"
     ]
    }
   ],
   "source": [
    "import datetime;\n",
    "print(datetime.datetime.now())"
   ]
  },
  {
   "cell_type": "code",
   "execution_count": 26,
   "id": "252303a1-7781-4197-a996-1e442ee416fb",
   "metadata": {},
   "outputs": [
    {
     "name": "stdout",
     "output_type": "stream",
     "text": [
      "2020-04-04 00:00:00\n"
     ]
    }
   ],
   "source": [
    "import datetime;\n",
    "print(datetime.datetime(2020,4,4))    "
   ]
  },
  {
   "cell_type": "code",
   "execution_count": 27,
   "id": "e40cefb1-1288-40be-9b7d-cf6f1e0bedfa",
   "metadata": {},
   "outputs": [
    {
     "name": "stdout",
     "output_type": "stream",
     "text": [
      "Working hours....\n"
     ]
    }
   ],
   "source": [
    "from datetime import datetime as dt\n",
    "#Compares the time. If the time is in between 8AM and 4PM, then it prints working hours otherwise it prints fun hours    \n",
    "if dt(dt.now().year,dt.now().month,dt.now().day,8)<dt.now()<dt(dt.now().year,dt.now().month,dt.now().day,16):    \n",
    "    print(\"Working hours....\")    \n",
    "else:    \n",
    "    print(\"fun hours\")  "
   ]
  },
  {
   "cell_type": "code",
   "execution_count": 30,
   "id": "a321c959-9547-4d25-a1a4-4511129be0b7",
   "metadata": {},
   "outputs": [
    {
     "name": "stdout",
     "output_type": "stream",
     "text": [
      "     April 2021\n",
      "Mo Tu We Th Fr Sa Su\n",
      "          1  2  3  4\n",
      " 5  6  7  8  9 10 11\n",
      "12 13 14 15 16 17 18\n",
      "19 20 21 22 23 24 25\n",
      "26 27 28 29 30\n",
      "\n"
     ]
    }
   ],
   "source": [
    "import calendar;\n",
    "cal = calendar.month(2021,4)\n",
    "print(cal)"
   ]
  },
  {
   "cell_type": "code",
   "execution_count": 31,
   "id": "a681330e-8313-4b8e-a687-486d914af6e6",
   "metadata": {},
   "outputs": [
    {
     "name": "stdout",
     "output_type": "stream",
     "text": [
      "                                  2024\n",
      "\n",
      "      January                   February                   March\n",
      "Mo Tu We Th Fr Sa Su      Mo Tu We Th Fr Sa Su      Mo Tu We Th Fr Sa Su\n",
      " 1  2  3  4  5  6  7                1  2  3  4                   1  2  3\n",
      " 8  9 10 11 12 13 14       5  6  7  8  9 10 11       4  5  6  7  8  9 10\n",
      "15 16 17 18 19 20 21      12 13 14 15 16 17 18      11 12 13 14 15 16 17\n",
      "22 23 24 25 26 27 28      19 20 21 22 23 24 25      18 19 20 21 22 23 24\n",
      "29 30 31                  26 27 28 29               25 26 27 28 29 30 31\n",
      "\n",
      "       April                      May                       June\n",
      "Mo Tu We Th Fr Sa Su      Mo Tu We Th Fr Sa Su      Mo Tu We Th Fr Sa Su\n",
      " 1  2  3  4  5  6  7             1  2  3  4  5                      1  2\n",
      " 8  9 10 11 12 13 14       6  7  8  9 10 11 12       3  4  5  6  7  8  9\n",
      "15 16 17 18 19 20 21      13 14 15 16 17 18 19      10 11 12 13 14 15 16\n",
      "22 23 24 25 26 27 28      20 21 22 23 24 25 26      17 18 19 20 21 22 23\n",
      "29 30                     27 28 29 30 31            24 25 26 27 28 29 30\n",
      "\n",
      "        July                     August                  September\n",
      "Mo Tu We Th Fr Sa Su      Mo Tu We Th Fr Sa Su      Mo Tu We Th Fr Sa Su\n",
      " 1  2  3  4  5  6  7                1  2  3  4                         1\n",
      " 8  9 10 11 12 13 14       5  6  7  8  9 10 11       2  3  4  5  6  7  8\n",
      "15 16 17 18 19 20 21      12 13 14 15 16 17 18       9 10 11 12 13 14 15\n",
      "22 23 24 25 26 27 28      19 20 21 22 23 24 25      16 17 18 19 20 21 22\n",
      "29 30 31                  26 27 28 29 30 31         23 24 25 26 27 28 29\n",
      "                                                    30\n",
      "\n",
      "      October                   November                  December\n",
      "Mo Tu We Th Fr Sa Su      Mo Tu We Th Fr Sa Su      Mo Tu We Th Fr Sa Su\n",
      "    1  2  3  4  5  6                   1  2  3                         1\n",
      " 7  8  9 10 11 12 13       4  5  6  7  8  9 10       2  3  4  5  6  7  8\n",
      "14 15 16 17 18 19 20      11 12 13 14 15 16 17       9 10 11 12 13 14 15\n",
      "21 22 23 24 25 26 27      18 19 20 21 22 23 24      16 17 18 19 20 21 22\n",
      "28 29 30 31               25 26 27 28 29 30         23 24 25 26 27 28 29\n",
      "                                                    30 31\n"
     ]
    }
   ],
   "source": [
    "import calendar;\n",
    "s = calendar.prcal(2024)"
   ]
  },
  {
   "cell_type": "code",
   "execution_count": null,
   "id": "9eda6426-1dad-4b5d-9e5f-7fc29f2c4be1",
   "metadata": {},
   "outputs": [],
   "source": []
  }
 ],
 "metadata": {
  "kernelspec": {
   "display_name": "Python 3 (ipykernel)",
   "language": "python",
   "name": "python3"
  },
  "language_info": {
   "codemirror_mode": {
    "name": "ipython",
    "version": 3
   },
   "file_extension": ".py",
   "mimetype": "text/x-python",
   "name": "python",
   "nbconvert_exporter": "python",
   "pygments_lexer": "ipython3",
   "version": "3.12.4"
  }
 },
 "nbformat": 4,
 "nbformat_minor": 5
}
