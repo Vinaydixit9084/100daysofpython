{
 "cells": [
  {
   "cell_type": "markdown",
   "id": "0d64ecfd-28ab-43a9-abbb-57e882b2acbd",
   "metadata": {},
   "source": [
    "Python Decorator"
   ]
  },
  {
   "cell_type": "code",
   "execution_count": 8,
   "id": "c289da27-3ddd-45ff-a249-9d181fbf9eb0",
   "metadata": {},
   "outputs": [
    {
     "name": "stdout",
     "output_type": "stream",
     "text": [
      "Hii, welcome to function \n",
      "Hii, welcome to function \n"
     ]
    }
   ],
   "source": [
    "def func1(msg):    \n",
    "    print(msg)    \n",
    "func1(\"Hii, welcome to function \")    \n",
    "func2 = func1     \n",
    "func2(\"Hii, welcome to function \")   "
   ]
  },
  {
   "cell_type": "code",
   "execution_count": 10,
   "id": "2177fb13-0aa5-4426-8cdc-e76b62d4cef4",
   "metadata": {},
   "outputs": [
    {
     "name": "stdout",
     "output_type": "stream",
     "text": [
      "We are in first function\n",
      "This is first child function\n",
      "This is second child function\n"
     ]
    }
   ],
   "source": [
    "def func():    \n",
    "     print(\"We are in first function\")     \n",
    "     def func1():     \n",
    "           print(\"This is first child function\")    \n",
    "     def func2():      \n",
    "           print(\"This is second child function\")       \n",
    "     func1()    \n",
    "     func2()    \n",
    "func()    "
   ]
  },
  {
   "cell_type": "code",
   "execution_count": 12,
   "id": "f490191c-f2cf-4630-b714-4d3a3057fd1b",
   "metadata": {},
   "outputs": [
    {
     "name": "stdout",
     "output_type": "stream",
     "text": [
      "9\n",
      "21\n"
     ]
    }
   ],
   "source": [
    "def add(x):           \n",
    "    return x+1         \n",
    "def sub(x):          \n",
    "    return x-1        \n",
    "def operator(func, x):\n",
    "    temp = func(x)    \n",
    "    return temp    \n",
    "print(operator(sub,10))  \n",
    "print(operator(add,20))   "
   ]
  },
  {
   "cell_type": "code",
   "execution_count": 13,
   "id": "873f4e8a-39e4-42ef-bdbd-76c0598b7a8b",
   "metadata": {},
   "outputs": [
    {
     "name": "stdout",
     "output_type": "stream",
     "text": [
      "Hello\n"
     ]
    }
   ],
   "source": [
    "def hello():          \n",
    "    def hi():          \n",
    "        print(\"Hello\")             \n",
    "    return hi          \n",
    "new = hello()    \n",
    "new()   "
   ]
  },
  {
   "cell_type": "code",
   "execution_count": 24,
   "id": "25b5ec07-7b33-4952-a388-c16b768ff5a1",
   "metadata": {},
   "outputs": [
    {
     "name": "stdout",
     "output_type": "stream",
     "text": [
      "Name of the student:  John\n",
      "Grade of the student:  B\n",
      "John got grade B\n"
     ]
    }
   ],
   "source": [
    "class Student:     \n",
    "    def __init__(self,name,grade):    \n",
    "         self.name = name    \n",
    "         self.grade = grade    \n",
    "    @property    \n",
    "    def display(self):    \n",
    "         return self.name + \" got grade \" + self.grade    \n",
    "    \n",
    "stu = Student(\"John\",\"B\")    \n",
    "print(\"Name of the student: \", stu.name)    \n",
    "print(\"Grade of the student: \", stu.grade)    \n",
    "print(stu.display)    "
   ]
  },
  {
   "cell_type": "code",
   "execution_count": 26,
   "id": "bfc6e135-8f72-499a-b8a7-4073c47132d4",
   "metadata": {},
   "outputs": [
    {
     "name": "stdout",
     "output_type": "stream",
     "text": [
      "Hello Peter\n",
      "Hello Peter\n"
     ]
    }
   ],
   "source": [
    "class Person:       \n",
    "     @staticmethod    \n",
    "     def hello():         \n",
    "          print(\"Hello Peter\")    \n",
    "per = Person()    \n",
    "per.hello()    \n",
    "Person.hello()    "
   ]
  }
 ],
 "metadata": {
  "kernelspec": {
   "display_name": "Python 3 (ipykernel)",
   "language": "python",
   "name": "python3"
  },
  "language_info": {
   "codemirror_mode": {
    "name": "ipython",
    "version": 3
   },
   "file_extension": ".py",
   "mimetype": "text/x-python",
   "name": "python",
   "nbconvert_exporter": "python",
   "pygments_lexer": "ipython3",
   "version": "3.12.4"
  }
 },
 "nbformat": 4,
 "nbformat_minor": 5
}
