{
 "cells": [
  {
   "cell_type": "code",
   "execution_count": 45,
   "id": "5f8c7b42-0467-44c2-bbfb-4ded84f1ae39",
   "metadata": {},
   "outputs": [
    {
     "name": "stdout",
     "output_type": "stream",
     "text": [
      "0 1 1 2 3 5 8 13 21 34 "
     ]
    }
   ],
   "source": [
    "# Fibonacci Series -   F(n) = F(n−1)+F(n−2)\n",
    "\n",
    "def fibonacci(n):\n",
    "    a, b = 0, 1\n",
    "    for i in range(n):\n",
    "        print(a, end = \" \")\n",
    "        a, b = b, a+b\n",
    "\n",
    "fibonacci(10)\n",
    "    "
   ]
  },
  {
   "cell_type": "code",
   "execution_count": 48,
   "id": "2790c328-72a6-4087-a614-8b4afb81532b",
   "metadata": {},
   "outputs": [
    {
     "name": "stdin",
     "output_type": "stream",
     "text": [
      "Enter the number:  5\n"
     ]
    },
    {
     "name": "stdout",
     "output_type": "stream",
     "text": [
      "0 1 1 2 3 None\n"
     ]
    }
   ],
   "source": [
    "# Fibonacci series (Taking input by user)\n",
    "def fibonacci(n):\n",
    "    a, b = 0, 1\n",
    "    for i in range(n):\n",
    "        print(a, end = \" \")\n",
    "        a, b = b, a+b\n",
    "\n",
    "n = int(input(\"Enter the number: \"))\n",
    "print(fibonacci(n))\n",
    "        "
   ]
  },
  {
   "cell_type": "code",
   "execution_count": 26,
   "id": "8a4013e0-d4a1-4f73-9385-02b2d2592e35",
   "metadata": {},
   "outputs": [
    {
     "name": "stdout",
     "output_type": "stream",
     "text": [
      "True\n",
      "False\n"
     ]
    }
   ],
   "source": [
    "# Palindrome Check\n",
    "\n",
    "def isPalindrome(s):\n",
    "    return s == s[::-1]\n",
    "\n",
    "print(isPalindrome(\"madam\"))\n",
    "print(isPalindrome(\"hello\"))\n",
    "    "
   ]
  },
  {
   "cell_type": "code",
   "execution_count": 49,
   "id": "d5c9f662-9d35-4f17-a189-641610214bb7",
   "metadata": {},
   "outputs": [
    {
     "name": "stdin",
     "output_type": "stream",
     "text": [
      "Enter the number:  1331\n"
     ]
    },
    {
     "name": "stdout",
     "output_type": "stream",
     "text": [
      "x is a palindrome.\n"
     ]
    }
   ],
   "source": [
    "# Palindrome Number(Taking input by user) - remains the same when reversed\n",
    "\n",
    "def isPalindrome(x):\n",
    "    numstr = str(x)\n",
    "    return numstr == numstr[::-1] # by using slicing\n",
    "\n",
    "x = int(input(\"Enter the number: \"))\n",
    "if isPalindrome(x):\n",
    "    print(\"x is a palindrome.\")\n",
    "\n",
    "else:\n",
    "    print(\"x is not palindrome.\")"
   ]
  },
  {
   "cell_type": "code",
   "execution_count": 44,
   "id": "656b405e-6965-496c-8481-4da0d86b40b6",
   "metadata": {},
   "outputs": [
    {
     "name": "stdout",
     "output_type": "stream",
     "text": [
      "[1, 2, 3, 4, 5, 6, 7, 8, 9, 11, 22, 33, 44, 55, 66, 77, 88, 99, 101, 111, 121, 131, 141, 151, 161, 171, 181, 191]\n"
     ]
    }
   ],
   "source": [
    "# Palindrome Numbers in a Range\n",
    "\n",
    "def PalindromeNumbers(start, end):\n",
    "    return[num for num in range(start, end+1)  if str(num) == str(num)[::-1]]\n",
    "\n",
    "print(PalindromeNumbers(1, 200))\n",
    "\n"
   ]
  },
  {
   "cell_type": "code",
   "execution_count": null,
   "id": "29eaf7a7-1334-45d8-9fa4-1f0d26e979f3",
   "metadata": {},
   "outputs": [],
   "source": []
  }
 ],
 "metadata": {
  "kernelspec": {
   "display_name": "Python 3 (ipykernel)",
   "language": "python",
   "name": "python3"
  },
  "language_info": {
   "codemirror_mode": {
    "name": "ipython",
    "version": 3
   },
   "file_extension": ".py",
   "mimetype": "text/x-python",
   "name": "python",
   "nbconvert_exporter": "python",
   "pygments_lexer": "ipython3",
   "version": "3.12.6"
  }
 },
 "nbformat": 4,
 "nbformat_minor": 5
}
