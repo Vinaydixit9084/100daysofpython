{
 "cells": [
  {
   "cell_type": "markdown",
   "id": "3b3ae6b4-de56-4895-a4f5-b15ead110d44",
   "metadata": {},
   "source": [
    "ARRAY"
   ]
  },
  {
   "cell_type": "code",
   "execution_count": 9,
   "id": "85a6c41f-b716-4d84-a088-e3dfa9ec65cf",
   "metadata": {},
   "outputs": [
    {
     "name": "stdout",
     "output_type": "stream",
     "text": [
      "45\n",
      "-1\n",
      "-1\n"
     ]
    }
   ],
   "source": [
    "# Second Largest Number\n",
    "\n",
    "def second_largest(arr):\n",
    "    if len(arr) < 2:\n",
    "        return -1  \n",
    "    \n",
    "    first, second = float('-inf'), float('-inf')\n",
    "\n",
    "    for num in arr:\n",
    "        if num > first:\n",
    "            second, first = first, num  # Update first and second\n",
    "        elif num > second and num != first:\n",
    "            second = num  \n",
    "\n",
    "    return second if second != float('-inf') else -1  \n",
    "\n",
    "\n",
    "print(second_largest([10, 20, 4, 45, 99]))  \n",
    "print(second_largest([10, 10, 10]))         \n",
    "print(second_largest([5])) "
   ]
  },
  {
   "cell_type": "code",
   "execution_count": 2,
   "id": "adf5ec16-c19b-416f-b28a-980c14aa0f5b",
   "metadata": {},
   "outputs": [
    {
     "name": "stdout",
     "output_type": "stream",
     "text": [
      "[1, 2, 4, 3, 5, 0, 0, 0]\n",
      "[1, 3, 12, 0, 0]\n",
      "[5, 0, 0, 0, 0]\n"
     ]
    }
   ],
   "source": [
    "# Move All Zeroes to End\n",
    "\n",
    "def moveZeros(arr):\n",
    "    n = len(arr)\n",
    "    j = 0\n",
    "\n",
    "    for i in range(n):\n",
    "        if arr[i] != 0:\n",
    "            arr[i], arr[j] = arr[j], arr[i]\n",
    "            j += 1\n",
    "\n",
    "arr1 = [1, 2, 0, 4, 3, 0, 5, 0]\n",
    "moveZeros(arr1)\n",
    "print(arr1)\n",
    "\n",
    "arr2 = [0, 1, 0, 3, 12]\n",
    "moveZeros(arr2)\n",
    "print(arr2)\n",
    "\n",
    "arr3 = [0, 0, 0, 5, 0]\n",
    "moveZeros(arr3)\n",
    "print(arr3) \n"
   ]
  },
  {
   "cell_type": "code",
   "execution_count": 5,
   "id": "b032be1e-a3d7-4493-a821-7701b3557030",
   "metadata": {},
   "outputs": [
    {
     "name": "stdout",
     "output_type": "stream",
     "text": [
      "[5, 4, 3, 2, 1]\n",
      "[40, 30, 20, 10]\n",
      "[1]\n"
     ]
    }
   ],
   "source": [
    "# Reverse an array\n",
    "\n",
    "def reverseArray(arr):\n",
    "    left, right = 0, len(arr) - 1 \n",
    "    \n",
    "    while left < right:\n",
    "        arr[left], arr[right] = arr[right], arr[left]  # Swap elements\n",
    "        left += 1  \n",
    "        right -= 1  \n",
    "\n",
    "arr1 = [1, 2, 3, 4, 5]\n",
    "reverseArray(arr1)\n",
    "print(arr1)  \n",
    "\n",
    "arr2 = [10, 20, 30, 40]\n",
    "reverseArray(arr2)\n",
    "print(arr2) \n",
    "\n",
    "arr3 = [1]  \n",
    "reverseArray(arr3)\n",
    "print(arr3)  "
   ]
  },
  {
   "cell_type": "code",
   "execution_count": 8,
   "id": "bed63a1b-1c8b-4111-8479-9e80c803e4f7",
   "metadata": {},
   "outputs": [
    {
     "name": "stdout",
     "output_type": "stream",
     "text": [
      "[3, 4, 5, 1, 2]\n",
      "[40, 50, 60, 10, 20, 30]\n"
     ]
    }
   ],
   "source": [
    "# Rotate Array\n",
    "\n",
    "def rotateLeft(arr, d):\n",
    "    n = len(arr)\n",
    "    d = d % n \n",
    "\n",
    "    arr[:d] = reversed(arr[:d])\n",
    "\n",
    "    arr[d:] = reversed(arr[d:])\n",
    "\n",
    "    arr[:] = reversed(arr)\n",
    "\n",
    "\n",
    "arr1 = [1, 2, 3, 4, 5]\n",
    "rotateLeft(arr1, 2)\n",
    "print(arr1)  \n",
    "\n",
    "arr2 = [10, 20, 30, 40, 50, 60]\n",
    "rotateLeft(arr2, 3)\n",
    "print(arr2)  "
   ]
  },
  {
   "cell_type": "code",
   "execution_count": 9,
   "id": "ce12fd37-d7f9-4ea6-bb7f-2068d8a62b16",
   "metadata": {},
   "outputs": [
    {
     "name": "stdout",
     "output_type": "stream",
     "text": [
      "[3, 4, 5, 1, 2]\n",
      "[40, 50, 10, 20, 30]\n"
     ]
    }
   ],
   "source": [
    "# Rotate Array(Another Approach)\n",
    "\n",
    "def rotateLeft(arr, d):\n",
    "    n = len(arr)\n",
    "    d = d % n\n",
    "\n",
    "    arr[:] = arr[d:] + arr[:d]\n",
    "\n",
    "arr1 = [1, 2, 3, 4, 5]\n",
    "rotateLeft(arr1, 2)\n",
    "print(arr1)\n",
    "\n",
    "arr2 = [10, 20, 30, 40, 50]\n",
    "rotateLeft(arr2, 3)\n",
    "print(arr2)"
   ]
  },
  {
   "cell_type": "code",
   "execution_count": 1,
   "id": "dc71720f-76a0-42f5-a58b-2a7a11a759d6",
   "metadata": {},
   "outputs": [
    {
     "name": "stdout",
     "output_type": "stream",
     "text": [
      "[1, 3, 2]\n",
      "[1, 2, 3]\n"
     ]
    }
   ],
   "source": [
    "# Next Permutation\n",
    "\n",
    "def nextPermutation(arr):\n",
    "    n = len(arr)\n",
    "    \n",
    "    # Step 1: Find the first decreasing element from the right\n",
    "    i = n - 2\n",
    "    while i >= 0 and arr[i] >= arr[i + 1]:\n",
    "        i -= 1\n",
    "    \n",
    "    if i >= 0:  \n",
    "        # Step 2: Find the element just larger than arr[i] to swap\n",
    "        j = n - 1\n",
    "        while arr[j] <= arr[i]:\n",
    "            j -= 1\n",
    "       \n",
    "        arr[i], arr[j] = arr[j], arr[i]\n",
    "    \n",
    "    # Step 4: Reverse the part after index i\n",
    "    arr[i + 1:] = reversed(arr[i + 1:])\n",
    "\n",
    "\n",
    "arr1 = [1, 2, 3]\n",
    "nextPermutation(arr1)\n",
    "print(arr1)  \n",
    "\n",
    "arr2 = [3, 2, 1]\n",
    "nextPermutation(arr2)\n",
    "print(arr2) \n"
   ]
  },
  {
   "cell_type": "code",
   "execution_count": 4,
   "id": "e9d6a106-f168-4f65-aa63-a32be4536d16",
   "metadata": {},
   "outputs": [
    {
     "name": "stdout",
     "output_type": "stream",
     "text": [
      "[4]\n",
      "[1, 2]\n",
      "[]\n"
     ]
    }
   ],
   "source": [
    "# Majority Element \n",
    "\n",
    "def majorityElement(arr):\n",
    "    if not arr:\n",
    "        return []\n",
    "    \n",
    "    n = len(arr)\n",
    "    candidate1, candidate2 = None, None\n",
    "    count1, count2 = 0, 0\n",
    "\n",
    "    \n",
    "    for num in arr:\n",
    "        if num == candidate1:\n",
    "            count1 += 1\n",
    "        elif num == candidate2:\n",
    "            count2 += 1\n",
    "        elif count1 == 0:\n",
    "            candidate1, count1 = num, 1\n",
    "        elif count2 == 0:\n",
    "            candidate2, count2 = num, 1\n",
    "        else:\n",
    "            count1 -= 1\n",
    "            count2 -= 1\n",
    "\n",
    "    \n",
    "    count1, count2 = 0, 0\n",
    "    for num in arr:\n",
    "        if num == candidate1:\n",
    "            count1 += 1\n",
    "        elif num == candidate2:\n",
    "            count2 += 1\n",
    "\n",
    "    result = []\n",
    "    if count1 > n // 3:\n",
    "        result.append(candidate1)\n",
    "    if count2 > n // 3:\n",
    "        result.append(candidate2)\n",
    "\n",
    "    return sorted(result)  \n",
    "\n",
    "# Example Usage\n",
    "print(majorityElement([3, 3, 4, 2, 4, 4, 2, 4, 4]))  \n",
    "print(majorityElement([1, 1, 1, 3, 3, 2, 2, 2]))    \n",
    "print(majorityElement([1, 2, 3]))                  \n"
   ]
  },
  {
   "cell_type": "code",
   "execution_count": 7,
   "id": "41c2344e-fbe1-4d40-b153-d937acb0ea63",
   "metadata": {},
   "outputs": [
    {
     "name": "stdout",
     "output_type": "stream",
     "text": [
      "7\n",
      "4\n",
      "0\n"
     ]
    }
   ],
   "source": [
    "# Stock Buy and Sell – Multiple Transaction Allowed\n",
    "\n",
    "def maxProfit(price):\n",
    "    n = len(price)\n",
    "    profit = 0\n",
    "\n",
    "    for i in range(1, n):\n",
    "        if price[i] > price[i - 1]:\n",
    "            profit += price[i] - price[i - 1]  \n",
    "    return profit\n",
    "\n",
    "\n",
    "print(maxProfit([7, 1, 5, 3, 6, 4]))  \n",
    "print(maxProfit([1, 2, 3, 4, 5]))     \n",
    "print(maxProfit([7, 6, 4, 3, 1]))     "
   ]
  },
  {
   "cell_type": "code",
   "execution_count": null,
   "id": "bee70f2e-6e3b-4b73-8f8f-313149d55ca7",
   "metadata": {},
   "outputs": [],
   "source": []
  }
 ],
 "metadata": {
  "kernelspec": {
   "display_name": "Python 3 (ipykernel)",
   "language": "python",
   "name": "python3"
  },
  "language_info": {
   "codemirror_mode": {
    "name": "ipython",
    "version": 3
   },
   "file_extension": ".py",
   "mimetype": "text/x-python",
   "name": "python",
   "nbconvert_exporter": "python",
   "pygments_lexer": "ipython3",
   "version": "3.12.6"
  }
 },
 "nbformat": 4,
 "nbformat_minor": 5
}
