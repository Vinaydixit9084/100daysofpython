{
 "cells": [
  {
   "cell_type": "code",
   "execution_count": 1,
   "id": "559df906-3ff8-473e-8b01-1e2e2373bda1",
   "metadata": {},
   "outputs": [
    {
     "name": "stdout",
     "output_type": "stream",
     "text": [
      "The second largest element of the list is: 30\n"
     ]
    }
   ],
   "source": [
    "#program to find the second largest number of list  \n",
    "# declaring the list  \n",
    "list_val = [20, 30, 40, 25, 10]  \n",
    "# sorting the list  \n",
    "list_val.sort()  \n",
    "#displaying the second last element of the list  \n",
    "print(\"The second largest element of the list is:\", list_val[-2])  "
   ]
  },
  {
   "cell_type": "code",
   "execution_count": 2,
   "id": "ea938344-4a7b-42b3-8c3b-3dcbc0c8e1ca",
   "metadata": {},
   "outputs": [
    {
     "name": "stdout",
     "output_type": "stream",
     "text": [
      "30\n"
     ]
    }
   ],
   "source": [
    "#program to find the second largest number of list  \n",
    "  \n",
    "# declaring the list  \n",
    "list_val = [20, 30, 40, 25, 10]  \n",
    "  \n",
    "# new_list is a set of list1  \n",
    "res_list = set(list_val)  \n",
    "  \n",
    "#removing the maximum element  \n",
    "res_list.remove(max(res_list))  \n",
    "  \n",
    "#printing the second largest element   \n",
    "print(max(res_list))  "
   ]
  },
  {
   "cell_type": "code",
   "execution_count": 3,
   "id": "f6376007-e580-4e4f-bf19-ce238d1aa867",
   "metadata": {},
   "outputs": [
    {
     "name": "stdin",
     "output_type": "stream",
     "text": [
      "Enter number of elements in list:  5\n",
      "Enter the elements:  23\n",
      "Enter the elements:  44\n",
      "Enter the elements:  66\n",
      "Enter the elements:  32\n",
      "Enter the elements:  11\n"
     ]
    },
    {
     "name": "stdout",
     "output_type": "stream",
     "text": [
      "Second largest element is: 44\n"
     ]
    }
   ],
   "source": [
    "# declaring empty list  \n",
    "list_val = []  \n",
    "  \n",
    "# user provides the number of elements to be added in the list  \n",
    "num_list = int(input(\"Enter number of elements in list: \"))  \n",
    "  \n",
    "  \n",
    "for i in range(1, num_list + 1):  \n",
    "    element = int(input(\"Enter the elements: \"))  \n",
    "    list_val.append(element)  \n",
    "  \n",
    "  \n",
    "# sort the list  \n",
    "list_val.sort()  \n",
    "      \n",
    "# print second largest element  \n",
    "print(\"Second largest element is:\", list_val[-2])  "
   ]
  },
  {
   "cell_type": "code",
   "execution_count": 5,
   "id": "b523cae3-e709-4339-afa9-49e7085537b7",
   "metadata": {},
   "outputs": [
    {
     "name": "stdout",
     "output_type": "stream",
     "text": [
      "30\n"
     ]
    }
   ],
   "source": [
    "def calc_largest(arr):  \n",
    "    second_largest = arr[0]  \n",
    "    largest_val = arr[0]  \n",
    "    for i in range(len(arr)):  \n",
    "        if arr[i] > largest_val:  \n",
    "            largest_val = arr[i]  \n",
    "  \n",
    "    for i in range(len(arr)):  \n",
    "        if arr[i] > second_largest and arr[i] != largest_val:  \n",
    "            second_largest = arr[i]  \n",
    "  \n",
    "    return second_largest  \n",
    "print(calc_largest([20, 30, 40, 25, 10]))  "
   ]
  },
  {
   "cell_type": "code",
   "execution_count": null,
   "id": "c361360c-ba2a-4117-b435-5965d7c3dec7",
   "metadata": {},
   "outputs": [],
   "source": []
  }
 ],
 "metadata": {
  "kernelspec": {
   "display_name": "Python 3 (ipykernel)",
   "language": "python",
   "name": "python3"
  },
  "language_info": {
   "codemirror_mode": {
    "name": "ipython",
    "version": 3
   },
   "file_extension": ".py",
   "mimetype": "text/x-python",
   "name": "python",
   "nbconvert_exporter": "python",
   "pygments_lexer": "ipython3",
   "version": "3.12.4"
  }
 },
 "nbformat": 4,
 "nbformat_minor": 5
}
