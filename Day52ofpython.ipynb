{
 "cells": [
  {
   "cell_type": "code",
   "execution_count": 8,
   "id": "46f56bcb-b25d-4b51-a681-6cb1c24b1810",
   "metadata": {},
   "outputs": [
    {
     "name": "stdout",
     "output_type": "stream",
     "text": [
      "True\n"
     ]
    }
   ],
   "source": [
    "#Palindrome Checker\n",
    "\n",
    "def is_palindrome(s):\n",
    "    return s == s[::-1]\n",
    "    \n",
    "word = \"madam\"\n",
    "print(is_palindrome(word))\n",
    "    \n"
   ]
  },
  {
   "cell_type": "code",
   "execution_count": 29,
   "id": "bfe74250-7209-4e95-8c46-a11de5e72983",
   "metadata": {},
   "outputs": [
    {
     "name": "stdout",
     "output_type": "stream",
     "text": [
      "0 1 1 2 3 5 8 13 21 34 "
     ]
    }
   ],
   "source": [
    "#Fibonacci Series (Using Loop)\n",
    "\n",
    "def fibonacci(n):\n",
    "    a, b = 0, 1\n",
    "    for i in range(n):\n",
    "        print(a, end=' ')\n",
    "        a, b = b, a+b\n",
    "\n",
    "(fibonacci(10))    "
   ]
  },
  {
   "cell_type": "code",
   "execution_count": 13,
   "id": "e8591df7-b378-4c05-aad3-da4b54794b7f",
   "metadata": {},
   "outputs": [
    {
     "name": "stdout",
     "output_type": "stream",
     "text": [
      "120\n"
     ]
    }
   ],
   "source": [
    "# Factorial (Using Recursion)\n",
    "\n",
    "def factorial(n):\n",
    "    if n == 0:\n",
    "        return 1\n",
    "    return n * factorial(n - 1)\n",
    "\n",
    "print(factorial(5))"
   ]
  },
  {
   "cell_type": "code",
   "execution_count": 16,
   "id": "0e3d0722-e02d-4c9b-b138-627de11487c4",
   "metadata": {},
   "outputs": [
    {
     "name": "stdout",
     "output_type": "stream",
     "text": [
      "edoc\n"
     ]
    }
   ],
   "source": [
    "# Reverse a String (IMP)\n",
    "\n",
    "def reverse_string(s):\n",
    "    return s[::-1]\n",
    "\n",
    "print(reverse_string(\"code\"))"
   ]
  },
  {
   "cell_type": "code",
   "execution_count": 19,
   "id": "fba43280-2678-4c90-8ccc-43a5e5045409",
   "metadata": {},
   "outputs": [
    {
     "name": "stdout",
     "output_type": "stream",
     "text": [
      "Odd\n"
     ]
    }
   ],
   "source": [
    "#Even or Odd\n",
    "\n",
    "def even_or_odd(n):\n",
    "    return \"Even\" if n % 2 == 0 else \"Odd\"\n",
    "\n",
    "\n",
    "print(even_or_odd(17))"
   ]
  },
  {
   "cell_type": "code",
   "execution_count": 21,
   "id": "e7f2462f-7f4f-48a5-98bf-48a0a4368fe2",
   "metadata": {},
   "outputs": [
    {
     "name": "stdout",
     "output_type": "stream",
     "text": [
      "11\n"
     ]
    }
   ],
   "source": [
    "# Sum of digits\n",
    "\n",
    "def sum_of_digits(n):\n",
    "    return sum(int(digit) for digit in str(n))\n",
    "\n",
    "print(sum_of_digits(1235))\n"
   ]
  },
  {
   "cell_type": "code",
   "execution_count": 22,
   "id": "8931ce34-022d-4a01-9e08-610124e7664b",
   "metadata": {},
   "outputs": [
    {
     "name": "stdout",
     "output_type": "stream",
     "text": [
      "True\n"
     ]
    }
   ],
   "source": [
    "#Check Armstrong Number\n",
    "\n",
    "def is_armstrong(n):\n",
    "    num_str = str(n)\n",
    "    power = len(num_str)\n",
    "    return n == sum(int(digit) ** power for digit in num_str)\n",
    "\n",
    "print(is_armstrong(153))"
   ]
  },
  {
   "cell_type": "code",
   "execution_count": 25,
   "id": "cde996b2-acc8-4dcb-b5ec-c9d2936afaaa",
   "metadata": {},
   "outputs": [
    {
     "name": "stdout",
     "output_type": "stream",
     "text": [
      "*\n",
      "**\n",
      "***\n",
      "****\n",
      "*****\n",
      "******\n",
      "None\n"
     ]
    }
   ],
   "source": [
    "# Simple pattern printing\n",
    "\n",
    "def print_pattern(n):\n",
    "    for i in range(1, n+1):\n",
    "        print(\"*\" * i) \n",
    "print(print_pattern(6))"
   ]
  },
  {
   "cell_type": "code",
   "execution_count": null,
   "id": "20f46acf-6ce9-4953-bb92-6a61d889307d",
   "metadata": {},
   "outputs": [],
   "source": []
  }
 ],
 "metadata": {
  "kernelspec": {
   "display_name": "Python 3 (ipykernel)",
   "language": "python",
   "name": "python3"
  },
  "language_info": {
   "codemirror_mode": {
    "name": "ipython",
    "version": 3
   },
   "file_extension": ".py",
   "mimetype": "text/x-python",
   "name": "python",
   "nbconvert_exporter": "python",
   "pygments_lexer": "ipython3",
   "version": "3.12.6"
  }
 },
 "nbformat": 4,
 "nbformat_minor": 5
}
