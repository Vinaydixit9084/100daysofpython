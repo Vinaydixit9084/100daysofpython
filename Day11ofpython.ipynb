{
 "cells": [
  {
   "cell_type": "markdown",
   "id": "ef8115a9-a98d-4955-b96e-6c6aa36d27d8",
   "metadata": {},
   "source": [
    "TUPLES"
   ]
  },
  {
   "cell_type": "code",
   "execution_count": 4,
   "id": "4e750c5f-209b-4292-823b-36b6d21e7dc1",
   "metadata": {},
   "outputs": [
    {
     "name": "stdout",
     "output_type": "stream",
     "text": [
      "Empty tuple:  ()\n",
      "Tuple with integers:  (4, 6, 8, 10, 12, 14)\n",
      "Tuple with different data types:  (4, 'Python', 9.3)\n",
      "A nested tuple:  ('Python', {4: 5, 6: 2, 8: 2}, (5, 3, 5, 6))\n"
     ]
    }
   ],
   "source": [
    "# Python program to show how to create a tuple    \n",
    "# Creating an empty tuple    \n",
    "empty_tuple = ()    \n",
    "print(\"Empty tuple: \", empty_tuple)    \n",
    "    \n",
    "# Creating tuple having integers    \n",
    "int_tuple = (4, 6, 8, 10, 12, 14)    \n",
    "print(\"Tuple with integers: \", int_tuple)    \n",
    "    \n",
    "# Creating a tuple having objects of different data types    \n",
    "mixed_tuple = (4, \"Python\", 9.3)    \n",
    "print(\"Tuple with different data types: \", mixed_tuple)    \n",
    "    \n",
    "# Creating a nested tuple    \n",
    "nested_tuple = (\"Python\", {4: 5, 6: 2, 8:2}, (5, 3, 5, 6))    \n",
    "print(\"A nested tuple: \", nested_tuple)    \n"
   ]
  },
  {
   "cell_type": "code",
   "execution_count": 5,
   "id": "2b9bc913-545b-4c4d-ac8f-a3bf43b712fc",
   "metadata": {},
   "outputs": [
    {
     "name": "stdout",
     "output_type": "stream",
     "text": [
      "(4, 5.7, 'Tuples', ['Python', 'Tuples'])\n",
      "<class 'tuple'>\n",
      "<class 'TypeError'>\n"
     ]
    }
   ],
   "source": [
    "# Python program to create a tuple without using parentheses    \n",
    "# Creating a tuple    \n",
    "tuple_ = 4, 5.7, \"Tuples\", [\"Python\", \"Tuples\"]    \n",
    "# Displaying the tuple created    \n",
    "print(tuple_)    \n",
    "# Checking the data type of object tuple_    \n",
    "print(type(tuple_) )    \n",
    "# Trying to modify tuple_    \n",
    "try:    \n",
    "    tuple_[1] = 4.2    \n",
    "except:    \n",
    "    print(TypeError )    "
   ]
  },
  {
   "cell_type": "code",
   "execution_count": 7,
   "id": "b8c15320-1ab6-42a0-9012-1d116bbdc7e3",
   "metadata": {},
   "outputs": [
    {
     "name": "stdout",
     "output_type": "stream",
     "text": [
      "<class 'str'>\n",
      "<class 'tuple'>\n",
      "<class 'tuple'>\n"
     ]
    }
   ],
   "source": [
    "# Python program to show how to create a tuple having a single element    \n",
    "single_tuple = (\"Tuple\")    \n",
    "print( type(single_tuple) )     \n",
    "# Creating a tuple that has only one element    \n",
    "single_tuple = (\"Tuple\",)    \n",
    "print( type(single_tuple) )     \n",
    "# Creating tuple without parentheses    \n",
    "single_tuple = \"Tuple\",    \n",
    "print( type(single_tuple) )"
   ]
  },
  {
   "cell_type": "code",
   "execution_count": 8,
   "id": "af96c15c-dae2-49f9-b01c-de55d4c72d73",
   "metadata": {},
   "outputs": [
    {
     "name": "stdout",
     "output_type": "stream",
     "text": [
      "Python\n",
      "Tuple\n",
      "tuple index out of range\n",
      "tuple indices must be integers or slices, not float\n",
      "l\n",
      "6\n"
     ]
    }
   ],
   "source": [
    "# Python program to show how to access tuple elements    \n",
    "# Creating a tuple    \n",
    "tuple_ = (\"Python\", \"Tuple\", \"Ordered\", \"Collection\")    \n",
    "print(tuple_[0])      \n",
    "print(tuple_[1])     \n",
    "# trying to access element index more than the length of a tuple    \n",
    "try:    \n",
    "    print(tuple_[5])     \n",
    "except Exception as e:    \n",
    "    print(e)    \n",
    "# trying to access elements through the index of floating data type    \n",
    "try:    \n",
    "    print(tuple_[1.0])     \n",
    "except Exception as e:    \n",
    "    print(e)    \n",
    "# Creating a nested tuple    \n",
    "nested_tuple = (\"Tuple\", [4, 6, 2, 6], (6, 2, 6, 7))    \n",
    "    \n",
    "# Accessing the index of a nested tuple    \n",
    "print(nested_tuple[0][3])           \n",
    "print(nested_tuple[1][1])       "
   ]
  },
  {
   "cell_type": "markdown",
   "id": "e415c669-9c29-4faf-b82e-ac986edb06ef",
   "metadata": {},
   "source": [
    "SLICING"
   ]
  },
  {
   "cell_type": "code",
   "execution_count": 9,
   "id": "49541220-cbe8-4b0f-afe3-cf504780e94e",
   "metadata": {},
   "outputs": [
    {
     "name": "stdout",
     "output_type": "stream",
     "text": [
      "Elements between indices 1 and 3:  ('Tuple', 'Ordered')\n",
      "Elements between indices 0 and -4:  ('Python', 'Tuple')\n",
      "Entire tuple:  ('Python', 'Tuple', 'Ordered', 'Immutable', 'Collection', 'Objects')\n"
     ]
    }
   ],
   "source": [
    "# Python program to show how slicing works in Python tuples    \n",
    "# Creating a tuple    \n",
    "tuple_ = (\"Python\", \"Tuple\", \"Ordered\", \"Immutable\", \"Collection\", \"Objects\")    \n",
    "# Using slicing to access elements of the tuple    \n",
    "print(\"Elements between indices 1 and 3: \", tuple_[1:3])    \n",
    "# Using negative indexing in slicing    \n",
    "print(\"Elements between indices 0 and -4: \", tuple_[:-4])    \n",
    "# Printing the entire tuple by using the default start and end values.     \n",
    "print(\"Entire tuple: \", tuple_[:])  "
   ]
  },
  {
   "cell_type": "code",
   "execution_count": 11,
   "id": "54281d25-337b-4bfc-960f-d9901550cd6e",
   "metadata": {},
   "outputs": [
    {
     "name": "stdout",
     "output_type": "stream",
     "text": [
      "'tuple' object doesn't support item deletion\n",
      "name 'tuple_' is not defined\n"
     ]
    }
   ],
   "source": [
    "# Python program to show how to delete elements of a Python tuple    \n",
    "# Creating a tuple    \n",
    "tuple_ = (\"Python\", \"Tuple\", \"Ordered\", \"Immutable\", \"Collection\", \"Objects\")    \n",
    "# Deleting a particular element of the tuple    \n",
    "try:     \n",
    "    del tuple_[3]    \n",
    "    print(tuple_)    \n",
    "except Exception as e:    \n",
    "    print(e)    \n",
    "# Deleting the variable from the global space of the program    \n",
    "del tuple_    \n",
    "# Trying accessing the tuple after deleting it    \n",
    "try:    \n",
    "    print(tuple_)    \n",
    "except Exception as e:    \n",
    "    print(e)    \n"
   ]
  },
  {
   "cell_type": "code",
   "execution_count": 12,
   "id": "e8eb33f6-738a-4764-aff6-6573d372c00f",
   "metadata": {},
   "outputs": [
    {
     "name": "stdout",
     "output_type": "stream",
     "text": [
      "Original tuple is:  ('Python', 'Tuples')\n",
      "New tuple is:  ('Python', 'Tuples', 'Python', 'Tuples', 'Python', 'Tuples')\n"
     ]
    }
   ],
   "source": [
    "# Python program to show repetition in tuples    \n",
    "tuple_ = ('Python',\"Tuples\")    \n",
    "print(\"Original tuple is: \", tuple_)    \n",
    "# Repeting the tuple elements    \n",
    "tuple_ = tuple_ * 3    \n",
    "print(\"New tuple is: \", tuple_)  "
   ]
  },
  {
   "cell_type": "code",
   "execution_count": 14,
   "id": "431aa661-a5ec-4ed2-bebe-9dc9b1204a36",
   "metadata": {},
   "outputs": [
    {
     "name": "stdout",
     "output_type": "stream",
     "text": [
      "Count of 2 in T1 is: 5\n",
      "Count of Java in T2 is: 2\n"
     ]
    }
   ],
   "source": [
    "# Creating tuples  \n",
    "T1 = (0, 1, 5, 6, 7, 2, 2, 4, 2, 3, 2, 3, 1, 3, 2)  \n",
    "T2 = ('python', 'java', 'python', 'Tpoint', 'python', 'java')  \n",
    "# counting the appearance of 3  \n",
    "res = T1.count(2)  \n",
    "print('Count of 2 in T1 is:', res)  \n",
    "# counting the appearance of java  \n",
    "res = T2.count('java')  \n",
    "print('Count of Java in T2 is:', res)"
   ]
  },
  {
   "cell_type": "code",
   "execution_count": 15,
   "id": "473e875d-7769-429c-9b01-39a02f6bf7fd",
   "metadata": {},
   "outputs": [
    {
     "name": "stdout",
     "output_type": "stream",
     "text": [
      "First occurrence of 1 is 3\n",
      "First occurrence of 1 after 4th index is: 5\n"
     ]
    }
   ],
   "source": [
    "# Creating tuples  \n",
    "Tuple_data = (0, 1, 2, 3, 2, 3, 1, 3, 2)  \n",
    "# getting the index of 3  \n",
    "res = Tuple_data.index(3)  \n",
    "print('First occurrence of 1 is', res)  \n",
    "# getting the index of 3 after 4th  \n",
    "# index  \n",
    "res = Tuple_data.index(3, 4)  \n",
    "print('First occurrence of 1 after 4th index is:', res)  "
   ]
  },
  {
   "cell_type": "code",
   "execution_count": 17,
   "id": "65b2b2ac-4f63-43c5-8453-82150988ab93",
   "metadata": {},
   "outputs": [
    {
     "name": "stdout",
     "output_type": "stream",
     "text": [
      "True\n",
      "False\n",
      "False\n",
      "True\n"
     ]
    }
   ],
   "source": [
    "# Python program to show how to perform membership test for tuples    \n",
    "# Creating a tuple    \n",
    "tuple_ = (\"Python\", \"Tuple\", \"Ordered\", \"Immutable\", \"Collection\", \"Ordered\")    \n",
    "# In operator    \n",
    "print('Tuple' in tuple_)    \n",
    "print('Items' in tuple_)    \n",
    "# Not in operator    \n",
    "print('Immutable' not in tuple_)    \n",
    "print('Items' not in tuple_)"
   ]
  },
  {
   "cell_type": "code",
   "execution_count": 18,
   "id": "8f0e34bd-e147-4196-ad9b-d2afa673c187",
   "metadata": {},
   "outputs": [
    {
     "name": "stdout",
     "output_type": "stream",
     "text": [
      "Python\n",
      "Tuple\n",
      "Ordered\n",
      "Immutable\n"
     ]
    }
   ],
   "source": [
    "# Python program to show how to iterate over tuple elements    \n",
    "# Creating a tuple    \n",
    "tuple_ = (\"Python\", \"Tuple\", \"Ordered\", \"Immutable\")    \n",
    "# Iterating over tuple elements using a for loop    \n",
    "for item in tuple_:    \n",
    "    print(item)    \n"
   ]
  },
  {
   "cell_type": "code",
   "execution_count": 19,
   "id": "40d585de-531f-4019-85ec-32b20e184693",
   "metadata": {},
   "outputs": [
    {
     "name": "stdout",
     "output_type": "stream",
     "text": [
      "'tuple' object does not support item assignment\n",
      "('Python', 'Tuple', 'Ordered', 'Immutable', [1, 2, 10, 4])\n",
      "('Python', 'Items')\n"
     ]
    }
   ],
   "source": [
    "# Python program to show that Python tuples are immutable objects    \n",
    "# Creating a tuple    \n",
    "tuple_ = (\"Python\", \"Tuple\", \"Ordered\", \"Immutable\", [1,2,3,4])    \n",
    "# Trying to change the element at index 2    \n",
    "try:    \n",
    "    tuple_[2] = \"Items\"    \n",
    "    print(tuple_)    \n",
    "except Exception as e:    \n",
    "    print( e )    \n",
    "# But inside a tuple, we can change elements of a mutable object    \n",
    "tuple_[-1][2] = 10     \n",
    "print(tuple_)    \n",
    "# Changing the whole tuple    \n",
    "tuple_ = (\"Python\", \"Items\")    \n",
    "print(tuple_)    "
   ]
  },
  {
   "cell_type": "code",
   "execution_count": 20,
   "id": "85519521-5e61-4fac-8753-4d984474c421",
   "metadata": {},
   "outputs": [
    {
     "name": "stdout",
     "output_type": "stream",
     "text": [
      "('Python', 'Tuple', 'Ordered', 'Immutable', 4, 5, 6)\n"
     ]
    }
   ],
   "source": [
    "# Python program to show how to concatenate tuples    \n",
    "# Creating a tuple    \n",
    "tuple_ = (\"Python\", \"Tuple\", \"Ordered\", \"Immutable\")    \n",
    "# Adding a tuple to the tuple_    \n",
    "print(tuple_ + (4, 5, 6))    "
   ]
  },
  {
   "cell_type": "code",
   "execution_count": null,
   "id": "2fd08c8e-c343-4376-9936-96b9ab7590c6",
   "metadata": {},
   "outputs": [],
   "source": []
  }
 ],
 "metadata": {
  "kernelspec": {
   "display_name": "Python 3 (ipykernel)",
   "language": "python",
   "name": "python3"
  },
  "language_info": {
   "codemirror_mode": {
    "name": "ipython",
    "version": 3
   },
   "file_extension": ".py",
   "mimetype": "text/x-python",
   "name": "python",
   "nbconvert_exporter": "python",
   "pygments_lexer": "ipython3",
   "version": "3.12.4"
  }
 },
 "nbformat": 4,
 "nbformat_minor": 5
}
