{
 "cells": [
  {
   "cell_type": "markdown",
   "id": "0d0cdca9-ce2d-4ba3-9966-281bf26cd9a9",
   "metadata": {},
   "source": [
    "LISTS"
   ]
  },
  {
   "cell_type": "code",
   "execution_count": 1,
   "id": "c2395e55-3b82-4692-9fa1-5c894886b22b",
   "metadata": {},
   "outputs": [
    {
     "name": "stdout",
     "output_type": "stream",
     "text": [
      "[1, 2, 'Python', 'Program', 15.9]\n",
      "['Vinay', 'Vikas', 'Ayan', 'Reyansh']\n",
      "<class 'list'>\n",
      "<class 'list'>\n"
     ]
    }
   ],
   "source": [
    "list1 = [1,2,\"Python\",\"Program\",15.9]\n",
    "list2 = [\"Vinay\",\"Vikas\",\"Ayan\",\"Reyansh\"]\n",
    "print(list1)\n",
    "print(list2)\n",
    "\n",
    "\n",
    "#printing the type of list\n",
    "print(type(list1))\n",
    "print(type(list2))"
   ]
  },
  {
   "cell_type": "code",
   "execution_count": 2,
   "id": "cada10a3-f35c-491d-9147-75b3b868ced7",
   "metadata": {},
   "outputs": [
    {
     "data": {
      "text/plain": [
       "False"
      ]
     },
     "execution_count": 2,
     "metadata": {},
     "output_type": "execute_result"
    }
   ],
   "source": [
    "# example  \n",
    "a = [ 1, 2, \"Ram\", 3.50, \"Rahul\", 5, 6 ]    \n",
    "b = [ 1, 2, 5, \"Ram\", 3.50, \"Rahul\", 6 ]    \n",
    "a == b    "
   ]
  },
  {
   "cell_type": "code",
   "execution_count": 3,
   "id": "5a97450f-2ece-4d65-ab40-59cd599d71ca",
   "metadata": {},
   "outputs": [
    {
     "data": {
      "text/plain": [
       "True"
      ]
     },
     "execution_count": 3,
     "metadata": {},
     "output_type": "execute_result"
    }
   ],
   "source": [
    "# example  \n",
    "a = [ 1, 2, \"Ram\", 3.50, \"Rahul\", 5, 6]    \n",
    "b = [ 1, 2, \"Ram\", 3.50, \"Rahul\", 5, 6]    \n",
    "a == b "
   ]
  },
  {
   "cell_type": "code",
   "execution_count": 4,
   "id": "c9b2d360-c3f8-499b-90e7-3c1e3a49d40f",
   "metadata": {},
   "outputs": [
    {
     "name": "stdout",
     "output_type": "stream",
     "text": [
      "printing employee data ...\n",
      " Name : John, ID: 102, Country: USA\n",
      "printing departments ...\n",
      "Department 1:\n",
      "Name: CS, ID: 11\n",
      " Department 2:\n",
      " Name: IT, ID: 11\n",
      "HOD Details ....\n",
      "CS HOD Name: Mr. Holding, Id: 10\n",
      "IT HOD Name: Mr. Bewon, Id: 11\n",
      "<class 'list'> <class 'list'> <class 'list'> <class 'list'> <class 'list'>\n"
     ]
    }
   ],
   "source": [
    "# list example in detail  \n",
    "emp = [ \"John\", 102, \"USA\"]       \n",
    "Dep1 = [ \"CS\",10]    \n",
    "Dep2 = [ \"IT\",11]      \n",
    "HOD_CS = [ 10,\"Mr. Holding\"]      \n",
    "HOD_IT = [11, \"Mr. Bewon\"]      \n",
    "print(\"printing employee data ...\")      \n",
    "print(\" Name : %s, ID: %d, Country: %s\" %(emp[0], emp[1], emp[2]))      \n",
    "print(\"printing departments ...\")     \n",
    "print(\"Department 1:\\nName: %s, ID: %d\\n Department 2:\\n Name: %s, ID: %s\"%( Dep1[0], Dep2[1], Dep2[0], Dep2[1]))      \n",
    "print(\"HOD Details ....\")      \n",
    "print(\"CS HOD Name: %s, Id: %d\" %(HOD_CS[1], HOD_CS[0]))      \n",
    "print(\"IT HOD Name: %s, Id: %d\" %(HOD_IT[1], HOD_IT[0]))      \n",
    "print(type(emp), type(Dep1), type(Dep2), type(HOD_CS), type(HOD_IT)) "
   ]
  },
  {
   "cell_type": "code",
   "execution_count": 6,
   "id": "dd277f7d-c385-4c88-afa5-ab66e3554043",
   "metadata": {},
   "outputs": [
    {
     "name": "stdout",
     "output_type": "stream",
     "text": [
      "1\n",
      "2\n",
      "3\n",
      "4\n",
      "[1, 2, 3, 4, 5, 6]\n",
      "[1, 2, 3, 4, 5, 6, 7]\n",
      "[3, 4, 5]\n",
      "[2, 4, 6]\n"
     ]
    }
   ],
   "source": [
    "list = [1,2,3,4,5,6,7]    \n",
    "print(list[0])    \n",
    "print(list[1])    \n",
    "print(list[2])    \n",
    "print(list[3])    \n",
    "# Slicing the elements    \n",
    "print(list[0:6])    \n",
    "# By default, the index value is 0 so its starts from the 0th element and go for index -1.    \n",
    "print(list[:])    \n",
    "print(list[2:5])    \n",
    "print(list[1:6:2])    "
   ]
  },
  {
   "cell_type": "code",
   "execution_count": 7,
   "id": "41a2c4ea-f172-469a-96fd-b986c2f653a0",
   "metadata": {},
   "outputs": [
    {
     "name": "stdout",
     "output_type": "stream",
     "text": [
      "[1, 2, 3, 4, 5, 6]\n",
      "[1, 2, 10, 4, 5, 6]\n",
      "[1, 89, 78, 4, 5, 6]\n",
      "[1, 89, 78, 4, 5, 25]\n"
     ]
    }
   ],
   "source": [
    "# updating list values  \n",
    "list = [1, 2, 3, 4, 5, 6]       \n",
    "print(list)       \n",
    "# It will assign value to the value to the second index     \n",
    "list[2] = 10     \n",
    "print(list)      \n",
    "# Adding multiple-element     \n",
    "list[1:3] = [89, 78]       \n",
    "print(list)     \n",
    "# It will add value at the end of the list    \n",
    "list[-1] = 25    \n",
    "print(list) "
   ]
  },
  {
   "cell_type": "markdown",
   "id": "d8e0060b-80f7-4a83-af88-9c277bc016e5",
   "metadata": {},
   "source": [
    "Adding elements to the list"
   ]
  },
  {
   "cell_type": "code",
   "execution_count": 8,
   "id": "6d24b308-f04f-4b83-8320-1d9993e5783e",
   "metadata": {},
   "outputs": [
    {
     "name": "stdin",
     "output_type": "stream",
     "text": [
      "Enter the number of elements in the list: 5\n",
      "Enter the item: 23\n",
      "Enter the item: 12\n",
      "Enter the item: 33\n",
      "Enter the item: 21\n",
      "Enter the item: 24\n"
     ]
    },
    {
     "name": "stdout",
     "output_type": "stream",
     "text": [
      "printing the list items..\n",
      "23  12  33  21  24  "
     ]
    }
   ],
   "source": [
    "#Declaring the empty list    \n",
    "l =[]    \n",
    "#Number of elements will be entered by the user      \n",
    "n = int(input(\"Enter the number of elements in the list:\"))    \n",
    "# for loop to take the input    \n",
    "for i in range(0,n):       \n",
    "    # The input is taken from the user and added to the list as the item    \n",
    "    l.append(input(\"Enter the item:\"))       \n",
    "print(\"printing the list items..\")     \n",
    "# traversal loop to print the list items      \n",
    "for i in l:     \n",
    "    print(i, end = \"  \")   "
   ]
  },
  {
   "cell_type": "code",
   "execution_count": 19,
   "id": "7aee41da-1802-4cd4-9043-5b7eda35f061",
   "metadata": {},
   "outputs": [
    {
     "name": "stdout",
     "output_type": "stream",
     "text": [
      "printing original list: \n",
      "0 1 2 3 4 \n",
      "printing the list after the removal of first element...\n",
      "0 1 3 4 "
     ]
    }
   ],
   "source": [
    "list = [0,1,2,3,4]       \n",
    "print(\"printing original list: \");      \n",
    "for i in list:      \n",
    "    print(i,end=\" \")      \n",
    "list.remove(2)      \n",
    "print(\"\\nprinting the list after the removal of first element...\")      \n",
    "for i in list:      \n",
    "    print(i,end=\" \")    "
   ]
  },
  {
   "cell_type": "markdown",
   "id": "658fee4d-ea2f-4988-a908-8e0ee68e42fc",
   "metadata": {},
   "source": [
    "LIST Built in Functions"
   ]
  },
  {
   "cell_type": "code",
   "execution_count": 21,
   "id": "c3970f2b-0827-42c8-9554-fa0bb42fcbb5",
   "metadata": {},
   "outputs": [
    {
     "data": {
      "text/plain": [
       "6"
      ]
     },
     "execution_count": 21,
     "metadata": {},
     "output_type": "execute_result"
    }
   ],
   "source": [
    "# size of the list  \n",
    "# declaring the list  \n",
    "list1 = [12, 16, 18, 20, 39, 40]  \n",
    "# finding length of the list  \n",
    "len(list1)  "
   ]
  },
  {
   "cell_type": "code",
   "execution_count": 22,
   "id": "da6104ba-8091-4c5e-bf36-d3a91f30d6cf",
   "metadata": {},
   "outputs": [
    {
     "name": "stdout",
     "output_type": "stream",
     "text": [
      "782\n"
     ]
    }
   ],
   "source": [
    "# maximum of the list  \n",
    "list1 = [103, 675, 321, 782, 200]  \n",
    "# large element in the list  \n",
    "print(max(list1))  "
   ]
  },
  {
   "cell_type": "code",
   "execution_count": 24,
   "id": "e60a8e41-02f2-43d5-a6af-c7d17472b241",
   "metadata": {},
   "outputs": [
    {
     "name": "stdout",
     "output_type": "stream",
     "text": [
      "103\n"
     ]
    }
   ],
   "source": [
    "# minimum of the list  \n",
    "list1 = [103, 675, 321, 782, 200]  \n",
    "# smallest element in the list  \n",
    "print(min(list1))  "
   ]
  },
  {
   "cell_type": "code",
   "execution_count": null,
   "id": "7627cbde-5cd8-4058-b034-7fe39953ecd7",
   "metadata": {},
   "outputs": [],
   "source": []
  }
 ],
 "metadata": {
  "kernelspec": {
   "display_name": "Python 3 (ipykernel)",
   "language": "python",
   "name": "python3"
  },
  "language_info": {
   "codemirror_mode": {
    "name": "ipython",
    "version": 3
   },
   "file_extension": ".py",
   "mimetype": "text/x-python",
   "name": "python",
   "nbconvert_exporter": "python",
   "pygments_lexer": "ipython3",
   "version": "3.12.4"
  }
 },
 "nbformat": 4,
 "nbformat_minor": 5
}

