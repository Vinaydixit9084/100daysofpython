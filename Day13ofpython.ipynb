
{
 "cells": [
  {
   "cell_type": "markdown",
   "id": "0511a4f4-2277-4d3b-aa18-b5cda9a4ae14",
   "metadata": {},
   "source": [
    "    DICTIONARY"
   ]
  },
  {
   "cell_type": "code",
   "execution_count": 1,
   "id": "1ac2d23d-ae0e-4e05-87ee-10774749a1ea",
   "metadata": {},
   "outputs": [
    {
     "name": "stdout",
     "output_type": "stream",
     "text": [
      "<class 'dict'>\n",
      "printing Employee data .... \n",
      "{'Name': 'Johnny', 'Age': 32, 'salary': 26000, 'Company': '^TCS'}\n"
     ]
    }
   ],
   "source": [
    "Employee = {\"Name\": \"Johnny\", \"Age\": 32, \"salary\":26000,\"Company\":\"^TCS\"}        \n",
    "print(type(Employee))        \n",
    "print(\"printing Employee data .... \")        \n",
    "print(Employee) "
   ]
  },
  {
   "cell_type": "code",
   "execution_count": 3,
   "id": "d2af5eef-30b2-4169-a5cc-7961fb30c6a3",
   "metadata": {},
   "outputs": [
    {
     "name": "stdout",
     "output_type": "stream",
     "text": [
      "Empty Dictionary: \n",
      "{}\n",
      "\n",
      "Create Dictionary by using  dict(): \n",
      "{1: 'Hcl', 2: 'WIPRO', 3: 'Facebook'}\n",
      "\n",
      "Dictionary with each item as a pair: \n",
      "{4: 'Rinku', 2: 'Singh'}\n"
     ]
    }
   ],
   "source": [
    "# Creating an empty Dictionary       \n",
    "Dict = {}       \n",
    "print(\"Empty Dictionary: \")       \n",
    "print(Dict)       \n",
    "      \n",
    "# Creating a Dictionary       \n",
    "# with dict() method       \n",
    "Dict = dict({1: 'Hcl', 2: 'WIPRO', 3:'Facebook'})       \n",
    "print(\"\\nCreate Dictionary by using  dict(): \")       \n",
    "print(Dict)       \n",
    "      \n",
    "# Creating a Dictionary       \n",
    "# with each item as a Pair       \n",
    "Dict = dict([(4, 'Rinku'), (2, 'Singh')])       \n",
    "print(\"\\nDictionary with each item as a pair: \")       \n",
    "print(Dict)     "
   ]
  },
  {
   "cell_type": "code",
   "execution_count": 4,
   "id": "cb4ddb8c-88a4-40cb-894e-cb1aab1ad82d",
   "metadata": {},
   "outputs": [
    {
     "name": "stdout",
     "output_type": "stream",
     "text": [
      "<class 'dict'>\n",
      "printing Employee data .... \n",
      "Name : Dev\n",
      "Age : 20\n",
      "Salary : 45000\n",
      "Company : WIPRO\n"
     ]
    }
   ],
   "source": [
    "Employee = {\"Name\": \"Dev\", \"Age\": 20, \"salary\":45000,\"Company\":\"WIPRO\"}      \n",
    "print(type(Employee))      \n",
    "print(\"printing Employee data .... \")      \n",
    "print(\"Name : %s\" %Employee[\"Name\"])      \n",
    "print(\"Age : %d\" %Employee[\"Age\"])      \n",
    "print(\"Salary : %d\" %Employee[\"salary\"])      \n",
    "print(\"Company : %s\" %Employee[\"Company\"])       "
   ]
  },
  {
   "cell_type": "code",
   "execution_count": 10,
   "id": "a35d0b37-7f82-4407-91c6-7c2a44b1a453",
   "metadata": {},
   "outputs": [
    {
     "name": "stdout",
     "output_type": "stream",
     "text": [
      "<class 'dict'>\n",
      "printing the Employee data...\n",
      "Name : Vinay\n",
      "Age : 20\n",
      "Salary : 21000\n",
      "Company : HCL\n"
     ]
    }
   ],
   "source": [
    "Employee = {\"Name\": \"Vinay\", \"Age\": 20, \"salary\":21000, \"Company\": \"HCL\"}\n",
    "print(type(Employee))\n",
    "print(\"printing the Employee data...\")\n",
    "print(\"Name : %s\" %Employee[\"Name\"])\n",
    "print(\"Age : %d\" %Employee[\"Age\"])      \n",
    "print(\"Salary : %d\" %Employee[\"salary\"])      \n",
    "print(\"Company : %s\" %Employee[\"Company\"]) "
   ]
  },
  {
   "cell_type": "markdown",
   "id": "7b517b1b-94f1-4bee-8289-b99b262d3f36",
   "metadata": {},
   "source": [
    "Adding Dictionary Values:"
   ]
  },
  {
   "cell_type": "code",
   "execution_count": 12,
   "id": "f20bbce7-15fd-4d14-8ed9-f057b560e83b",
   "metadata": {},
   "outputs": [
    {
     "name": "stdout",
     "output_type": "stream",
     "text": [
      "Empty Dictionary: \n",
      "{}\n",
      "\n",
      "Dictionary after adding 3 elements: \n",
      "{0: 'Peter', 2: 'Joseph', 3: 'Ricky'}\n",
      "\n",
      "Dictionary after adding 3 elements: \n",
      "{0: 'Peter', 2: 'Joseph', 3: 'Ricky', 'Emp_ages': (20, 33, 24)}\n",
      "\n",
      "Updated key value: \n",
      "{0: 'Peter', 2: 'Joseph', 3: 'Python', 'Emp_ages': (20, 33, 24)}\n"
     ]
    }
   ],
   "source": [
    "# Creating an empty Dictionary       \n",
    "Dict = {}       \n",
    "print(\"Empty Dictionary: \")       \n",
    "print(Dict)       \n",
    "        \n",
    "# Adding elements to dictionary one at a time       \n",
    "Dict[0] = 'Peter'      \n",
    "Dict[2] = 'Joseph'      \n",
    "Dict[3] = 'Ricky'      \n",
    "print(\"\\nDictionary after adding 3 elements: \")       \n",
    "print(Dict)       \n",
    "        \n",
    "# Adding set of values        \n",
    "# with a single Key       \n",
    "# The Emp_ages doesn't exist to dictionary      \n",
    "Dict['Emp_ages'] = 20, 33, 24      \n",
    "print(\"\\nDictionary after adding 3 elements: \")       \n",
    "print(Dict)       \n",
    "  \n",
    "# Updating existing Key's Value       \n",
    "Dict[3] = 'Python'      \n",
    "print(\"\\nUpdated key value: \")       \n",
    "print(Dict)            "
   ]
  },
  {
   "cell_type": "code",
   "execution_count": 13,
   "id": "8b58cfaa-e6aa-4168-934a-d5972c6b3262",
   "metadata": {},
   "outputs": [
    {
     "name": "stdout",
     "output_type": "stream",
     "text": [
      "<class 'dict'>\n",
      "printing Employee data .... \n",
      "{'Name': 'Dev', 'Age': 20, 'salary': 45000, 'Company': 'WIPRO'}\n",
      "Enter the details of the new employee....\n"
     ]
    },
    {
     "name": "stdin",
     "output_type": "stream",
     "text": [
      "Name:  KK\n",
      "Age:  34\n",
      "Salary:  40000\n",
      "Company: HCL\n"
     ]
    },
    {
     "name": "stdout",
     "output_type": "stream",
     "text": [
      "printing the new data\n",
      "{'Name': 'KK', 'Age': 34, 'salary': 40000, 'Company': 'HCL'}\n"
     ]
    }
   ],
   "source": [
    "Employee = {\"Name\": \"Dev\", \"Age\": 20, \"salary\":45000,\"Company\":\"WIPRO\"}         \n",
    "print(type(Employee))        \n",
    "print(\"printing Employee data .... \")        \n",
    "print(Employee)        \n",
    "print(\"Enter the details of the new employee....\");        \n",
    "Employee[\"Name\"] = input(\"Name: \");        \n",
    "Employee[\"Age\"] = int(input(\"Age: \"));        \n",
    "Employee[\"salary\"] = int(input(\"Salary: \"));        \n",
    "Employee[\"Company\"] = input(\"Company:\");        \n",
    "print(\"printing the new data\");        \n",
    "print(Employee)    "
   ]
  },
  {
   "cell_type": "code",
   "execution_count": 15,
   "id": "dd865341-706d-4dcc-a625-ddda847f1b16",
   "metadata": {},
   "outputs": [
    {
     "name": "stdout",
     "output_type": "stream",
     "text": [
      "<class 'dict'>\n",
      "printing Employee data .... \n",
      "{'Name': 'David', 'Age': 30, 'salary': 55000, 'Company': 'WIPRO'}\n",
      "Deleting some of the employee data\n",
      "printing the modified information \n",
      "{'Age': 30, 'salary': 55000}\n",
      "Deleting the dictionary: Employee\n"
     ]
    }
   ],
   "source": [
    "Employee = {\"Name\": \"David\", \"Age\": 30, \"salary\":55000,\"Company\":\"WIPRO\"}         \n",
    "print(type(Employee))        \n",
    "print(\"printing Employee data .... \")        \n",
    "print(Employee)        \n",
    "print(\"Deleting some of the employee data\")         \n",
    "del Employee[\"Name\"]        \n",
    "del Employee[\"Company\"]        \n",
    "print(\"printing the modified information \")        \n",
    "print(Employee)        \n",
    "print(\"Deleting the dictionary: Employee\");        \n"
   ]
  },
  {
   "cell_type": "code",
   "execution_count": 19,
   "id": "364caa60-1276-4742-87af-debc03599419",
   "metadata": {},
   "outputs": [
    {
     "name": "stdout",
     "output_type": "stream",
     "text": [
      "{1: 'Google', 3: 'Website'}\n"
     ]
    }
   ],
   "source": [
    "# Creating a Dictionary       \n",
    "Dict1 = {1: 'Google',2: 'Eucational', 3: 'Website'}       \n",
    "# Deleting a key        \n",
    "# using pop() method       \n",
    "pop_key = Dict1.pop(2)       \n",
    "print(Dict1) "
   ]
  },
  {
   "cell_type": "code",
   "execution_count": 20,
   "id": "600b6cf2-858d-4b5f-b4d8-137bffaa7729",
   "metadata": {},
   "outputs": [
    {
     "name": "stdout",
     "output_type": "stream",
     "text": [
      "Name\n",
      "Age\n",
      "salary\n",
      "Company\n"
     ]
    }
   ],
   "source": [
    "# for loop to print all the keys of a dictionary    \n",
    "Employee = {\"Name\": \"John\", \"Age\": 29, \"salary\":25000,\"Company\":\"WIPRO\"}        \n",
    "for x in Employee:        \n",
    "    print(x)   "
   ]
  },
  {
   "cell_type": "code",
   "execution_count": 22,
   "id": "6f7d14d9-d536-4e0e-8f6c-a6514fe315dd",
   "metadata": {},
   "outputs": [
    {
     "name": "stdout",
     "output_type": "stream",
     "text": [
      "John\n",
      "29\n",
      "25000\n",
      "WIPRO\n"
     ]
    }
   ],
   "source": [
    "#for loop to print all the values of the dictionary    \n",
    "Employee = {\"Name\": \"John\", \"Age\": 29, \"salary\":25000,\"Company\":\"WIPRO\"}\n",
    "for x in Employee:        \n",
    " print(Employee[x])     "
   ]
  },
  {
   "cell_type": "code",
   "execution_count": 23,
   "id": "abc8e89c-b092-4307-a0ae-e9bb0b110444",
   "metadata": {},
   "outputs": [
    {
     "name": "stdout",
     "output_type": "stream",
     "text": [
      "('Name', 'John')\n",
      "('Age', 29)\n",
      "('salary', 25000)\n",
      "('Company', 'WIPRO')\n"
     ]
    }
   ],
   "source": [
    "#for loop to print the items of the dictionary by using items() method    \n",
    "Employee = {\"Name\": \"John\", \"Age\": 29, \"salary\":25000,\"Company\":\"WIPRO\"}       \n",
    "for x in Employee.items():        \n",
    "    print(x)   "
   ]
  },
  {
   "cell_type": "code",
   "execution_count": 24,
   "id": "e3a417c0-8c7d-4d0f-a7a1-7066f904c6d9",
   "metadata": {},
   "outputs": [
    {
     "data": {
      "text/plain": [
       "4"
      ]
     },
     "execution_count": 24,
     "metadata": {},
     "output_type": "execute_result"
    }
   ],
   "source": [
    "dict = {1: \"Ayan\", 2: \"Bunny\", 3: \"Ram\", 4: \"Bheem\"}  \n",
    "len(dict)  "
   ]
  },
  {
   "cell_type": "code",
   "execution_count": 25,
   "id": "e9b1a236-c48c-41d1-988c-f508933e700e",
   "metadata": {},
   "outputs": [
    {
     "name": "stdout",
     "output_type": "stream",
     "text": [
      "{}\n"
     ]
    }
   ],
   "source": [
    "# dictionary methods    \n",
    "dict = {1: \"Hcl\", 2: \"WIPRO\", 3: \"Facebook\", 4: \"Amazon\", 5: \"Flipkart\"}    \n",
    "# clear() method    \n",
    "dict.clear()    \n",
    "print(dict)"
   ]
  },
  {
   "cell_type": "code",
   "execution_count": 26,
   "id": "32e1108c-9e06-4b59-a01e-650dbb11a157",
   "metadata": {},
   "outputs": [
    {
     "name": "stdout",
     "output_type": "stream",
     "text": [
      "{1: 'Hcl', 2: 'WIPRO', 3: 'Facebook', 4: 'Amazon', 5: 'Flipkart'}\n"
     ]
    }
   ],
   "source": [
    "# dictionary methods    \n",
    "dict = {1: \"Hcl\", 2: \"WIPRO\", 3: \"Facebook\", 4: \"Amazon\", 5: \"Flipkart\"}    \n",
    "# copy() method    \n",
    "dict_demo = dict.copy()    \n",
    "print(dict_demo) "
   ]
  },
  {
   "cell_type": "code",
   "execution_count": 27,
   "id": "d4f4122c-6880-4237-b0ed-76c69343acee",
   "metadata": {},
   "outputs": [
    {
     "name": "stdout",
     "output_type": "stream",
     "text": [
      "dict_items([(1, 'Hcl'), (2, 'WIPRO'), (3, 'Facebook'), (4, 'Amazon'), (5, 'Flipkart')])\n"
     ]
    }
   ],
   "source": [
    "# dictionary methods    \n",
    "dict = {1: \"Hcl\", 2: \"WIPRO\", 3: \"Facebook\", 4: \"Amazon\", 5: \"Flipkart\"}    \n",
    "# items() method    \n",
    "print(dict_demo.items())    "
   ]
  },
  {
   "cell_type": "code",
   "execution_count": null,
   "id": "1b9c54aa-acf4-475a-958a-d96a1df05575",
   "metadata": {},
   "outputs": [],
   "source": []
  }
 ],
 "metadata": {
  "kernelspec": {
   "display_name": "Python 3 (ipykernel)",
   "language": "python",
   "name": "python3"
  },
  "language_info": {
   "codemirror_mode": {
    "name": "ipython",
    "version": 3
   },
   "file_extension": ".py",
   "mimetype": "text/x-python",
   "name": "python",
   "nbconvert_exporter": "python",
   "pygments_lexer": "ipython3",
   "version": "3.12.4"
  }
 },
 "nbformat": 4,
 "nbformat_minor": 5

}
