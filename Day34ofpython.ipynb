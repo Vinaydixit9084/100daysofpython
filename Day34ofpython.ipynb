{
 "cells": [
  {
   "cell_type": "markdown",
   "id": "bf1bdd41-9da6-4d6f-9847-a2b681130813",
   "metadata": {},
   "source": [
    "PYTHON JSON"
   ]
  },
  {
   "cell_type": "code",
   "execution_count": 1,
   "id": "e534f809-9a2c-48b4-8e1f-7f72dbfc336c",
   "metadata": {},
   "outputs": [
    {
     "name": "stdout",
     "output_type": "stream",
     "text": [
      "['JSONDecodeError', 'JSONDecoder', 'JSONEncoder', '__all__', '__author__', '__builtins__', '__cached__', '__doc__', '__file__', '__loader__', '__name__', '__package__', '__path__', '__spec__', '__version__', '_default_decoder', '_default_encoder', 'codecs', 'decoder', 'detect_encoding', 'dump', 'dumps', 'encoder', 'load', 'loads', 'scanner']\n"
     ]
    }
   ],
   "source": [
    "import json  \n",
    "print(dir(json))  "
   ]
  },
  {
   "cell_type": "code",
   "execution_count": 5,
   "id": "5388f802-407c-4d5a-b224-7abbbb700064",
   "metadata": {},
   "outputs": [],
   "source": [
    "import json  \n",
    "# Key:value mapping  \n",
    "student  = {  \n",
    "\"Name\" : \"Peter\",  \n",
    "\"Roll_no\" : \"0090014\",  \n",
    "\"Grade\" : \"A\",  \n",
    "\"Age\": 20,  \n",
    "    \"Subject\": [\"Computer Graphics\", \"Discrete Mathematics\", \"Data Structure\"]  \n",
    "}  \n",
    "  \n",
    "with open(\"data.json\",\"w\") as write_file:  \n",
    "    json.dump(student,write_file)  "
   ]
  },
  {
   "cell_type": "code",
   "execution_count": 6,
   "id": "b1dd8987-66c6-402a-acbd-c7220b0a1da0",
   "metadata": {},
   "outputs": [
    {
     "name": "stdout",
     "output_type": "stream",
     "text": [
      "{\"Name\": \"Peter\", \"Roll_no\": \"0090014\", \"Grade\": \"A\", \"Age\": 20}\n"
     ]
    }
   ],
   "source": [
    "import json  \n",
    "# Key:value mapping  \n",
    "student  = {  \n",
    "\"Name\" : \"Peter\",  \n",
    "\"Roll_no\" : \"0090014\",  \n",
    "\"Grade\" : \"A\",  \n",
    "\"Age\": 20  \n",
    "}  \n",
    "b = json.dumps(student)  \n",
    "  \n",
    "print(b)  "
   ]
  },
  {
   "cell_type": "code",
   "execution_count": 7,
   "id": "3859be18-8ac7-4be2-a67f-6580467d4940",
   "metadata": {},
   "outputs": [
    {
     "name": "stdout",
     "output_type": "stream",
     "text": [
      "[\"Welcome\", \"to\", \"javaTpoint\"]\n",
      "[\"Welcome\", \"to\", \"javaTpoint\"]\n",
      "\"Hello\"\n",
      "1234\n",
      "23.572\n",
      "true\n",
      "false\n",
      "null\n"
     ]
    }
   ],
   "source": [
    "import json  \n",
    "  \n",
    "#Python  list conversion to JSON  Array   \n",
    "print(json.dumps(['Welcome', \"to\", \"javaTpoint\"]))  \n",
    "  \n",
    "#Python  tuple conversion to JSON Array   \n",
    "print(json.dumps((\"Welcome\", \"to\", \"javaTpoint\")))  \n",
    "  \n",
    "# Python string conversion to JSON String   \n",
    "print(json.dumps(\"Hello\"))  \n",
    "  \n",
    "# Python int conversion to JSON Number   \n",
    "print(json.dumps(1234))  \n",
    "  \n",
    "# Python float conversion to JSON Number   \n",
    "print(json.dumps(23.572))  \n",
    "  \n",
    "# Boolean conversion to their respective values   \n",
    "print(json.dumps(True))  \n",
    "print(json.dumps(False))  \n",
    "  \n",
    "# None value to null   \n",
    "print(json.dumps(None))   "
   ]
  },
  {
   "cell_type": "code",
   "execution_count": 8,
   "id": "0253c6c1-e050-4c4a-943a-5d0a9b601429",
   "metadata": {},
   "outputs": [
    {
     "name": "stdout",
     "output_type": "stream",
     "text": [
      "<class 'tuple'>\n",
      "<class 'list'>\n"
     ]
    }
   ],
   "source": [
    "import json  \n",
    "a = (10,20,30,40,50,60,70)  \n",
    "print(type(a))  \n",
    "b = json.dumps(a)  \n",
    "print(type(json.loads(b)))  "
   ]
  },
  {
   "cell_type": "code",
   "execution_count": 9,
   "id": "464f8bc9-4eeb-422b-a26f-f0d3f792e8fd",
   "metadata": {},
   "outputs": [
    {
     "name": "stdout",
     "output_type": "stream",
     "text": [
      "{'Name': 'Peter', 'Roll_no': '0090014', 'Grade': 'A', 'Age': 20}\n"
     ]
    }
   ],
   "source": [
    "import json  \n",
    "# Key:value mapping  \n",
    "student  = {  \n",
    "\"Name\" : \"Peter\",  \n",
    "\"Roll_no\" : \"0090014\",  \n",
    "\"Grade\" : \"A\",  \n",
    "\"Age\": 20,  \n",
    "}  \n",
    "  \n",
    "with open(\"data.json\",\"w\") as write_file:  \n",
    "    json.dump(student,write_file)  \n",
    "  \n",
    "with open(\"data.json\", \"r\") as read_file:  \n",
    "    b = json.load(read_file)  \n",
    "print(b)  "
   ]
  },
  {
   "cell_type": "code",
   "execution_count": 11,
   "id": "112b3c95-1a3f-4a12-9342-e1e6381212bb",
   "metadata": {},
   "outputs": [
    {
     "name": "stdout",
     "output_type": "stream",
     "text": [
      "['Mathew', 'Peter', [10, 32.9, 80], {'Name': 'Tokyo'}]\n"
     ]
    }
   ],
   "source": [
    "import json  \n",
    "a = [\"Mathew\",\"Peter\",(10,32.9,80),{\"Name\" : \"Tokyo\"}]  \n",
    "  \n",
    "# Python object into JSON   \n",
    "b = json.dumps(a)  \n",
    "  \n",
    "# JSON into Python Object  \n",
    "c = json.loads(b)  \n",
    "print(c)  "
   ]
  },
  {
   "cell_type": "code",
   "execution_count": 12,
   "id": "c438d9c4-c593-4c98-84e6-e670a10ebdf7",
   "metadata": {},
   "outputs": [
    {
     "name": "stdout",
     "output_type": "stream",
     "text": [
      "{\n",
      "     \"Age\": 23,\n",
      "     \"City\": \"English\",\n",
      "     \"Name\": \"Andrew\",\n",
      "     \"Number\": 90014,\n",
      "     \"Subject\": [\n",
      "          \"Data Structure\",\n",
      "          \"Computer Graphics\",\n",
      "          \"Discrete mathematics\"\n",
      "     ]\n",
      "}\n"
     ]
    }
   ],
   "source": [
    "import json  \n",
    "  \n",
    "person = '{\"Name\": \"Andrew\",\"City\":\"English\", \"Number\":90014, \"Age\": 23,\"Subject\": [\"Data Structure\",\"Computer Graphics\", \"Discrete mathematics\"]}'  \n",
    "  \n",
    "per_dict = json.loads(person)  \n",
    "  \n",
    "print(json.dumps(per_dict, indent = 5, sort_keys= True))  "
   ]
  },
  {
   "cell_type": "code",
   "execution_count": null,
   "id": "2ed71e9e-d222-47de-8e17-02d6a54aed68",
   "metadata": {},
   "outputs": [],
   "source": []
  }
 ],
 "metadata": {
  "kernelspec": {
   "display_name": "Python 3 (ipykernel)",
   "language": "python",
   "name": "python3"
  },
  "language_info": {
   "codemirror_mode": {
    "name": "ipython",
    "version": 3
   },
   "file_extension": ".py",
   "mimetype": "text/x-python",
   "name": "python",
   "nbconvert_exporter": "python",
   "pygments_lexer": "ipython3",
   "version": "3.12.4"
  }
 },
 "nbformat": 4,
 "nbformat_minor": 5
}
