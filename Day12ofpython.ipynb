{
 "cells": [
  {
   "cell_type": "markdown",
   "id": "4840d9e0-9a4e-4ce2-8e33-8bcaec73b23b",
   "metadata": {},
   "source": [
    "PYTHON SET"
   ]
  },
  {
   "cell_type": "code",
   "execution_count": 4,
   "id": "bbeda3a2-04ae-4e27-9a8a-09e9b254683e",
   "metadata": {},
   "outputs": [
    {
     "name": "stdout",
     "output_type": "stream",
     "text": [
      "{'Friday', 'Wednesday', 'Tuesday', 'Thursday', 'Monday', 'Sunday', 'Saturday'}\n",
      "<class 'set'>\n",
      "looping through the set elements..\n",
      "Friday\n",
      "Wednesday\n",
      "Tuesday\n",
      "Thursday\n",
      "Monday\n",
      "Sunday\n",
      "Saturday\n"
     ]
    }
   ],
   "source": [
    "Days = {\"Monday\",\"Tuesday\",\"Wednesday\",\"Thursday\",\"Friday\",\"Saturday\",\"Sunday\"}\n",
    "print(Days)\n",
    "print(type(Days))\n",
    "print(\"looping through the set elements..\")\n",
    "for i in Days:\n",
    "    print(i)"
   ]
  },
  {
   "cell_type": "code",
   "execution_count": 5,
   "id": "6a41c021-1c4d-485f-8895-c6f8e0314974",
   "metadata": {},
   "outputs": [
    {
     "name": "stdout",
     "output_type": "stream",
     "text": [
      "{'Saturday', 'Wednesday', 'Sunday', 'Friday', 'Monday', 'Tuesday', 'Thursday'}\n",
      "<class 'set'>\n",
      "looping through the set elements...\n",
      "Saturday\n",
      "Wednesday\n",
      "Sunday\n",
      "Friday\n",
      "Monday\n",
      "Tuesday\n",
      "Thursday\n"
     ]
    }
   ],
   "source": [
    "Days = set([\"Monday\",\"Tuesday\",\"Wednesday\",\"Thursday\",\"Friday\",\"Saturday\",\"Sunday\"])\n",
    "print(Days)\n",
    "print(type(Days))\n",
    "print(\"looping through the set elements...\")\n",
    "for i in Days:\n",
    "    print(i)"
   ]
  },
  {
   "cell_type": "code",
   "execution_count": 6,
   "id": "e3a308e7-e8b1-461c-b9a3-b04b15aff0e5",
   "metadata": {},
   "outputs": [
    {
     "name": "stdout",
     "output_type": "stream",
     "text": [
      "<class 'dict'>\n",
      "<class 'set'>\n"
     ]
    }
   ],
   "source": [
    "# Empty curly braces will create dictionary  \n",
    "set3 = {}  \n",
    "print(type(set3))  \n",
    "  \n",
    "# Empty set using set() function  \n",
    "set4 = set()  \n",
    "print(type(set4))  set5 = {1,2,4,4,5,8,9,9,10}  \n",
    "print(\"Return set with unique elements:\",set5)  "
   ]
  },
  {
   "cell_type": "code",
   "execution_count": 7,
   "id": "749c4ea8-c434-4be6-bf1e-d9722ee500a3",
   "metadata": {},
   "outputs": [
    {
     "name": "stdout",
     "output_type": "stream",
     "text": [
      "Return set with unique elements: {1, 2, 4, 5, 8, 9, 10}\n"
     ]
    }
   ],
   "source": [
    "set5 = {1,2,4,4,5,8,9,9,10}  \n",
    "print(\"Return set with unique elements:\",set5)  "
   ]
  },
  {
   "cell_type": "code",
   "execution_count": 9,
   "id": "9bceb3ce-8132-4865-8788-335406886071",
   "metadata": {},
   "outputs": [
    {
     "name": "stdout",
     "output_type": "stream",
     "text": [
      "\n",
      "printing the original set ... \n",
      "{'February', 'May', 'June', 'January', 'April', 'March'}\n",
      "\n",
      "Adding other months to the set...\n",
      "\n",
      "Printing the modified set...\n",
      "{'February', 'May', 'June', 'January', 'April', 'July', 'March', 'August'}\n",
      "\n",
      "looping through the set elements ... \n",
      "February\n",
      "May\n",
      "June\n",
      "January\n",
      "April\n",
      "July\n",
      "March\n",
      "August\n"
     ]
    }
   ],
   "source": [
    "#Using add() method\n",
    "Months = set([\"January\",\"February\", \"March\", \"April\", \"May\", \"June\"])    \n",
    "print(\"\\nprinting the original set ... \")    \n",
    "print(Months)    \n",
    "print(\"\\nAdding other months to the set...\");    \n",
    "Months.add(\"July\");    \n",
    "Months.add (\"August\");    \n",
    "print(\"\\nPrinting the modified set...\");    \n",
    "print(Months)    \n",
    "print(\"\\nlooping through the set elements ... \")    \n",
    "for i in Months:    \n",
    "    print(i)    "
   ]
  },
  {
   "cell_type": "code",
   "execution_count": 10,
   "id": "7d5b9482-f60f-4120-9ae1-d2d11ce302fb",
   "metadata": {},
   "outputs": [
    {
     "name": "stdout",
     "output_type": "stream",
     "text": [
      "\n",
      "printing the original set ... \n",
      "{'February', 'May', 'June', 'January', 'April', 'March'}\n",
      "\n",
      "updating the original set ... \n",
      "\n",
      "printing the modified set ... \n",
      "{'February', 'May', 'June', 'January', 'April', 'July', 'October', 'March', 'August', 'September'}\n"
     ]
    }
   ],
   "source": [
    "#Using update() function\n",
    "Months = set([\"January\",\"February\", \"March\", \"April\", \"May\", \"June\"])    \n",
    "print(\"\\nprinting the original set ... \")    \n",
    "print(Months)    \n",
    "print(\"\\nupdating the original set ... \")    \n",
    "Months.update([\"July\",\"August\",\"September\",\"October\"]);    \n",
    "print(\"\\nprinting the modified set ... \")     \n",
    "print(Months);  "
   ]
  },
  {
   "cell_type": "code",
   "execution_count": 11,
   "id": "f12f77e0-71e2-4826-baef-6315d4d4578f",
   "metadata": {},
   "outputs": [
    {
     "name": "stdout",
     "output_type": "stream",
     "text": [
      "\n",
      "printing the original set ... \n",
      "{'February', 'May', 'June', 'January', 'April', 'March'}\n",
      "\n",
      "Removing some months from the set...\n",
      "\n",
      "Printing the modified set...\n",
      "{'February', 'June', 'April', 'March'}\n",
      "\n",
      "looping through the set elements ... \n",
      "February\n",
      "June\n",
      "April\n",
      "March\n"
     ]
    }
   ],
   "source": [
    "#Using discard() method\n",
    "months = set([\"January\",\"February\", \"March\", \"April\", \"May\", \"June\"])    \n",
    "print(\"\\nprinting the original set ... \")    \n",
    "print(months)    \n",
    "print(\"\\nRemoving some months from the set...\");    \n",
    "months.discard(\"January\");    \n",
    "months.discard(\"May\");    \n",
    "print(\"\\nPrinting the modified set...\");    \n",
    "print(months)    \n",
    "print(\"\\nlooping through the set elements ... \")    \n",
    "for i in months:    \n",
    "    print(i)    "
   ]
  },
  {
   "cell_type": "code",
   "execution_count": 14,
   "id": "7b56cc2e-05e9-4013-a3ca-ac25fea8bb6e",
   "metadata": {},
   "outputs": [
    {
     "name": "stdout",
     "output_type": "stream",
     "text": [
      "\n",
      "printing the original set ... \n",
      "{'February', 'May', 'June', 'January', 'April', 'March'}\n",
      "\n",
      "Removing some months from the set...\n",
      "\n",
      "Printing the modified set...\n",
      "{'February', 'June', 'April', 'March'}\n"
     ]
    }
   ],
   "source": [
    "#Using remove() function\n",
    "months = set([\"January\",\"February\", \"March\", \"April\", \"May\", \"June\"])    \n",
    "print(\"\\nprinting the original set ... \")    \n",
    "print(months)    \n",
    "print(\"\\nRemoving some months from the set...\");    \n",
    "months.remove(\"January\");    \n",
    "months.remove(\"May\");    \n",
    "print(\"\\nPrinting the modified set...\");    \n",
    "print(months)    \n"
   ]
  },
  {
   "cell_type": "code",
   "execution_count": 15,
   "id": "ec51b24a-67a9-4ef8-a9ea-c80f6a8eed4d",
   "metadata": {},
   "outputs": [
    {
     "name": "stdout",
     "output_type": "stream",
     "text": [
      "\n",
      "printing the original set ... \n",
      "{'February', 'May', 'June', 'January', 'April', 'March'}\n",
      "\n",
      "Removing some months from the set...\n",
      "\n",
      "Printing the modified set...\n",
      "{'June', 'January', 'April', 'March'}\n"
     ]
    }
   ],
   "source": [
    "Months = set([\"January\",\"February\", \"March\", \"April\", \"May\", \"June\"])    \n",
    "print(\"\\nprinting the original set ... \")    \n",
    "print(Months)    \n",
    "print(\"\\nRemoving some months from the set...\");    \n",
    "Months.pop();    \n",
    "Months.pop();    \n",
    "print(\"\\nPrinting the modified set...\");    \n",
    "print(Months)    "
   ]
  },
  {
   "cell_type": "code",
   "execution_count": 16,
   "id": "237b2d75-0e6f-41ca-b849-c2ddb1ed4a6d",
   "metadata": {},
   "outputs": [
    {
     "name": "stdout",
     "output_type": "stream",
     "text": [
      "\n",
      "printing the original set ... \n",
      "{'February', 'May', 'June', 'January', 'April', 'March'}\n",
      "\n",
      "Removing all the items from the set...\n",
      "\n",
      "Printing the modified set...\n",
      "set()\n"
     ]
    }
   ],
   "source": [
    "Months = set([\"January\",\"February\", \"March\", \"April\", \"May\", \"June\"])    \n",
    "print(\"\\nprinting the original set ... \")    \n",
    "print(Months)    \n",
    "print(\"\\nRemoving all the items from the set...\");    \n",
    "Months.clear()    \n",
    "print(\"\\nPrinting the modified set...\")    \n",
    "print(Months)    "
   ]
  },
  {
   "cell_type": "code",
   "execution_count": 17,
   "id": "045073db-ba7c-469b-9010-4f87fb905a2b",
   "metadata": {},
   "outputs": [
    {
     "name": "stdout",
     "output_type": "stream",
     "text": [
      "\n",
      "printing the original set ... \n",
      "{'February', 'May', 'June', 'January', 'April', 'March'}\n",
      "\n",
      "Removing items through discard() method...\n",
      "\n",
      "printing the modified set...\n",
      "{'May', 'June', 'January', 'April', 'March'}\n",
      "\n",
      "Removing items through remove() method...\n",
      "\n",
      "Printing the modified set...\n",
      "{'May', 'June', 'April', 'March'}\n"
     ]
    }
   ],
   "source": [
    "Months = set([\"January\",\"February\", \"March\", \"April\", \"May\", \"June\"])    \n",
    "print(\"\\nprinting the original set ... \")    \n",
    "print(Months)    \n",
    "print(\"\\nRemoving items through discard() method...\");    \n",
    "Months.discard(\"February\");    \n",
    "print(\"\\nprinting the modified set...\")    \n",
    "print(Months)    \n",
    "print(\"\\nRemoving items through remove() method...\");    \n",
    "Months.remove(\"January\")      \n",
    "print(\"\\nPrinting the modified set...\")    \n",
    "print(Months)  "
   ]
  },
  {
   "cell_type": "code",
   "execution_count": 20,
   "id": "b550dce5-1386-4942-b1ca-48d1280264f4",
   "metadata": {},
   "outputs": [
    {
     "name": "stdout",
     "output_type": "stream",
     "text": [
      "{'Friday', 'Saturday', 'Wednesday', 'Monday', 'Sunday', 'Tuesday', 'Thursday'}\n"
     ]
    }
   ],
   "source": [
    "#using union | operator   \n",
    "Days1 = {\"Monday\",\"Tuesday\",\"Wednesday\",\"Thursday\", \"Sunday\"}    \n",
    "Days2 = {\"Friday\",\"Saturday\",\"Sunday\"}    \n",
    "print(Days1|Days2) #printing the union of the sets     "
   ]
  },
  {
   "cell_type": "code",
   "execution_count": 21,
   "id": "1494c31f-a975-40b1-bb9f-e92eb3f052f4",
   "metadata": {},
   "outputs": [
    {
     "name": "stdout",
     "output_type": "stream",
     "text": [
      "{'Friday', 'Saturday', 'Wednesday', 'Monday', 'Sunday', 'Tuesday', 'Thursday'}\n"
     ]
    }
   ],
   "source": [
    "Days1 = {\"Monday\",\"Tuesday\",\"Wednesday\",\"Thursday\"}    \n",
    "Days2 = {\"Friday\",\"Saturday\",\"Sunday\"}    \n",
    "print(Days1.union(Days2)) #printing the union of the sets    "
   ]
  },
  {
   "cell_type": "code",
   "execution_count": 22,
   "id": "34f362cd-af6b-4337-aba3-88631552845b",
   "metadata": {},
   "outputs": [
    {
     "name": "stdout",
     "output_type": "stream",
     "text": [
      "{1, 2, 3, 4, 5}\n"
     ]
    }
   ],
   "source": [
    "# Create three sets  \n",
    "set1 = {1, 2, 3}  \n",
    "set2 = {2, 3, 4}  \n",
    "set3 = {3, 4, 5}  \n",
    "  \n",
    "# Find the common elements between the three sets  \n",
    "common_elements = set1.union(set2, set3)  \n",
    "  \n",
    "# Print the common elements  \n",
    "print(common_elements) "
   ]
  },
  {
   "cell_type": "code",
   "execution_count": 23,
   "id": "c95cf625-a33e-4b96-8c66-e5caeb20bb97",
   "metadata": {},
   "outputs": [
    {
     "name": "stdout",
     "output_type": "stream",
     "text": [
      "{'Monday', 'Tuesday'}\n"
     ]
    }
   ],
   "source": [
    "#Using & operator\n",
    "Days1 = {\"Monday\",\"Tuesday\", \"Wednesday\", \"Thursday\"}    \n",
    "Days2 = {\"Monday\",\"Tuesday\",\"Sunday\", \"Friday\"}    \n",
    "print(Days1&Days2) #prints the intersection of the two sets    "
   ]
  },
  {
   "cell_type": "code",
   "execution_count": 24,
   "id": "7fa83f0f-b02b-4d7f-a886-1cbbfb745251",
   "metadata": {},
   "outputs": [
    {
     "name": "stdout",
     "output_type": "stream",
     "text": [
      "{'Martin', 'David'}\n"
     ]
    }
   ],
   "source": [
    "set1 = {\"Devansh\",\"John\", \"David\", \"Martin\"}    \n",
    "set2 = {\"Steve\", \"Milan\", \"David\", \"Martin\"}    \n",
    "print(set1.intersection(set2)) #prints the intersection of the two sets  "
   ]
  },
  {
   "cell_type": "code",
   "execution_count": 25,
   "id": "1d894381-d31f-473c-a1dd-0c7f8a77a230",
   "metadata": {},
   "outputs": [
    {
     "name": "stdout",
     "output_type": "stream",
     "text": [
      "{1, 2, 5}\n"
     ]
    }
   ],
   "source": [
    "set1 = {1,2,3,4,5,6,7}  \n",
    "set2 = {1,2,20,32,5,9}  \n",
    "set3 = set1.intersection(set2)  \n",
    "print(set3)  "
   ]
  },
  {
   "cell_type": "code",
   "execution_count": 26,
   "id": "8381ef33-4428-4fa1-8a22-18d3f5d1622e",
   "metadata": {},
   "outputs": [
    {
     "name": "stdout",
     "output_type": "stream",
     "text": [
      "{'Wednesday', 'Thursday'}\n"
     ]
    }
   ],
   "source": [
    "Days1 = {\"Monday\",  \"Tuesday\", \"Wednesday\", \"Thursday\"}    \n",
    "Days2 = {\"Monday\", \"Tuesday\", \"Sunday\"}    \n",
    "print(Days1-Days2) #{\"Wednesday\", \"Thursday\" will be printed}   "
   ]
  },
  {
   "cell_type": "code",
   "execution_count": 27,
   "id": "1cf828e2-4136-44b6-96f2-7d0914d33a11",
   "metadata": {},
   "outputs": [
    {
     "name": "stdout",
     "output_type": "stream",
     "text": [
      "{3, 4, 5, 6, 8, 9, 10}\n"
     ]
    }
   ],
   "source": [
    "a = {1,2,3,4,5,6}  \n",
    "b = {1,2,9,8,10}  \n",
    "c = a^b  \n",
    "print(c)    "
   ]
  },
  {
   "cell_type": "code",
   "execution_count": 28,
   "id": "99861a17-217a-45c3-9b5b-d7d76ac7d4ce",
   "metadata": {},
   "outputs": [
    {
     "name": "stdout",
     "output_type": "stream",
     "text": [
      "{3, 4, 5, 6, 8, 9, 10}\n"
     ]
    }
   ],
   "source": [
    "a = {1,2,3,4,5,6}  \n",
    "b = {1,2,9,8,10}  \n",
    "c = a.symmetric_difference(b)  \n",
    "print(c)  "
   ]
  },
  {
   "cell_type": "code",
   "execution_count": 29,
   "id": "4d4a02a5-2fb8-44cb-9134-8c4e2e69dc50",
   "metadata": {},
   "outputs": [
    {
     "name": "stdout",
     "output_type": "stream",
     "text": [
      "True\n",
      "False\n",
      "False\n"
     ]
    }
   ],
   "source": [
    "Days1 = {\"Monday\",  \"Tuesday\", \"Wednesday\", \"Thursday\"}    \n",
    "Days2 = {\"Monday\", \"Tuesday\"}    \n",
    "Days3 = {\"Monday\", \"Tuesday\", \"Friday\"}    \n",
    "    \n",
    "#Days1 is the superset of Days2 hence it will print true.     \n",
    "print (Days1>Days2)     \n",
    "    \n",
    "#prints false since Days1 is not the subset of Days2     \n",
    "print (Days1<Days2)    \n",
    "    \n",
    "#prints false since Days2 and Days3 are not equivalent     \n",
    "print (Days2 == Days3)"
   ]
  },
  {
   "cell_type": "code",
   "execution_count": 30,
   "id": "8218d8b1-8d3c-44fc-a398-ae3749eb2430",
   "metadata": {},
   "outputs": [
    {
     "name": "stdin",
     "output_type": "stream",
     "text": [
      "Enter the number you want to remove 5\n"
     ]
    },
    {
     "name": "stdout",
     "output_type": "stream",
     "text": [
      "After Removing: {1, 2, 3, 4, 6, 12, 24}\n"
     ]
    }
   ],
   "source": [
    "#Write a program to remove the given number from the set.\n",
    "\n",
    "my_set = {1,2,3,4,5,6,12,24}  \n",
    "n = int(input(\"Enter the number you want to remove\"))  \n",
    "my_set.discard(n)  \n",
    "print(\"After Removing:\",my_set)"
   ]
  },
  {
   "cell_type": "code",
   "execution_count": 31,
   "id": "344d1587-61ee-4018-9e5f-76dd5baf7c3b",
   "metadata": {},
   "outputs": [
    {
     "name": "stdout",
     "output_type": "stream",
     "text": [
      "{1, 2, 4, 'Mango', 'Apple', 'CS', 'Grapes', 'John'}\n"
     ]
    }
   ],
   "source": [
    "#Write a program to add multiple elements to the set.\n",
    "\n",
    "set1 = set([1,2,4,\"John\",\"CS\"])  \n",
    "set1.update([\"Apple\",\"Mango\",\"Grapes\"])  \n",
    "print(set1)  "
   ]
  },
  {
   "cell_type": "code",
   "execution_count": 32,
   "id": "7a65a53a-9b63-4f1b-80a7-7d52f405024e",
   "metadata": {},
   "outputs": [
    {
     "name": "stdout",
     "output_type": "stream",
     "text": [
      "{'Joseph', 65, 96, 1, 2, 'Peter', 59}\n"
     ]
    }
   ],
   "source": [
    "#Write a program to find the union between two set.\n",
    "\n",
    "set1 = set([\"Peter\",\"Joseph\", 65,59,96])  \n",
    "set2  = set([\"Peter\",1,2,\"Joseph\"])  \n",
    "set3 = set1.union(set2)  \n",
    "print(set3)"
   ]
  },
  {
   "cell_type": "code",
   "execution_count": 33,
   "id": "ac5fba3f-6af6-4381-98da-02828a3351d0",
   "metadata": {},
   "outputs": [
    {
     "name": "stdout",
     "output_type": "stream",
     "text": [
      "{56, 23}\n"
     ]
    }
   ],
   "source": [
    "#Write a program to find the intersection between two sets.\n",
    "\n",
    "set1 = {23,44,56,67,90,45,\"Javatpoint\"}  \n",
    "set2 = {13,23,56,76,\"Sachin\"}  \n",
    "set3 = set1.intersection(set2)  \n",
    "print(set3) "
   ]
  },
  {
   "cell_type": "code",
   "execution_count": 34,
   "id": "802196c1-fa53-49bc-86d1-713fd7b949f4",
   "metadata": {},
   "outputs": [
    {
     "name": "stdout",
     "output_type": "stream",
     "text": [
      "False\n",
      "False\n",
      "True\n",
      "True\n"
     ]
    }
   ],
   "source": [
    "#Write the program to find the issuperset, issubset and superset.\n",
    "\n",
    "set1 = set([\"Peter\",\"James\",\"Camroon\",\"Ricky\",\"Donald\"])  \n",
    "set2 = set([\"Camroon\",\"Washington\",\"Peter\"])  \n",
    "set3 = set([\"Peter\"])  \n",
    "  \n",
    "issubset = set1 >= set2  \n",
    "print(issubset)  \n",
    "issuperset = set1 <= set2  \n",
    "print(issuperset)  \n",
    "issubset = set3 <= set2  \n",
    "print(issubset)  \n",
    "issuperset = set2 >= set3  \n",
    "print(issuperset)  \n"
   ]
  },
  {
   "cell_type": "code",
   "execution_count": null,
   "id": "da7d8a1c-bad0-4977-8956-c5b356b82d0f",
   "metadata": {},
   "outputs": [],
   "source": []
  }
 ],
 "metadata": {
  "kernelspec": {
   "display_name": "Python 3 (ipykernel)",
   "language": "python",
   "name": "python3"
  },
  "language_info": {
   "codemirror_mode": {
    "name": "ipython",
    "version": 3
   },
   "file_extension": ".py",
   "mimetype": "text/x-python",
   "name": "python",
   "nbconvert_exporter": "python",
   "pygments_lexer": "ipython3",
   "version": "3.12.4"
  }
 },
 "nbformat": 4,
 "nbformat_minor": 5

}

