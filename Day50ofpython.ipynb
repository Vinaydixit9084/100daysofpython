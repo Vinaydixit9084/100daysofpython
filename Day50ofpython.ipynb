{
 "cells": [
  {
   "cell_type": "code",
   "execution_count": 6,
   "id": "b19b1353-d1ed-4316-9220-16e8eda660b6",
   "metadata": {},
   "outputs": [
    {
     "name": "stdout",
     "output_type": "stream",
     "text": [
      "5\n"
     ]
    }
   ],
   "source": [
    "#Fibonacci Number\n",
    "\n",
    "def fib(n):\n",
    "    if n==0:\n",
    "        return 0\n",
    "    elif n == 1:\n",
    "        return 1\n",
    "    return fib(n-1) + fib(n-2)\n",
    "\n",
    "print(fib(5))"
   ]
  },
  {
   "cell_type": "code",
   "execution_count": 10,
   "id": "ab94ea43-4037-44b3-8f7c-1024aaf8429c",
   "metadata": {},
   "outputs": [
    {
     "name": "stdout",
     "output_type": "stream",
     "text": [
      "55\n"
     ]
    }
   ],
   "source": [
    "#Climbing stairs\n",
    "def climbStairs(n):\n",
    "        if n <= 2:\n",
    "            return n\n",
    "        \n",
    "        dp = [0]*(n+1)\n",
    "        dp[1] = 1\n",
    "        dp[2] = 2\n",
    "        \n",
    "        for i in range(3, n+1):\n",
    "            dp[i] = dp[i-1] + dp[i-2]\n",
    "        \n",
    "        return dp[n]\n",
    "\n",
    "print(climbStairs(9))"
   ]
  },
  {
   "cell_type": "code",
   "execution_count": 11,
   "id": "0b75cb76-a902-4bf7-ae9e-e9af7e3431e4",
   "metadata": {},
   "outputs": [
    {
     "name": "stdout",
     "output_type": "stream",
     "text": [
      "False\n"
     ]
    }
   ],
   "source": [
    "#Valid perfect square(IMPORTANT)\n",
    "def isPerfectSquare(num):\n",
    "         if num < 0:\n",
    "            return False\n",
    "         if num == 0:\n",
    "            return True\n",
    "         x = int(num**0.5)\n",
    "         return x * x == num\n",
    "print(isPerfectSquare(3))"
   ]
  },
  {
   "cell_type": "code",
   "execution_count": null,
   "id": "48c36c63-eee4-4f24-8728-49a735a7ed9b",
   "metadata": {},
   "outputs": [],
   "source": []
  }
 ],
 "metadata": {
  "kernelspec": {
   "display_name": "Python 3 (ipykernel)",
   "language": "python",
   "name": "python3"
  },
  "language_info": {
   "codemirror_mode": {
    "name": "ipython",
    "version": 3
   },
   "file_extension": ".py",
   "mimetype": "text/x-python",
   "name": "python",
   "nbconvert_exporter": "python",
   "pygments_lexer": "ipython3",
   "version": "3.12.6"
  }
 },
 "nbformat": 4,
 "nbformat_minor": 5
}
