{
 "cells": [
  {
   "cell_type": "markdown",
   "id": "420959cf-5b28-43b5-98a8-1b87dec6d492",
   "metadata": {},
   "source": [
    "Python Random module"
   ]
  },
  {
   "cell_type": "code",
   "execution_count": 1,
   "id": "c2063c33-c67c-49c6-a618-4064b8475eb1",
   "metadata": {},
   "outputs": [
    {
     "name": "stdout",
     "output_type": "stream",
     "text": [
      "0.9021162677622239\n"
     ]
    }
   ],
   "source": [
    "# Python program for generating random float number  \n",
    "import random    \n",
    "num=random.random()    \n",
    "print(num)    "
   ]
  },
  {
   "cell_type": "code",
   "execution_count": 2,
   "id": "f4f4bb75-6fbf-4c36-a859-05ae03e14090",
   "metadata": {},
   "outputs": [
    {
     "name": "stdout",
     "output_type": "stream",
     "text": [
      "476\n"
     ]
    }
   ],
   "source": [
    "# Python program for generating a random integer  \n",
    "import random  \n",
    "num = random.randint(1, 500)  \n",
    "print( num )  "
   ]
  },
  {
   "cell_type": "code",
   "execution_count": 3,
   "id": "6cb53d4f-350b-41ab-9e85-b122d5487649",
   "metadata": {},
   "outputs": [
    {
     "name": "stdout",
     "output_type": "stream",
     "text": [
      "3\n",
      "3\n"
     ]
    }
   ],
   "source": [
    "# To generate value between a specific range  \n",
    "import random    \n",
    "num = random.randrange(1, 10)    \n",
    "print( num )    \n",
    "num = random.randrange(1, 10, 2)    \n",
    "print( num )                "
   ]
  },
  {
   "cell_type": "code",
   "execution_count": 5,
   "id": "14fc7d9f-529d-4b9b-b0fb-3ff8c8e7a10c",
   "metadata": {},
   "outputs": [
    {
     "name": "stdout",
     "output_type": "stream",
     "text": [
      "M\n",
      "765\n",
      "23\n"
     ]
    }
   ],
   "source": [
    "# To select a random element  \n",
    "import random  \n",
    "random_s = random.choice('Random Module') #a string  \n",
    "print( random_s )  \n",
    "random_l = random.choice([23, 54, 765, 23, 45, 45])   \n",
    "print( random_l )  \n",
    "random_s = random.choice((12, 64, 23, 54, 34))  \n",
    "print( random_s )  "
   ]
  },
  {
   "cell_type": "code",
   "execution_count": 6,
   "id": "4109413e-0963-406a-8826-5f55bbef5fa8",
   "metadata": {},
   "outputs": [
    {
     "name": "stdout",
     "output_type": "stream",
     "text": [
      "[23, 34, 23, 86, 43, 65]\n",
      "[23, 34, 23, 86, 65, 43]\n"
     ]
    }
   ],
   "source": [
    "# To shuffle elements in the list  \n",
    "list1 = [34, 23, 65, 86, 23, 43]    \n",
    "random.shuffle( list1 )    \n",
    "print( list1 )    \n",
    "random.shuffle( list1 )    \n",
    "print( list1 )    "
   ]
  },
  {
   "cell_type": "markdown",
   "id": "50426b75-e6c8-432e-b266-0bb54f6e44fd",
   "metadata": {},
   "source": [
    "Python statistics module"
   ]
  },
  {
   "cell_type": "code",
   "execution_count": 11,
   "id": "fa46b19c-a2d3-4f1b-b1d5-0b9afd5a989b",
   "metadata": {},
   "outputs": [
    {
     "name": "stdout",
     "output_type": "stream",
     "text": [
      "Mean is : 4.857142857142857\n"
     ]
    }
   ],
   "source": [
    "import statistics    \n",
    "# list of positive integer numbers   \n",
    "datasets = [5, 2, 7, 4, 2, 6, 8]     \n",
    "x = statistics.mean(datasets)     \n",
    "print(\"Mean is :\", x)  "
   ]
  },
  {
   "cell_type": "code",
   "execution_count": 12,
   "id": "abc6688a-42bc-4dd9-a26a-f23bc4fbad9f",
   "metadata": {},
   "outputs": [
    {
     "name": "stdout",
     "output_type": "stream",
     "text": [
      "Median of data-set is : 4.5 \n"
     ]
    }
   ],
   "source": [
    "import statistics     \n",
    "datasets = [4, -5, 6, 6, 9, 4, 5, -2]      \n",
    "# Printing median of the   \n",
    "# random data-set   \n",
    "print(\"Median of data-set is : % s \"  \n",
    "        % (statistics.median(datasets)))  "
   ]
  },
  {
   "cell_type": "code",
   "execution_count": 13,
   "id": "06a0d96e-6b3e-494e-9c6e-b25030a1c232",
   "metadata": {},
   "outputs": [
    {
     "name": "stdout",
     "output_type": "stream",
     "text": [
      "Calculated Mode 2\n"
     ]
    }
   ],
   "source": [
    "import statistics       \n",
    "dataset =[2, 4, 7, 7, 2, 2, 3, 6, 6, 8]     \n",
    "# Printing out the mode of given data-set   \n",
    "print(\"Calculated Mode % s\" % (statistics.mode(dataset)))  "
   ]
  },
  {
   "cell_type": "code",
   "execution_count": 14,
   "id": "92b53e3d-c92d-49ab-8253-422a7b2bd552",
   "metadata": {},
   "outputs": [
    {
     "name": "stdout",
     "output_type": "stream",
     "text": [
      "Standard Deviation of sample is 1.5811388300841898 \n"
     ]
    }
   ],
   "source": [
    "import statistics     \n",
    "# creating a simple data - set   \n",
    "sample = [7, 8, 9, 10, 11]     \n",
    "# Prints standard deviation   \n",
    "print(\"Standard Deviation of sample is % s \"   \n",
    "                % (statistics.stdev(sample)))   "
   ]
  },
  {
   "cell_type": "code",
   "execution_count": 16,
   "id": "f17f2a1b-9be0-47f1-8330-2c6c98765cba",
   "metadata": {},
   "outputs": [
    {
     "name": "stdout",
     "output_type": "stream",
     "text": [
      "Low median of data-set is 5 \n"
     ]
    }
   ],
   "source": [
    "import statistics     \n",
    "# simple list of a set of integers   \n",
    "set1 = [4, 6, 2, 5, 7, 7]        \n",
    "print(\"Low median of data-set is % s \"   \n",
    "        % (statistics.median_low(set1)))  "
   ]
  },
  {
   "cell_type": "code",
   "execution_count": 17,
   "id": "53515dc0-775d-45ee-a967-a1847e0b5cd3",
   "metadata": {},
   "outputs": [
    {
     "name": "stdout",
     "output_type": "stream",
     "text": [
      "High median of data-set is 6 \n"
     ]
    }
   ],
   "source": [
    "import statistics     \n",
    "# list of set of the integers   \n",
    "dataset = [2, 1, 7, 6, 1, 9]     \n",
    "print(\"High median of data-set is %s \"   \n",
    "        % (statistics.median_high(dataset)))  "
   ]
  },
  {
   "cell_type": "code",
   "execution_count": null,
   "id": "7e4f73e2-56ee-4364-a624-d86bf30daf61",
   "metadata": {},
   "outputs": [],
   "source": []
  }
 ],
 "metadata": {
  "kernelspec": {
   "display_name": "Python 3 (ipykernel)",
   "language": "python",
   "name": "python3"
  },
  "language_info": {
   "codemirror_mode": {
    "name": "ipython",
    "version": 3
   },
   "file_extension": ".py",
   "mimetype": "text/x-python",
   "name": "python",
   "nbconvert_exporter": "python",
   "pygments_lexer": "ipython3",
   "version": "3.12.4"
  }
 },
 "nbformat": 4,
 "nbformat_minor": 5
}
