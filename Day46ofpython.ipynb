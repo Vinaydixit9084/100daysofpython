{
 "cells": [
  {
   "cell_type": "code",
   "execution_count": 28,
   "id": "85e6215c-6a57-40b4-9df1-9176d197e711",
   "metadata": {},
   "outputs": [
    {
     "name": "stdout",
     "output_type": "stream",
     "text": [
      "[0, 1]\n"
     ]
    }
   ],
   "source": [
    "# Add two numbers in list\n",
    "def twoSum(nums, target):\n",
    "    num_dict = {}\n",
    "\n",
    "    for i, num in enumerate(nums):\n",
    "        complement = target - num\n",
    "\n",
    "        if complement in num_dict:\n",
    "            return[num_dict[complement], i]\n",
    "\n",
    "        num_dict[num] = i\n",
    "\n",
    "    return[]\n",
    "\n",
    "nums = [2,7,11,15]\n",
    "\n",
    "print(twoSum(nums, 9))"
   ]
  },
  {
   "cell_type": "code",
   "execution_count": 37,
   "id": "c56cf82b-c78a-4c82-9247-9d1fa3b602e0",
   "metadata": {},
   "outputs": [
    {
     "name": "stdout",
     "output_type": "stream",
     "text": [
      "True\n"
     ]
    }
   ],
   "source": [
    "#Check if Array Is Sorted and Rotated\n",
    "def check(nums):\n",
    "        count = 0\n",
    "        for i in range(len(nums)):\n",
    "            if nums[i] > nums[(i + 1) % len(nums)]:\n",
    "                count += 1\n",
    "        return count <= 1\n",
    "\n",
    "nums = [3,4,5,1,2]\n",
    "print(check(nums))"
   ]
  },
  {
   "cell_type": "code",
   "execution_count": 41,
   "id": "ab80c956-7421-41b1-9ab5-624c8c0fee55",
   "metadata": {},
   "outputs": [
    {
     "name": "stdout",
     "output_type": "stream",
     "text": [
      "[[1], [1, 1], [1, 2, 1], [1, 3, 3, 1], [1, 4, 6, 4, 1]]\n"
     ]
    }
   ],
   "source": [
    "def generate(numRows):\n",
    "        triangle = []\n",
    "        for i in range(numRows):\n",
    "            row = [None] * (i + 1)\n",
    "            row[0], row[-1] = 1, 1\n",
    "            for j in range(1, len(row) - 1):\n",
    "                row[j] = triangle[i - 1][j - 1] + triangle[i - 1][j]\n",
    "            triangle.append(row)\n",
    "        return triangle\n",
    "\n",
    "print(generate(5))"
   ]
  },
  {
   "cell_type": "code",
   "execution_count": 49,
   "id": "d244dff2-f788-462e-a60e-62b3df38c7ae",
   "metadata": {},
   "outputs": [
    {
     "name": "stdout",
     "output_type": "stream",
     "text": [
      "4\n"
     ]
    }
   ],
   "source": [
    "from collections import Counter\n",
    "\n",
    "class Solution:\n",
    "    def maxFrequencyElements(self, nums: list[int]) -> int:\n",
    "        freq = Counter(nums)\n",
    "        max_freq = max(freq.values())  # Find the maximum frequency\n",
    "     \n",
    "        return sum(count for count in freq.values() if count == max_freq)\n",
    "\n",
    "\n",
    "sol = Solution()\n",
    "print(sol.maxFrequencyElements([1, 2, 2, 3, 1, 4]))"
   ]
  },
  {
   "cell_type": "code",
   "execution_count": null,
   "id": "e8832dbb-caf5-4914-a82a-cb0055f8d64f",
   "metadata": {},
   "outputs": [],
   "source": []
  }
 ],
 "metadata": {
  "kernelspec": {
   "display_name": "Python 3 (ipykernel)",
   "language": "python",
   "name": "python3"
  },
  "language_info": {
   "codemirror_mode": {
    "name": "ipython",
    "version": 3
   },
   "file_extension": ".py",
   "mimetype": "text/x-python",
   "name": "python",
   "nbconvert_exporter": "python",
   "pygments_lexer": "ipython3",
   "version": "3.12.6"
  }
 },
 "nbformat": 4,
 "nbformat_minor": 5
}
