{
 "cells": [
  {
   "cell_type": "markdown",
   "id": "59ff14ae-8b1c-42f7-ae11-bbb618a7a287",
   "metadata": {},
   "source": [
    "The if statement"
   ]
  },
  {
   "cell_type": "code",
   "execution_count": 10,
   "id": "a7dcaf2f-5dc9-4a14-9d2a-6926c5e61131",
   "metadata": {},
   "outputs": [
    {
     "name": "stdin",
     "output_type": "stream",
     "text": [
      "Enter the number:  6\n"
     ]
    },
    {
     "name": "stdout",
     "output_type": "stream",
     "text": [
      "The number is even\n"
     ]
    }
   ],
   "source": [
    "num = int(input(\"Enter the number: \"))\n",
    "if num%2 == 0:\n",
    "    print(\"The number is even\")"
   ]
  },
  {
   "cell_type": "code",
   "execution_count": 2,
   "id": "84d95529-7136-4a88-b8ca-7b18568d1683",
   "metadata": {},
   "outputs": [
    {
     "name": "stdin",
     "output_type": "stream",
     "text": [
      "Enter a:  4\n",
      "Enter b:  8\n",
      "Enter c:  1\n"
     ]
    },
    {
     "name": "stdout",
     "output_type": "stream",
     "text": [
      "b is the largest number\n"
     ]
    }
   ],
   "source": [
    "a = int(input(\"Enter a: \"))\n",
    "b = int(input(\"Enter b: \"))\n",
    "c = int(input(\"Enter c: \"))\n",
    "\n",
    "if a>b and b>c:\n",
    "    print(\"a is the largest number\")\n",
    "\n",
    "if b>a and b>c:\n",
    "    print(\"b is the largest number\")\n",
    "\n",
    "if c>a and c>a:\n",
    "    print(\"c is the largest number\")"
   ]
  },
  {
   "cell_type": "markdown",
   "id": "e604e6cf-86f2-4417-8285-e6fb6c7bc0fa",
   "metadata": {},
   "source": [
    "The if-else statement"
   ]
  },
  {
   "cell_type": "code",
   "execution_count": 11,
   "id": "fe03b4ba-8b38-4195-908e-ce6e4c1d668e",
   "metadata": {},
   "outputs": [
    {
     "name": "stdin",
     "output_type": "stream",
     "text": [
      "Enter your age:  19\n"
     ]
    },
    {
     "name": "stdout",
     "output_type": "stream",
     "text": [
      "You can vote\n"
     ]
    }
   ],
   "source": [
    "age = int(input(\"Enter your age: \"))\n",
    "if age>18:\n",
    "    print(\"You can vote\")\n",
    "\n",
    "else:\n",
    "    print(\"You can't vote\")"
   ]
  },
  {
   "cell_type": "code",
   "execution_count": 12,
   "id": "ae5fd973-54a6-4f65-bc8f-95f09f29b951",
   "metadata": {},
   "outputs": [
    {
     "name": "stdin",
     "output_type": "stream",
     "text": [
      "Enter the number:  17\n"
     ]
    },
    {
     "name": "stdout",
     "output_type": "stream",
     "text": [
      "The number is odd\n"
     ]
    }
   ],
   "source": [
    "num = int(input(\"Enter the number: \"))\n",
    "if num%2 == 0:\n",
    "    print(\"The number is even\")\n",
    "\n",
    "else:\n",
    "    print(\"The number is odd\")"
   ]
  },
  {
   "cell_type": "markdown",
   "id": "ead08300-f691-46ed-bef1-e7542858c952",
   "metadata": {},
   "source": [
    "The elif statement"
   ]
  },
  {
   "cell_type": "code",
   "execution_count": 13,
   "id": "5704b701-b709-471a-998b-31bc319de228",
   "metadata": {},
   "outputs": [
    {
     "name": "stdin",
     "output_type": "stream",
     "text": [
      "Enter the number? 40\n"
     ]
    },
    {
     "name": "stdout",
     "output_type": "stream",
     "text": [
      "The given number is not equal to 10, 50 or 100\n"
     ]
    }
   ],
   "source": [
    "number = int(input(\"Enter the number?\"))     \n",
    "if number==10:     \n",
    "    print(\"The given number is equals to 10\")    \n",
    "elif number==50:    \n",
    "    print(\"The given number is equal to 50\");    \n",
    "elif number==100:    \n",
    "    print(\"The given number is equal to 100\");    \n",
    "else:    \n",
    "    print(\"The given number is not equal to 10, 50 or 100\");    "
   ]
  },
  {
   "cell_type": "code",
   "execution_count": 1,
   "id": "5510c646-cf53-4b04-b68b-664f3c289bf9",
   "metadata": {},
   "outputs": [
    {
     "name": "stdin",
     "output_type": "stream",
     "text": [
      "Enter the marks?  89\n"
     ]
    },
    {
     "name": "stdout",
     "output_type": "stream",
     "text": [
      "Congrats ! you scored grade A ...\n"
     ]
    }
   ],
   "source": [
    " marks = int(input(\"Enter the marks? \"))    \n",
    "if marks > 85 and marks <= 100:   \n",
    "   print(\"Congrats ! you scored grade A ...\")    \n",
    "elif marks > 60 and marks <= 85:    \n",
    "   print(\"You scored grade B + ...\")    \n",
    "elif marks > 40 and marks <= 60:    \n",
    "   print(\"You scored grade B ...\")    \n",
    "elif (marks > 30 and marks <= 40):     \n",
    "   print(\"You scored grade C ...\")    \n",
    "else:    \n",
    "   print(\"Sorry you are fail ?\")\n"
   ]
  },
  {
   "cell_type": "code",
   "execution_count": null,
   "id": "1b1f121a-9207-408c-a929-42be9fe9f48d",
   "metadata": {},
   "outputs": [],
   "source": []
  }
 ],
 "metadata": {
  "kernelspec": {
   "display_name": "Python 3 (ipykernel)",
   "language": "python",
   "name": "python3"
  },
  "language_info": {
   "codemirror_mode": {
    "name": "ipython",
    "version": 3
   },
   "file_extension": ".py",
   "mimetype": "text/x-python",
   "name": "python",
   "nbconvert_exporter": "python",
   "pygments_lexer": "ipython3",
   "version": "3.12.4"
  }
 },
 "nbformat": 4,
 "nbformat_minor": 5

}
