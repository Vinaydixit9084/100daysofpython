{
 "cells": [
  {
   "cell_type": "code",
   "execution_count": 9,
   "id": "35d58e2a-6dc5-4730-a4e8-52e5e197911b",
   "metadata": {},
   "outputs": [
    {
     "name": "stdout",
     "output_type": "stream",
     "text": [
      "Now called __init__ magic method, after tha initialised parameters\n",
      "<__main__.methods object at 0x00000193CD7B0D40>\n",
      "Name, standard, and marks of the student is: \n",
      " Itika \n",
      " 11 \n",
      " 98\n"
     ]
    }
   ],
   "source": [
    "# Python program to show how __init__ method works  \n",
    " \n",
    "class methods():  \n",
    "    def __init__(self, *args):  \n",
    "        print (\"Now called __init__ magic method, after tha initialised parameters\")  \n",
    "        self.name = args[0]  \n",
    "        self.std = args[1]  \n",
    "        self.marks = args[2]  \n",
    "  \n",
    "Student = methods(\"Itika\", 11, 98)  \n",
    "print(Student)  \n",
    "print(f\"Name, standard, and marks of the student is: \\n\", Student.name, \"\\n\", Student.std, \"\\n\", Student.marks)  "
   ]
  },
  {
   "cell_type": "code",
   "execution_count": 2,
   "id": "72a0bbd5-4a49-46eb-a4f4-adc50edd2c3d",
   "metadata": {},
   "outputs": [
    {
     "name": "stdout",
     "output_type": "stream",
     "text": [
      "Creating an instance by __new__ method\n",
      "Init method is called here\n"
     ]
    },
    {
     "data": {
      "text/plain": [
       "<__main__.Method at 0x193cec63290>"
      ]
     },
     "execution_count": 2,
     "metadata": {},
     "output_type": "execute_result"
    }
   ],
   "source": [
    "# Python program to show how __new__ method works  \n",
    " \n",
    "class Method(object):  \n",
    "    def __new__( cls ):  \n",
    "        print( \"Creating an instance by __new__ method\")  \n",
    "        return super(Method, cls).__new__(cls)  \n",
    "    # Calling the init method  \n",
    "    def __init__( self ):  \n",
    "        print( \"Init method is called here\" )  \n",
    "  \n",
    "Method()  "
   ]
  },
  {
   "cell_type": "code",
   "execution_count": 3,
   "id": "ab7c1a0a-4eb6-4731-84e9-8401fe2b2e7d",
   "metadata": {},
   "outputs": [
    {
     "name": "stdout",
     "output_type": "stream",
     "text": [
      " Attribute\n",
      " 27\n",
      " 27 Attribute\n"
     ]
    }
   ],
   "source": [
    "# Python program to show how to add two attributes  \n",
    "\n",
    "class Method:  \n",
    "    def __init__(self, argument):  \n",
    "        self.attribute = argument  \n",
    "  \n",
    "# Creating a second class  \n",
    "class Method_2:  \n",
    "    def __init__(self, argument):  \n",
    "        self.attribute = argument  \n",
    "# creating the instances  \n",
    "instance_1 = Method(\" Attribute\")  \n",
    "print(instance_1.attribute)  \n",
    "instance_2 = Method_2(\" 27\")  \n",
    "print(instance_2.attribute)  \n",
    "  \n",
    "# Adding two attributes of the instances  \n",
    "print(instance_2.attribute + instance_1.attribute)  "
   ]
  },
  {
   "cell_type": "code",
   "execution_count": 10,
   "id": "90169d88-20b1-4446-847f-6eb21fc30c7d",
   "metadata": {},
   "outputs": [
    {
     "name": "stdout",
     "output_type": "stream",
     "text": [
      "<__main__.Method object at 0x00000193CEC60920>\n",
      "<__main__.Method_2 object at 0x00000193CEC978C0>\n",
      " 27 Attribute\n"
     ]
    }
   ],
   "source": [
    "# Python program to show how __add__ method works  \n",
    " \n",
    "class Method:  \n",
    "    def __init__(self, argument):  \n",
    "        self.attribute = argument  \n",
    "    def __add__(self, object1):  \n",
    "        return self.attribute + object1.attribute  \n",
    "  \n",
    "# Creating a second class  \n",
    "class Method_2:  \n",
    "    def __init__(self, argument):  \n",
    "        self.attribute = argument  \n",
    "    def __add__(self, object1):  \n",
    "        return self.attribute + object1.attribute  \n",
    "instance_1 = Method(\" Attribute\")  \n",
    "print(instance_1)  \n",
    "instance_2 = Method_2(\" 27\")  \n",
    "print(instance_2)  \n",
    "print(instance_2 + instance_1)  "
   ]
  },
  {
   "cell_type": "code",
   "execution_count": 11,
   "id": "ab3d9c41-4798-47d7-a750-13629b6e54df",
   "metadata": {},
   "outputs": [
    {
     "name": "stdout",
     "output_type": "stream",
     "text": [
      "Following are the values of the attributes of the class Method:\n",
      "x = 4\n",
      "y = 6\n",
      "z = 2\n"
     ]
    }
   ],
   "source": [
    "# Python program to show how __repr__ magic method works  \n",
    "\n",
    "class Method:  \n",
    "    # Calling __init__ method and initializing the attributes of the class  \n",
    "    def __init__(self, x, y, z):  \n",
    "        self.x = x  \n",
    "        self.y = y  \n",
    "        self.z = z  \n",
    "    # Calling the __repr__ method and providing the string to be printed each time instance is printe  \n",
    "    def __repr__(self):  \n",
    "        return f\"Following are the values of the attributes of the class Method:\\nx = {self.x}\\ny = {self.y}\\nz = {self.z}\"  \n",
    "instance = Method(4, 6, 2)  \n",
    "print(instance)  "
   ]
  },
  {
   "cell_type": "code",
   "execution_count": 12,
   "id": "30b9d7a4-d1dd-4f48-ad18-a9aa9fb43b22",
   "metadata": {},
   "outputs": [
    {
     "name": "stdout",
     "output_type": "stream",
     "text": [
      "4 is contained in attribute:  True\n",
      "5 is contained in attribute:  False\n"
     ]
    }
   ],
   "source": [
    "# Python code to show how the __contains__ magic method works  \n",
    " \n",
    "class Method:  \n",
    "    # Calling the __init__ method and initializing the attributes  \n",
    "    def __init__(self, attribute):  \n",
    "        self.attribute = attribute  \n",
    "          \n",
    "    # Calling the __contains__ method  \n",
    "    def __contains__(self, attribute):  \n",
    "        return attribute in self.attribute  \n",
    "# Creating an instance of the class  \n",
    "instance = Method([4, 6, 8, 9, 1, 6])  \n",
    "  \n",
    "# Checking if a value is present in the container attribute  \n",
    "print(\"4 is contained in \"\"attribute\"\": \", 4 in instance)  \n",
    "print(\"5 is contained in \"\"attribute\"\": \", 5 in instance)  "
   ]
  },
  {
   "cell_type": "code",
   "execution_count": 7,
   "id": "8bf59d9e-b651-45da-be97-6f6dfa5eb927",
   "metadata": {},
   "outputs": [
    {
     "name": "stdout",
     "output_type": "stream",
     "text": [
      "7\n",
      "35\n"
     ]
    }
   ],
   "source": [
    "# Python program to show how the __call__ magic method works  \n",
    "  \n",
    "# Creating a class  \n",
    "class Method:  \n",
    "    # Calling the __init__ method and initializing the attributes  \n",
    "    def __init__(self, a):  \n",
    "        self.a = a  \n",
    "    # Calling the __call__ method to multiply a number to the attribute value  \n",
    "    def __call__(self, number):  \n",
    "        return self.a * number  \n",
    "  \n",
    "# Creating an instance and proving the value to the attribute a  \n",
    "instance = Method(7)  \n",
    "print(instance.a) # Printing the value of the attribute a  \n",
    "# Calling the instance while passing a value which will call the __call__ method  \n",
    "print(instance(5))  "
   ]
  },
  {
   "cell_type": "code",
   "execution_count": 13,
   "id": "56c4d3a7-39b2-48fb-b978-f1f84c997912",
   "metadata": {},
   "outputs": [
    {
     "name": "stdout",
     "output_type": "stream",
     "text": [
      "9\n",
      "16\n",
      "25\n",
      "36\n",
      "49\n",
      "64\n"
     ]
    }
   ],
   "source": [
    "# Python program to show how the __iter__ method works  \n",
    "\n",
    "class Method:  \n",
    "    def __init__(self, start_value, stop_value):  \n",
    "        self.start = start_value  \n",
    "        self.stop = stop_value  \n",
    "    def __iter__(self):  \n",
    "        for num in range(self.start, self.stop + 1):  \n",
    "            yield num ** 2  \n",
    "# Creating an instance  \n",
    "instance = iter(Method(3, 8))  \n",
    "print( next(instance) )  \n",
    "print( next(instance) )  \n",
    "print( next(instance) )  \n",
    "print( next(instance) )  \n",
    "print( next(instance) )  \n",
    "print( next(instance) )  "
   ]
  },
  {
   "cell_type": "code",
   "execution_count": null,
   "id": "9be52128-7886-46d8-8df9-3173cb2075a5",
   "metadata": {},
   "outputs": [],
   "source": []
  }
 ],
 "metadata": {
  "kernelspec": {
   "display_name": "Python 3 (ipykernel)",
   "language": "python",
   "name": "python3"
  },
  "language_info": {
   "codemirror_mode": {
    "name": "ipython",
    "version": 3
   },
   "file_extension": ".py",
   "mimetype": "text/x-python",
   "name": "python",
   "nbconvert_exporter": "python",
   "pygments_lexer": "ipython3",
   "version": "3.12.4"
  }
 },
 "nbformat": 4,
 "nbformat_minor": 5
}
