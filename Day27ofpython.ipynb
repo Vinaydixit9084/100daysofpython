{
 "cells": [
  {
   "cell_type": "markdown",
   "id": "1847a575-c393-4332-a501-76a893f58aae",
   "metadata": {},
   "source": [
    "While Loops"
   ]
  },
  {
   "cell_type": "code",
   "execution_count": 2,
   "id": "04f7aab3-88a5-4088-98b4-abc57e33d954",
   "metadata": {},
   "outputs": [
    {
     "name": "stdout",
     "output_type": "stream",
     "text": [
      "1 2 3 4 5 6 7 8 9 10 "
     ]
    }
   ],
   "source": [
    "i = 1\n",
    "while i<=10:\n",
    "    print(i,end=' ')\n",
    "    i+=1"
   ]
  },
  {
   "cell_type": "code",
   "execution_count": 10,
   "id": "3fd8d9ee-6222-4a67-adbf-c631455281b2",
   "metadata": {},
   "outputs": [
    {
     "name": "stdout",
     "output_type": "stream",
     "text": [
      "5 7 10 14 15 20 21 25 28 30 35 40 42 45 49 50 "
     ]
    }
   ],
   "source": [
    "i=1  \n",
    "while i<51:  \n",
    "    if i%5 == 0 or i%7==0 :  \n",
    "        print(i, end=' ')  \n",
    "    i+=1  "
   ]
  },
  {
   "cell_type": "code",
   "execution_count": 15,
   "id": "23f690f5-20bc-40b3-b33b-b2b6cecedc2a",
   "metadata": {},
   "outputs": [
    {
     "name": "stdout",
     "output_type": "stream",
     "text": [
      "The sum of squares is 1240\n"
     ]
    }
   ],
   "source": [
    "# Python program example to show the use of while loop   \n",
    "  \n",
    "num = 15  \n",
    "  \n",
    "# initializing summation and a counter for iteration  \n",
    "summation = 0  \n",
    "c = 1  \n",
    "  \n",
    "while c <= num:    \n",
    "    summation = c**2 + summation  \n",
    "    c = c + 1     \n",
    "  \n",
    "print(\"The sum of squares is\", summation)  "
   ]
  },
  {
   "cell_type": "code",
   "execution_count": 16,
   "id": "60bc874e-a0bf-42ef-beef-ebf8043969ac",
   "metadata": {},
   "outputs": [
    {
     "name": "stdout",
     "output_type": "stream",
     "text": [
      "34 is not a PRIME number\n",
      "12 is not a PRIME number\n",
      "54 is not a PRIME number\n",
      "23 is a PRIME number\n",
      "75 is not a PRIME number\n",
      "34 is not a PRIME number\n",
      "11 is a PRIME number\n"
     ]
    }
   ],
   "source": [
    "num = [34, 12, 54, 23, 75, 34, 11]    \n",
    "  \n",
    "def prime_number(number):  \n",
    "    condition = 0  \n",
    "    iteration = 2  \n",
    "    while iteration <= number / 2:  \n",
    "        if number % iteration == 0:  \n",
    "            condition = 1  \n",
    "            break  \n",
    "        iteration = iteration + 1  \n",
    "  \n",
    "    if condition == 0:  \n",
    "        print(f\"{number} is a PRIME number\")  \n",
    "    else:  \n",
    "        print(f\"{number} is not a PRIME number\")  \n",
    "for i in num:  \n",
    "    prime_number(i)  "
   ]
  },
  {
   "cell_type": "code",
   "execution_count": 18,
   "id": "73db0244-f79e-4d9e-ba64-29e2cfa9eb52",
   "metadata": {},
   "outputs": [
    {
     "name": "stdin",
     "output_type": "stream",
     "text": [
      " 1\n"
     ]
    },
    {
     "name": "stdout",
     "output_type": "stream",
     "text": [
      "It is an Armstrong number\n"
     ]
    }
   ],
   "source": [
    "n = int(input())  \n",
    "n1=str(n)  \n",
    "l=len(n1)  \n",
    "temp=n  \n",
    "s=0  \n",
    "while n!=0:  \n",
    "    r=n%10  \n",
    "    s=s+(r**1)  \n",
    "    n=n//10  \n",
    "if s==temp:  \n",
    "    print(\"It is an Armstrong number\")  \n",
    "else:  \n",
    "    print(\"It is not an Armstrong number \")"
   ]
  },
  {
   "cell_type": "code",
   "execution_count": 19,
   "id": "d2d413b5-e3fe-4e24-b042-fc35d0d598f8",
   "metadata": {},
   "outputs": [
    {
     "name": "stdout",
     "output_type": "stream",
     "text": [
      "The Multiplication Table of:  21\n",
      "21 x 1 = 21\n",
      "21 x 2 = 42\n",
      "21 x 3 = 63\n",
      "21 x 4 = 84\n",
      "21 x 5 = 105\n",
      "21 x 6 = 126\n",
      "21 x 7 = 147\n",
      "21 x 8 = 168\n",
      "21 x 9 = 189\n",
      "21 x 10 = 210\n"
     ]
    }
   ],
   "source": [
    "num = 21        \n",
    "counter = 1      \n",
    "# we will use a while loop for iterating 10 times for the multiplication table        \n",
    "print(\"The Multiplication Table of: \", num)      \n",
    "while counter <= 10: # specifying the condition  \n",
    "    ans = num * counter      \n",
    "    print (num, 'x', counter, '=', ans)      \n",
    "    counter += 1 # expression to increment the counter  "
   ]
  },
  {
   "cell_type": "code",
   "execution_count": 20,
   "id": "a7ec29b7-eeb8-4217-8f07-2b9e810bc17f",
   "metadata": {},
   "outputs": [
    {
     "name": "stdout",
     "output_type": "stream",
     "text": [
      "[36, 16, 1, 25, 9]\n"
     ]
    }
   ],
   "source": [
    "# Python program to square every number of a list    \n",
    "list_ = [3, 5, 1, 4, 6]    \n",
    "squares = []    \n",
    "# programing a while loop     \n",
    "while list_:     \n",
    "    squares.append( (list_.pop())**2)    \n",
    "print( squares )    "
   ]
  },
  {
   "cell_type": "code",
   "execution_count": 21,
   "id": "26328dd1-7379-41dc-9e04-b52ff102e17a",
   "metadata": {},
   "outputs": [
    {
     "name": "stdout",
     "output_type": "stream",
     "text": [
      "It is an odd number\n",
      "It is an even number\n",
      "It is an even number\n",
      "It is an even number\n",
      "It is an even number\n",
      "It is an odd number\n",
      "It is an odd number\n",
      "It is an even number\n"
     ]
    }
   ],
   "source": [
    "list_ = [3, 4, 8, 10, 34, 45, 67,80]        \n",
    "index = 0  \n",
    "while index < len(list_):  \n",
    "    element = list_[index]  \n",
    "    if element % 2 == 0:  \n",
    "        print('It is an even number')      \n",
    "    else:  \n",
    "        print('It is an odd number')      \n",
    "    index += 1  "
   ]
  },
  {
   "cell_type": "code",
   "execution_count": 22,
   "id": "7ffc415b-84e3-42a8-ab7d-86450f03be07",
   "metadata": {},
   "outputs": [
    {
     "name": "stdout",
     "output_type": "stream",
     "text": [
      "5\n",
      "4\n",
      "3\n",
      "2\n"
     ]
    }
   ],
   "source": [
    "List_= ['Priya', 'Neha', 'Cow', 'To']  \n",
    "index = 0  \n",
    "while index < len(List_):  \n",
    "    element = List_[index]  \n",
    "    print(len(element))  \n",
    "    index += 1  "
   ]
  },
  {
   "cell_type": "code",
   "execution_count": null,
   "id": "fcef8d1f-d2d0-4d0a-8548-d4e91051003a",
   "metadata": {},
   "outputs": [],
   "source": []
  }
 ],
 "metadata": {
  "kernelspec": {
   "display_name": "Python 3 (ipykernel)",
   "language": "python",
   "name": "python3"
  },
  "language_info": {
   "codemirror_mode": {
    "name": "ipython",
    "version": 3
   },
   "file_extension": ".py",
   "mimetype": "text/x-python",
   "name": "python",
   "nbconvert_exporter": "python",
   "pygments_lexer": "ipython3",
   "version": "3.12.4"
  }
 },
 "nbformat": 4,
 "nbformat_minor": 5

}
