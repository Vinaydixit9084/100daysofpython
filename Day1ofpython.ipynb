{
 "cells": [
  {
   "cell_type": "markdown",
   "id": "a2973b8d-e921-432d-a39d-67eeb84481ac",
   "metadata": {},
   "source": [
    "Hello World\n"
   ]
  },
  {
   "cell_type": "code",
   "execution_count": 2,
   "id": "98545bb0-6b86-450f-a5c6-2cf209ca3b39",
   "metadata": {},
   "outputs": [
    {
     "name": "stdout",
     "output_type": "stream",
     "text": [
      "Hello World\n"
     ]
    }
   ],
   "source": [
    "message = 'Hello World'\n",
    "print(message)"
   ]
  },
  {
   "cell_type": "markdown",
   "id": "3fdbb647-04a2-4dac-b897-1436ba1ad5e8",
   "metadata": {},
   "source": [
    "Numbers of characters"
   ]
  },
  {
   "cell_type": "code",
   "execution_count": 3,
   "id": "39a6928c-0150-40c6-b0f7-6124c477c425",
   "metadata": {},
   "outputs": [
    {
     "name": "stdout",
     "output_type": "stream",
     "text": [
      "11\n"
     ]
    }
   ],
   "source": [
    "message = 'Hello World'\n",
    "print(len(message))"
   ]
  },
  {
   "cell_type": "markdown",
   "id": "b914cf10-8c00-451a-b8af-f3ca01e94fdd",
   "metadata": {},
   "source": [
    "For the index"
   ]
  },
  {
   "cell_type": "code",
   "execution_count": 4,
   "id": "e96d7b20-140d-49fc-b32a-24d518baeb92",
   "metadata": {},
   "outputs": [
    {
     "name": "stdout",
     "output_type": "stream",
     "text": [
      "d\n"
     ]
    }
   ],
   "source": [
    "message = 'Hello World'\n",
    "print(message[10])"
   ]
  },
  {
   "cell_type": "markdown",
   "id": "43f88a39-098b-4b44-ae1e-403f37b29b8c",
   "metadata": {},
   "source": [
    "Slicing"
   ]
  },
  {
   "cell_type": "code",
   "execution_count": 6,
   "id": "1d2098b5-8669-4b00-bb48-1608c2e42f57",
   "metadata": {},
   "outputs": [
    {
     "name": "stdout",
     "output_type": "stream",
     "text": [
      "Hello\n"
     ]
    }
   ],
   "source": [
    "message = 'Hello World'\n",
    "print(message[0:5])"
   ]
  },
  {
   "cell_type": "code",
   "execution_count": 7,
   "id": "2f64d44f-fbbe-4dd3-9476-76dcfc82e707",
   "metadata": {},
   "outputs": [
    {
     "name": "stdout",
     "output_type": "stream",
     "text": [
      "World\n"
     ]
    }
   ],
   "source": [
    "message = 'Hello World'\n",
    "print(message[6:])"
   ]
  },
  {
   "cell_type": "markdown",
   "id": "45895bc1-2171-4ec5-86f7-bfc7361d83ee",
   "metadata": {},
   "source": [
    "Lower Method"
   ]
  },
  {
   "cell_type": "code",
   "execution_count": 9,
   "id": "d28c719c-0a63-454a-98a7-57fb21a98031",
   "metadata": {},
   "outputs": [
    {
     "name": "stdout",
     "output_type": "stream",
     "text": [
      "hello world\n"
     ]
    }
   ],
   "source": [
    "message = 'Hello World'\n",
    "print(message.lower())"
   ]
  },
  {
   "cell_type": "markdown",
   "id": "dc189922-1816-4cd0-abcb-43eb7d16ccd0",
   "metadata": {},
   "source": [
    "Upper Case Method"
   ]
  },
  {
   "cell_type": "code",
   "execution_count": 10,
   "id": "bd4490e6-fe84-4804-a828-ca6ddb106c71",
   "metadata": {},
   "outputs": [
    {
     "name": "stdout",
     "output_type": "stream",
     "text": [
      "HELLO WORLD\n"
     ]
    }
   ],
   "source": [
    "message = 'Hello World'\n",
    "print(message.upper())"
   ]
  },
  {
   "cell_type": "markdown",
   "id": "3740a017-2b49-4b9c-adc3-d44bf080205b",
   "metadata": {},
   "source": [
    "Count Method"
   ]
  },
  {
   "cell_type": "code",
   "execution_count": 13,
   "id": "e4613f5e-bae7-4ec8-aeca-9bd8641cfe78",
   "metadata": {},
   "outputs": [
    {
     "name": "stdout",
     "output_type": "stream",
     "text": [
      "1\n"
     ]
    }
   ],
   "source": [
    "message = 'Hello World'\n",
    "print(message.count('Hello'))"
   ]
  },
  {
   "cell_type": "code",
   "execution_count": null,
   "id": "bd935160-55b0-4d96-b3d3-7fc30412af38",
   "metadata": {},
   "outputs": [],
   "source": []
  }
 ],
 "metadata": {
  "kernelspec": {
   "display_name": "Python 3 (ipykernel)",
   "language": "python",
   "name": "python3"
  },
  "language_info": {
   "codemirror_mode": {
    "name": "ipython",
    "version": 3
   },
   "file_extension": ".py",
   "mimetype": "text/x-python",
   "name": "python",
   "nbconvert_exporter": "python",
   "pygments_lexer": "ipython3",
   "version": "3.12.4"
  }
 },
 "nbformat": 4,
 "nbformat_minor": 5
}
