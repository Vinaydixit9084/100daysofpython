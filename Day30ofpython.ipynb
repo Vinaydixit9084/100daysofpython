{
 "cells": [
  {
   "cell_type": "markdown",
   "id": "7cd88ee7-19c2-4fce-b7a6-6e26b7031a7c",
   "metadata": {},
   "source": [
    "Command line arguments"
   ]
  },
  {
   "cell_type": "code",
   "execution_count": 2,
   "id": "661cd7af-cf75-43f6-919e-5cd1b897a87d",
   "metadata": {},
   "outputs": [
    {
     "name": "stdout",
     "output_type": "stream",
     "text": [
      "<class 'list'>\n",
      " The command line arguments are: \n",
      "C:\\Users\\dell\\AppData\\Local\\Programs\\Python\\Python312\\Lib\\site-packages\\ipykernel_launcher.py\n",
      "-f\n",
      "C:\\Users\\dell\\AppData\\Roaming\\jupyter\\runtime\\kernel-2a443423-66e9-4713-bbb3-5a3fa5ac5085.json\n"
     ]
    }
   ],
   "source": [
    "#Python sys module\n",
    "import sys  \n",
    "# Check the type of sys.argv  \n",
    "print(type(sys.argv))  #  <class ' list '>  \n",
    "# Print the command line arguments  \n",
    "print(' The command line arguments are: ')  \n",
    "# Iterate over sys.argv and print each argument  \n",
    "for i in sys.argv:  \n",
    "    print(i)  "
   ]
  },
  {
   "cell_type": "code",
   "execution_count": 15,
   "id": "0e4b615c-1ed5-478f-af15-b5959596f13e",
   "metadata": {},
   "outputs": [
    {
     "name": "stdout",
     "output_type": "stream",
     "text": [
      "Now called __init__ magic method, after tha initialised parameters\n",
      "<__main__.methods object at 0x00000288931ADFD0>\n",
      "Name, standard, and marks of the student is: \n",
      " Itika \n",
      " 11 \n",
      " 98\n"
     ]
    }
   ],
   "source": [
    "# Python program to show how __init__ method works  \n",
    "  \n",
    "# Creating a class  \n",
    "class methods():  \n",
    "    def __init__(self, *args):  \n",
    "        print (\"Now called __init__ magic method, after tha initialised parameters\")  \n",
    "        self.name = args[0]  \n",
    "        self.std = args[1]  \n",
    "        self.marks = args[2]  \n",
    "  \n",
    "Student = methods(\"Itika\", 11, 98)  \n",
    "print(Student)  \n",
    "print(f\"Name, standard, and marks of the student is: \\n\", Student.name, \"\\n\", Student.std, \"\\n\", Student.marks)  "
   ]
  },
  {
   "cell_type": "code",
   "execution_count": 18,
   "id": "b0f5119d-7ff4-4a10-a72b-c5c09a4328a8",
   "metadata": {},
   "outputs": [],
   "source": [
    "# Python program to show how __new__ method works  \n",
    "    \n",
    "# Creating a class  \n",
    "class Method(object):  \n",
    "    def __new__( cls ):  \n",
    "        print( \"Creating an instance by __new__ method\")  \n",
    "        return super(Method, cls).__new__(cls)  \n",
    "    # Calling the init method  \n",
    "    def __init__( self ):  \n",
    "        print( \"Init method is called here\" )  "
   ]
  },
  {
   "cell_type": "code",
   "execution_count": 19,
   "id": "d65cc116-d6de-450a-8a6d-86861103dc19",
   "metadata": {},
   "outputs": [
    {
     "name": "stdout",
     "output_type": "stream",
     "text": [
      " Attribute\n",
      " 27\n",
      " 27 Attribute\n"
     ]
    }
   ],
   "source": [
    "# Python program to show how to add two attributes  \n",
    "  \n",
    "# Creating a class  \n",
    "class Method:  \n",
    "    def __init__(self, argument):  \n",
    "        self.attribute = argument  \n",
    "  \n",
    "# Creating a second class  \n",
    "class Method_2:  \n",
    "    def __init__(self, argument):  \n",
    "        self.attribute = argument  \n",
    "# creating the instances  \n",
    "instance_1 = Method(\" Attribute\")  \n",
    "print(instance_1.attribute)  \n",
    "instance_2 = Method_2(\" 27\")  \n",
    "print(instance_2.attribute)  \n",
    "  \n",
    "# Adding two attributes of the instances  \n",
    "print(instance_2.attribute + instance_1.attribute)  "
   ]
  },
  {
   "cell_type": "code",
   "execution_count": 20,
   "id": "a295a204-7844-481b-9435-6920fa514a6f",
   "metadata": {},
   "outputs": [
    {
     "name": "stdout",
     "output_type": "stream",
     "text": [
      "<__main__.Method object at 0x0000028892F457F0>\n",
      "<__main__.Method_2 object at 0x0000028892F11C70>\n",
      " 27 Attribute\n"
     ]
    }
   ],
   "source": [
    "# Python program to show how __add__ method works  \n",
    "  \n",
    "# Creating a class  \n",
    "class Method:  \n",
    "    def __init__(self, argument):  \n",
    "        self.attribute = argument  \n",
    "    def __add__(self, object1):  \n",
    "        return self.attribute + object1.attribute  \n",
    "  \n",
    "# Creating a second class  \n",
    "class Method_2:  \n",
    "    def __init__(self, argument):  \n",
    "        self.attribute = argument  \n",
    "    def __add__(self, object1):  \n",
    "        return self.attribute + object1.attribute  \n",
    "instance_1 = Method(\" Attribute\")  \n",
    "print(instance_1)  \n",
    "instance_2 = Method_2(\" 27\")  \n",
    "print(instance_2)  \n",
    "print(instance_2 + instance_1)  "
   ]
  },
  {
   "cell_type": "code",
   "execution_count": 21,
   "id": "0249048f-8104-4afc-ab9f-6f39456ea66f",
   "metadata": {},
   "outputs": [
    {
     "name": "stdout",
     "output_type": "stream",
     "text": [
      "Following are the values of the attributes of the class Method:\n",
      "x = 4\n",
      "y = 6\n",
      "z = 2\n"
     ]
    }
   ],
   "source": [
    "# Python program to show how __repr__ magic method works  \n",
    "  \n",
    "# Creating a class  \n",
    "class Method:  \n",
    "    # Calling __init__ method and initializing the attributes of the class  \n",
    "    def __init__(self, x, y, z):  \n",
    "        self.x = x  \n",
    "        self.y = y  \n",
    "        self.z = z  \n",
    "    # Calling the __repr__ method and providing the string to be printed each time instance is printe  \n",
    "    def __repr__(self):  \n",
    "        return f\"Following are the values of the attributes of the class Method:\\nx = {self.x}\\ny = {self.y}\\nz = {self.z}\"  \n",
    "instance = Method(4, 6, 2)  \n",
    "print(instance)  "
   ]
  },
  {
   "cell_type": "code",
   "execution_count": 22,
   "id": "aca41ca3-ee8b-414c-ba07-6df29e6b757a",
   "metadata": {},
   "outputs": [
    {
     "name": "stdout",
     "output_type": "stream",
     "text": [
      "4 is contained in attribute:  True\n",
      "5 is contained in attribute:  False\n"
     ]
    }
   ],
   "source": [
    "# Python code to show how the __contains__ magic method works  \n",
    "  \n",
    "# Creating a class  \n",
    "class Method:  \n",
    "    # Calling the __init__ method and initializing the attributes  \n",
    "    def __init__(self, attribute):  \n",
    "        self.attribute = attribute  \n",
    "          \n",
    "    # Calling the __contains__ method  \n",
    "    def __contains__(self, attribute):  \n",
    "        return attribute in self.attribute  \n",
    "# Creating an instance of the class  \n",
    "instance = Method([4, 6, 8, 9, 1, 6])  \n",
    "  \n",
    "# Checking if a value is present in the container attribute  \n",
    "print(\"4 is contained in \"\"attribute\"\": \", 4 in instance)  \n",
    "print(\"5 is contained in \"\"attribute\"\": \", 5 in instance)  "
   ]
  },
  {
   "cell_type": "code",
   "execution_count": 23,
   "id": "bf0f2104-281c-4619-a5d4-0c8ebfc1ba1e",
   "metadata": {},
   "outputs": [
    {
     "name": "stdout",
     "output_type": "stream",
     "text": [
      "7\n",
      "35\n"
     ]
    }
   ],
   "source": [
    "# Python program to show how the __call__ magic method works  \n",
    "  \n",
    "# Creating a class  \n",
    "class Method:  \n",
    "    # Calling the __init__ method and initializing the attributes  \n",
    "    def __init__(self, a):  \n",
    "        self.a = a  \n",
    "    # Calling the __call__ method to multiply a number to the attribute value  \n",
    "    def __call__(self, number):  \n",
    "        return self.a * number  \n",
    "  \n",
    "# Creating an instance and proving the value to the attribute a  \n",
    "instance = Method(7)  \n",
    "print(instance.a) # Printing the value of the attribute a  \n",
    "# Calling the instance while passing a value which will call the __call__ method  \n",
    "print(instance(5))  "
   ]
  },
  {
   "cell_type": "code",
   "execution_count": 24,
   "id": "05228186-3d2f-401a-b964-dfa484b35419",
   "metadata": {},
   "outputs": [
    {
     "name": "stdout",
     "output_type": "stream",
     "text": [
      "9\n",
      "16\n",
      "25\n",
      "36\n",
      "49\n",
      "64\n"
     ]
    }
   ],
   "source": [
    "# Python program to show how the __iter__ method works  \n",
    "  \n",
    "# Creating a class  \n",
    "class Method:  \n",
    "    def __init__(self, start_value, stop_value):  \n",
    "        self.start = start_value  \n",
    "        self.stop = stop_value  \n",
    "    def __iter__(self):  \n",
    "        for num in range(self.start, self.stop + 1):  \n",
    "            yield num ** 2  \n",
    "# Creating an instance  \n",
    "instance = iter(Method(3, 8))  \n",
    "print( next(instance) )  \n",
    "print( next(instance) )  \n",
    "print( next(instance) )  \n",
    "print( next(instance) )  \n",
    "print( next(instance) )  \n",
    "print( next(instance) )  "
   ]
  },
  {
   "cell_type": "code",
   "execution_count": null,
   "id": "f3b67371-3d1c-4353-aee7-e04703687ddf",
   "metadata": {},
   "outputs": [],
   "source": []
  }
 ],
 "metadata": {
  "kernelspec": {
   "display_name": "Python 3 (ipykernel)",
   "language": "python",
   "name": "python3"
  },
  "language_info": {
   "codemirror_mode": {
    "name": "ipython",
    "version": 3
   },
   "file_extension": ".py",
   "mimetype": "text/x-python",
   "name": "python",
   "nbconvert_exporter": "python",
   "pygments_lexer": "ipython3",
   "version": "3.12.4"
  }
 },
 "nbformat": 4,
 "nbformat_minor": 5
}
