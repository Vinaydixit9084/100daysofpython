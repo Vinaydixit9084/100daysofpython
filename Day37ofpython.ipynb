{
 "cells": [
  {
   "cell_type": "code",
   "execution_count": 5,
   "id": "bc91bbbc-7c6e-4866-9f84-80c56124cf77",
   "metadata": {},
   "outputs": [
    {
     "name": "stdin",
     "output_type": "stream",
     "text": [
      "Enter a text to print it in uppercase and double:  vinay\n"
     ]
    },
    {
     "name": "stdout",
     "output_type": "stream",
     "text": [
      "VINAY\n",
      "VINAY\n"
     ]
    }
   ],
   "source": [
    " def spell(text):  \n",
    "    # Making text in upper  \n",
    "    return text.upper()   \n",
    "# Taking text as user input  \n",
    "text = input(\"Enter a text to print it in uppercase and double: \")  \n",
    "# Spell function with text  \n",
    "print(spell(text))   \n",
    "# Assigning variable with the default function  \n",
    "scream = spell  \n",
    "# Scream with text variable  \n",
    "print(scream(text))  "
   ]
  },
  {
   "cell_type": "code",
   "execution_count": 6,
   "id": "382421bc-7b7c-4cba-b7e7-0f05b04be510",
   "metadata": {},
   "outputs": [
    {
     "name": "stdout",
     "output_type": "stream",
     "text": [
      "HELLO PYTHON DEVELOPERS! YOU ARE WELCOMED TO JAVATPOINT\n",
      "hello python developers! you are welcomed to javatpoint\n"
     ]
    }
   ],
   "source": [
    "# Default function for making text uppercase  \n",
    "def scream(word):   \n",
    "    return word.upper()   \n",
    "# Default function for making text lowercase  \n",
    "def spell(word):   \n",
    "    return word.lower()   \n",
    "# A third function that work as a high order function  \n",
    "def speak(funct):   \n",
    "    # Storing the function in a variable in high order function   \n",
    "    speaking = funct(\"Hello Python Developers! You are welcomed to JavaTpoint\")   \n",
    "    print(speaking)    \n",
    "# Printing text in uppercase  \n",
    "speak(scream)  \n",
    "# Printing text in lowercase  \n",
    "speak(spell)  "
   ]
  },
  {
   "cell_type": "code",
   "execution_count": 7,
   "id": "5e09ef57-8439-4632-a433-abe07aa9a43b",
   "metadata": {},
   "outputs": [
    {
     "name": "stdin",
     "output_type": "stream",
     "text": [
      "Enter First Number:  56\n",
      "Enter Second Number:  7\n"
     ]
    },
    {
     "name": "stdout",
     "output_type": "stream",
     "text": [
      "Sum of Two numbers given by you is:  63\n"
     ]
    }
   ],
   "source": [
    "# A default function for addition  \n",
    "def Adding(a):  \n",
    "    # Nested function with second number   \n",
    "    def Addition(b):   \n",
    "            return a + b # addition of two numbers  \n",
    "    return Addition # Result  \n",
    "  \n",
    "# Taking both number variable as user input  \n",
    "a = int(input(\"Enter First Number: \"))  \n",
    "b = int(input(\"Enter Second Number: \"))  \n",
    "# Assigning nested adding function to a variable  \n",
    "AddVariable = Adding(a)  \n",
    "# Using variable as high order function  \n",
    "Result = AddVariable(b)  \n",
    "# Printing result  \n",
    "print(\"Sum of Two numbers given by you is: \", Result)  "
   ]
  },
  {
   "cell_type": "code",
   "execution_count": 8,
   "id": "5bb04536-a4b2-4117-9b22-423996edca06",
   "metadata": {},
   "outputs": [
    {
     "name": "stdout",
     "output_type": "stream",
     "text": [
      "This line of code will be printed before the execution of high order function\n",
      "This line of code will be printed inside the execution of high order function\n",
      "This line of code will be printed after the execution of high order function\n"
     ]
    }
   ],
   "source": [
    "# Using default function as Python decorators  \n",
    "def Python_Decorator(funct):  \n",
    "       # Inner nested function  \n",
    "       def inner():   \n",
    "              print(\"This line of code will be printed before the execution of high order function\")  \n",
    "              funct()   \n",
    "              print(\"This line of code will be printed after the execution of high order function\")  \n",
    "       return inner   \n",
    "# A default function as decorator  \n",
    "def JTP_Decorator():   \n",
    "    print(\"This line of code will be printed inside the execution of high order function\")  \n",
    "JTP_Decorator = Python_Decorator(JTP_Decorator) # Python decorator as high order function   \n",
    "# Python decorator calling out as high order function   \n",
    "JTP_Decorator()  "
   ]
  },
  {
   "cell_type": "code",
   "execution_count": null,
   "id": "6d5fe441-0943-4a50-a35e-1df9a94d6461",
   "metadata": {},
   "outputs": [],
   "source": []
  }
 ],
 "metadata": {
  "kernelspec": {
   "display_name": "Python 3 (ipykernel)",
   "language": "python",
   "name": "python3"
  },
  "language_info": {
   "codemirror_mode": {
    "name": "ipython",
    "version": 3
   },
   "file_extension": ".py",
   "mimetype": "text/x-python",
   "name": "python",
   "nbconvert_exporter": "python",
   "pygments_lexer": "ipython3",
   "version": "3.12.4"
  }
 },
 "nbformat": 4,
 "nbformat_minor": 5
}
