{
 "cells": [
  {
   "cell_type": "code",
   "execution_count": 20,
   "id": "e7283fd1-f6aa-43d9-9b7c-75e8a170e3be",
   "metadata": {},
   "outputs": [
    {
     "name": "stdin",
     "output_type": "stream",
     "text": [
      "Enter a string containing only '(){}[]':  (){}[]\n"
     ]
    },
    {
     "name": "stdout",
     "output_type": "stream",
     "text": [
      "The string is valid.\n"
     ]
    }
   ],
   "source": [
    "# Valid Parenthesis\n",
    "\n",
    "def isValid(self):\n",
    "        mapping = {')': '(', '}': '{', ']': '['}\n",
    "        stack = []\n",
    "        \n",
    "        for char in s:\n",
    "            if char in mapping:\n",
    "                \n",
    "                top_element = stack.pop() if stack else '#'\n",
    "                if mapping[char] != top_element:\n",
    "                    return False\n",
    "            else:\n",
    "                stack.append(char)\n",
    "        \n",
    "        return not stack\n",
    "\n",
    "s = input(\"Enter a string containing only '(){}[]': \")\n",
    "if isValid(s):\n",
    "    print(\"The string is valid.\")\n",
    "else:\n",
    "    print(\"The string is not valid.\")"
   ]
  },
  {
   "cell_type": "code",
   "execution_count": 21,
   "id": "989cc602-08a3-4f9f-9df7-4ead80a19b0a",
   "metadata": {},
   "outputs": [
    {
     "name": "stdout",
     "output_type": "stream",
     "text": [
      "Input strings: ['flower', 'flow', 'flight']\n",
      "Longest Common Prefix: fl\n"
     ]
    }
   ],
   "source": [
    "# Longest Common Prefix\n",
    "\n",
    "def longestCommonPrefix(strs):\n",
    "    \n",
    "        if not strs:\n",
    "            return \"\"\n",
    "        \n",
    "        for i in range(len(strs[0])):\n",
    "            char = strs[0][i]\n",
    "            for s in strs[1:]:\n",
    "                \n",
    "                if i >= len(s) or s[i] != char:\n",
    "                    return strs[0][:i]\n",
    "        \n",
    "        \n",
    "        return strs[0]\n",
    "        \n",
    "example_strs = [\"flower\", \"flow\", \"flight\"]\n",
    "print(\"Input strings:\", example_strs)\n",
    "print(\"Longest Common Prefix:\", longestCommonPrefix(example_strs))"
   ]
  },
  {
   "cell_type": "code",
   "execution_count": null,
   "id": "c918a5e2-fe98-42d1-89b6-4e386f94b594",
   "metadata": {},
   "outputs": [],
   "source": []
  }
 ],
 "metadata": {
  "kernelspec": {
   "display_name": "Python 3 (ipykernel)",
   "language": "python",
   "name": "python3"
  },
  "language_info": {
   "codemirror_mode": {
    "name": "ipython",
    "version": 3
   },
   "file_extension": ".py",
   "mimetype": "text/x-python",
   "name": "python",
   "nbconvert_exporter": "python",
   "pygments_lexer": "ipython3",
   "version": "3.12.6"
  }
 },
 "nbformat": 4,
 "nbformat_minor": 5
}
