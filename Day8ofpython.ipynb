{
 "cells": [
  {
   "cell_type": "markdown",
   "id": "687f3773-ad80-452c-a4d8-29b55005b97d",
   "metadata": {},
   "source": [
    "CONTINUE,BREAK AND PASS STATEMENTS"
   ]
  },
  {
   "cell_type": "code",
   "execution_count": 1,
   "id": "47ddacff-f76c-4dd0-9334-984e5e14c137",
   "metadata": {},
   "outputs": [
    {
     "name": "stdout",
     "output_type": "stream",
     "text": [
      "Count: 1\n",
      "Count: 2\n",
      "Count: 3\n",
      "Count: 4\n"
     ]
    }
   ],
   "source": [
    "#Break statement\n",
    "count = 1\n",
    "while count <= 10:\n",
    "    if count == 5:\n",
    "        break  # Exit loop when count reaches 5\n",
    "    print(\"Count:\", count)\n",
    "    count += 1\n"
   ]
  },
  {
   "cell_type": "code",
   "execution_count": 2,
   "id": "841c2032-0ba0-452e-bbb6-ebde6d3b574f",
   "metadata": {},
   "outputs": [
    {
     "name": "stdout",
     "output_type": "stream",
     "text": [
      "1\n",
      "2\n",
      "3\n",
      "4\n",
      "5\n"
     ]
    }
   ],
   "source": [
    "for i in range(1, 10):\n",
    "    if i == 6:\n",
    "        break  # Exit the loop when i is 6\n",
    "    print(i)\n"
   ]
  },
  {
   "cell_type": "code",
   "execution_count": 3,
   "id": "f9c6d4ca-086c-4f34-b71e-1fcd76f2a5fe",
   "metadata": {},
   "outputs": [
    {
     "name": "stdout",
     "output_type": "stream",
     "text": [
      "Checking name: Alice\n",
      "Checking name: Bob\n",
      "Checking name: Charlie\n",
      "Found Charlie! Exiting loop.\n"
     ]
    }
   ],
   "source": [
    "names = [\"Alice\", \"Bob\", \"Charlie\", \"David\"]\n",
    "for name in names:\n",
    "    print(\"Checking name:\", name)\n",
    "    if name == \"Charlie\":\n",
    "        print(\"Found Charlie! Exiting loop.\")\n",
    "        break\n"
   ]
  },
  {
   "cell_type": "code",
   "execution_count": 4,
   "id": "3266e393-0ca9-4923-8bb1-55395705973b",
   "metadata": {},
   "outputs": [
    {
     "name": "stdout",
     "output_type": "stream",
     "text": [
      "1\n",
      "3\n",
      "5\n",
      "7\n",
      "9\n"
     ]
    }
   ],
   "source": [
    "#Continue statement\n",
    "for i in range(1, 10):\n",
    "    if i % 2 == 0:\n",
    "        continue  # Skip the rest of the code for even numbers\n",
    "    print(i)\n"
   ]
  },
  {
   "cell_type": "code",
   "execution_count": 5,
   "id": "a9016d9f-dd28-47fe-85b5-054558745f44",
   "metadata": {},
   "outputs": [
    {
     "name": "stdout",
     "output_type": "stream",
     "text": [
      "Item: apple\n",
      "Item: cherry\n",
      "Item: date\n"
     ]
    }
   ],
   "source": [
    "items = [\"apple\", \"banana\", \"cherry\", \"date\"]\n",
    "for item in items:\n",
    "    if item == \"banana\":\n",
    "        continue  # Skip printing 'banana'\n",
    "    print(\"Item:\", item)\n"
   ]
  },
  {
   "cell_type": "code",
   "execution_count": 6,
   "id": "c310d7e1-9453-41bd-8ee4-24405f4b52b4",
   "metadata": {},
   "outputs": [
    {
     "name": "stdout",
     "output_type": "stream",
     "text": [
      "Number: 1\n",
      "Number: 2\n",
      "Number: 3\n",
      "Number: 4\n",
      "Number: 6\n",
      "Number: 7\n",
      "Number: 8\n",
      "Number: 9\n",
      "Number: 10\n"
     ]
    }
   ],
   "source": [
    "number = 0\n",
    "while number < 10:\n",
    "    number += 1\n",
    "    if number == 5:\n",
    "        continue  # Skip printing number 5\n",
    "    print(\"Number:\", number)\n"
   ]
  },
  {
   "cell_type": "code",
   "execution_count": 7,
   "id": "5d1372a4-fcda-4492-9ab6-5fc39c7e0032",
   "metadata": {},
   "outputs": [
    {
     "name": "stdout",
     "output_type": "stream",
     "text": [
      "Loop completed.\n"
     ]
    }
   ],
   "source": [
    "#Pass statement\n",
    "for i in range(5):\n",
    "    pass  # Do nothing, just loop 5 times\n",
    "print(\"Loop completed.\")\n"
   ]
  },
  {
   "cell_type": "code",
   "execution_count": 8,
   "id": "7da1fd19-4deb-4f4e-b5a7-beb2aedfc7be",
   "metadata": {},
   "outputs": [
    {
     "name": "stdout",
     "output_type": "stream",
     "text": [
      "0\n",
      "1\n",
      "2\n",
      "4\n"
     ]
    }
   ],
   "source": [
    "for i in range(5):\n",
    "    if i == 3:\n",
    "        pass  # Placeholder for future code\n",
    "    else:\n",
    "        print(i)\n"
   ]
  },
  {
   "cell_type": "code",
   "execution_count": null,
   "id": "fb19af4d-d61c-4fc1-9af5-d352014c9aa0",
   "metadata": {},
   "outputs": [],
   "source": []
  }
 ],
 "metadata": {
  "kernelspec": {
   "display_name": "Python 3 (ipykernel)",
   "language": "python",
   "name": "python3"
  },
  "language_info": {
   "codemirror_mode": {
    "name": "ipython",
    "version": 3
   },
   "file_extension": ".py",
   "mimetype": "text/x-python",
   "name": "python",
   "nbconvert_exporter": "python",
   "pygments_lexer": "ipython3",
   "version": "3.12.4"
  }
 },
 "nbformat": 4,
 "nbformat_minor": 5
}
