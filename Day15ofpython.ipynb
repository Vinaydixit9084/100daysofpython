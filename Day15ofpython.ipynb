{
 "cells": [
  {
   "cell_type": "markdown",
   "id": "feb59580-c289-4a3b-9504-afb8ea3aea1d",
   "metadata": {},
   "source": [
    "FUNCTION EXAMPLES"
   ]
  },
  {
   "cell_type": "code",
   "execution_count": 2,
   "id": "47da24ed-5bad-431b-8ed4-e8d2c8679f51",
   "metadata": {},
   "outputs": [
    {
     "name": "stdout",
     "output_type": "stream",
     "text": [
      "Hello,World\n"
     ]
    }
   ],
   "source": [
    "def greet():\n",
    "    print(\"Hello,World\")\n",
    "\n",
    "#Calling function\n",
    "greet()"
   ]
  },
  {
   "cell_type": "code",
   "execution_count": 5,
   "id": "f1c70d29-6880-4caa-8823-1a89f7d751f2",
   "metadata": {},
   "outputs": [
    {
     "name": "stdout",
     "output_type": "stream",
     "text": [
      "Hello, Alice!\n"
     ]
    }
   ],
   "source": [
    "def greet(name):\n",
    "    print(f\"Hello, {name}!\")\n",
    "\n",
    "# call the function with argument\n",
    "greet(\"Alice\")"
   ]
  },
  {
   "cell_type": "code",
   "execution_count": 6,
   "id": "a4e27159-5e55-4324-ae50-b29bda9223cf",
   "metadata": {},
   "outputs": [
    {
     "name": "stdout",
     "output_type": "stream",
     "text": [
      "12\n"
     ]
    }
   ],
   "source": [
    "def add(a, b):\n",
    "    return a + b\n",
    "\n",
    "#Call the functions with two arguments\n",
    "result = add(5, 7)\n",
    "print(result)"
   ]
  },
  {
   "cell_type": "code",
   "execution_count": 7,
   "id": "2895002f-a379-42f3-b272-eaefa22bd55a",
   "metadata": {},
   "outputs": [
    {
     "name": "stdout",
     "output_type": "stream",
     "text": [
      "81\n"
     ]
    }
   ],
   "source": [
    "def mul(a, b):\n",
    "    return a*b\n",
    "\n",
    "result = mul(9,9)\n",
    "print(result)"
   ]
  },
  {
   "cell_type": "code",
   "execution_count": 9,
   "id": "52755566-503c-4693-926e-091e2749925c",
   "metadata": {},
   "outputs": [
    {
     "name": "stdout",
     "output_type": "stream",
     "text": [
      "My name isVinay and I am 35 years old.\n"
     ]
    }
   ],
   "source": [
    "def introduce(name, age):\n",
    "    print(f\"My name is{name} and I am {age} years old.\")\n",
    "\n",
    "introduce(age = 35, name = \"Vinay\")"
   ]
  },
  {
   "cell_type": "code",
   "execution_count": 11,
   "id": "c21ebe75-d44d-442c-a085-00d9c79e1195",
   "metadata": {},
   "outputs": [
    {
     "name": "stdout",
     "output_type": "stream",
     "text": [
      "Hello, Guest!\n",
      "Hello, Alice!\n"
     ]
    }
   ],
   "source": [
    "def greet(name = \"Guest\"):\n",
    "    print(f\"Hello, {name}!\")\n",
    "    \n",
    "# Calling without argument uses the default value\n",
    "greet()\n",
    "\n",
    "# Calling with an argument overrides the default\n",
    "greet(\"Alice\")"
   ]
  },
  {
   "cell_type": "code",
   "execution_count": 31,
   "id": "bb2faa6a-68b5-444d-8c1f-65afc8f9065c",
   "metadata": {},
   "outputs": [
    {
     "name": "stdout",
     "output_type": "stream",
     "text": [
      "6\n",
      "24\n"
     ]
    }
   ],
   "source": [
    "def multiply(*args):\n",
    "    result = 1\n",
    "    for num in args:\n",
    "        result *= num\n",
    "    return result\n",
    "\n",
    "# Call the function with a varying number of arguments\n",
    "print(multiply(2, 3))      # Output: 6\n",
    "print(multiply(2, 3, 4))   # Output: 24\n"
   ]
  },
  {
   "cell_type": "code",
   "execution_count": 36,
   "id": "ce14a189-41ca-4d94-b00c-36cfc695a85f",
   "metadata": {},
   "outputs": [
    {
     "name": "stdout",
     "output_type": "stream",
     "text": [
      "name: Alice\n",
      "age: 25\n",
      "city: New York\n"
     ]
    }
   ],
   "source": [
    "def print_info(**kwargs):\n",
    "    for key, value in kwargs.items():\n",
    "        print(f\"{key}: {value}\")\n",
    "\n",
    "print_info(name = \"Alice\", age = 25, city = \"New York\")"
   ]
  },
  {
   "cell_type": "code",
   "execution_count": 42,
   "id": "358578fa-0299-430f-b8dc-f2045371b51a",
   "metadata": {},
   "outputs": [
    {
     "name": "stdout",
     "output_type": "stream",
     "text": [
      "8\n"
     ]
    }
   ],
   "source": [
    "add = lambda x, y: x+y\n",
    "print(add(3,5))"
   ]
  },
  {
   "cell_type": "code",
   "execution_count": 44,
   "id": "febd8a5a-3c24-4a56-aa81-4508c0d31994",
   "metadata": {},
   "outputs": [
    {
     "name": "stdout",
     "output_type": "stream",
     "text": [
      "15\n"
     ]
    }
   ],
   "source": [
    "add = lambda x, y: x*y\n",
    "print(mul(3,5))"
   ]
  },
  {
   "cell_type": "code",
   "execution_count": 49,
   "id": "164d65cf-906e-4afc-a80e-6680b5f8349f",
   "metadata": {},
   "outputs": [
    {
     "name": "stdout",
     "output_type": "stream",
     "text": [
      "120\n"
     ]
    }
   ],
   "source": [
    "def factorial(n):\n",
    "    if n == 1:\n",
    "        return 1\n",
    "    return n * factorial(n-1)\n",
    "\n",
    "# Call the recursive function\n",
    "print(factorial(5))  "
   ]
  },
  {
   "cell_type": "code",
   "execution_count": 50,
   "id": "573aa01e-782f-4ae4-ab68-6806e9427a73",
   "metadata": {},
   "outputs": [
    {
     "name": "stdout",
     "output_type": "stream",
     "text": [
      "20\n"
     ]
    }
   ],
   "source": [
    "def apply_twice(func, value):\n",
    "    return func(func(value))\n",
    "\n",
    "def add_five(x):\n",
    "    return x + 5\n",
    "\n",
    "# Call apply_twice with add_five as the function\n",
    "print(apply_twice(add_five, 10))  # Output: 20\n"
   ]
  },
  {
   "cell_type": "code",
   "execution_count": null,
   "id": "1827b5c0-1298-4847-96df-b9436ab04137",
   "metadata": {},
   "outputs": [],
   "source": []
  }
 ],
 "metadata": {
  "kernelspec": {
   "display_name": "Python 3 (ipykernel)",
   "language": "python",
   "name": "python3"
  },
  "language_info": {
   "codemirror_mode": {
    "name": "ipython",
    "version": 3
   },
   "file_extension": ".py",
   "mimetype": "text/x-python",
   "name": "python",
   "nbconvert_exporter": "python",
   "pygments_lexer": "ipython3",
   "version": "3.12.4"
  }
 },
 "nbformat": 4,
 "nbformat_minor": 5

}
