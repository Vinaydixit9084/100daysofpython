{
 "cells": [
  {
   "cell_type": "markdown",
   "id": "3d2627df-9297-41fd-9a25-b9a43238c434",
   "metadata": {},
   "source": [
    "MODULES"
   ]
  },
  {
   "cell_type": "code",
   "execution_count": 3,
   "id": "a04312ce-ccad-424e-8ffe-5668aa682c83",
   "metadata": {},
   "outputs": [],
   "source": [
    "#Python program to show how to create a module.    \n",
    "# defining a function in the module to reuse it    \n",
    "def square( number ):    \n",
    "   # here, the above function will square the number passed as the input    \n",
    "    result = number ** 2         \n",
    "    return result     # here, we are returning the result of the function  "
   ]
  },
  {
   "cell_type": "code",
   "execution_count": 6,
   "id": "6e48fb7a-44bc-4455-96ee-43393e0e39bb",
   "metadata": {},
   "outputs": [
    {
     "name": "stdout",
     "output_type": "stream",
     "text": [
      "The value of euler's number is 2.718281828459045\n"
     ]
    }
   ],
   "source": [
    "# Python program to show how to import a standard module         \n",
    "import math    \n",
    "print( \"The value of euler's number is\", math.e )      \n",
    "# here, we are printing the euler's number from the math module "
   ]
  },
  {
   "cell_type": "code",
   "execution_count": 7,
   "id": "08e87ca4-3d9d-450c-a5d0-ce69e51ee639",
   "metadata": {},
   "outputs": [
    {
     "name": "stdout",
     "output_type": "stream",
     "text": [
      "The value of euler's number is 2.718281828459045\n"
     ]
    }
   ],
   "source": [
    "# Here, we are import the math module and give a different name to it    \n",
    "import math as mt     # here, we are importing the math module as mt  \n",
    "print( \"The value of euler's number is\", mt.e )  "
   ]
  },
  {
   "cell_type": "code",
   "execution_count": 9,
   "id": "cdb05fd2-6569-4cfa-bb37-f7d758bcdbc8",
   "metadata": {},
   "outputs": [
    {
     "name": "stdout",
     "output_type": "stream",
     "text": [
      "Calculating square root:  5.0\n",
      "Calculating tangent of an angle:  0.5773502691896257\n"
     ]
    }
   ],
   "source": [
    "    from math import *    \n",
    "# Here, we are accessing functions of math module without using the dot operator    \n",
    "print( \"Calculating square root: \", sqrt(25) )    \n",
    "# here, we are getting the sqrt method and finding the square root of 25  \n",
    "print( \"Calculating tangent of an angle: \", tan(pi/6) )   \n",
    "# here pi is also imported from the math module   "
   ]
  },
  {
   "cell_type": "code",
   "execution_count": 10,
   "id": "cfa78323-2a9d-4486-8546-1567c1a0b2e8",
   "metadata": {},
   "outputs": [
    {
     "name": "stdout",
     "output_type": "stream",
     "text": [
      "Path of the sys module in the system is: ['C:\\\\Users\\\\dell\\\\AppData\\\\Local\\\\Programs\\\\Python\\\\Python312\\\\python312.zip', 'C:\\\\Users\\\\dell\\\\AppData\\\\Local\\\\Programs\\\\Python\\\\Python312\\\\DLLs', 'C:\\\\Users\\\\dell\\\\AppData\\\\Local\\\\Programs\\\\Python\\\\Python312\\\\Lib', 'C:\\\\Users\\\\dell\\\\AppData\\\\Local\\\\Programs\\\\Python\\\\Python312', '', 'C:\\\\Users\\\\dell\\\\AppData\\\\Local\\\\Programs\\\\Python\\\\Python312\\\\Lib\\\\site-packages', 'C:\\\\Users\\\\dell\\\\AppData\\\\Local\\\\Programs\\\\Python\\\\Python312\\\\Lib\\\\site-packages\\\\win32', 'C:\\\\Users\\\\dell\\\\AppData\\\\Local\\\\Programs\\\\Python\\\\Python312\\\\Lib\\\\site-packages\\\\win32\\\\lib', 'C:\\\\Users\\\\dell\\\\AppData\\\\Local\\\\Programs\\\\Python\\\\Python312\\\\Lib\\\\site-packages\\\\Pythonwin']\n"
     ]
    }
   ],
   "source": [
    "# Here, we are importing the sys module    \n",
    "import sys    \n",
    "# Here, we are printing the path using sys.path    \n",
    "print(\"Path of the sys module in the system is:\", sys.path)    "
   ]
  },
  {
   "cell_type": "code",
   "execution_count": 12,
   "id": "ee0cc111-1871-4fa9-8a87-8892949ca6a6",
   "metadata": {},
   "outputs": [
    {
     "name": "stdout",
     "output_type": "stream",
     "text": [
      "List of functions:\n",
      "  ['__add__', '__class__', '__contains__', '__delattr__', '__dir__', '__doc__', '__eq__', '__format__', '__ge__', '__getattribute__', '__getitem__', '__getnewargs__', '__getstate__', '__gt__', '__hash__', '__init__', '__init_subclass__', '__iter__', '__le__', '__len__', '__lt__', '__mod__', '__mul__', '__ne__', '__new__', '__reduce__', '__reduce_ex__', '__repr__', '__rmod__', '__rmul__', '__setattr__', '__sizeof__', '__str__', '__subclasshook__', 'capitalize', 'casefold', 'center', 'count', 'encode', 'endswith', 'expandtabs', 'find', 'format', 'format_map', 'index', 'isalnum', 'isalpha', 'isascii', 'isdecimal', 'isdigit', 'isidentifier', 'islower', 'isnumeric', 'isprintable', 'isspace', 'istitle', 'isupper', 'join', 'ljust', 'lower', 'lstrip', 'maketrans', 'partition', 'removeprefix', 'removesuffix', 'replace', 'rfind', 'rindex', 'rjust', 'rpartition', 'rsplit', 'rstrip', 'split', 'splitlines', 'startswith', 'strip', 'swapcase', 'title', 'translate', 'upper', 'zfill'], "
     ]
    }
   ],
   "source": [
    "# Python program to print the directory of a module    \n",
    "print( \"List of functions:\\n \", dir( str ), end=\", \" )"
   ]
  },
  {
   "cell_type": "markdown",
   "id": "1f409feb-8dce-4446-a808-bf4b28049448",
   "metadata": {},
   "source": [
    "Namespaces and Scoping"
   ]
  },
  {
   "cell_type": "code",
   "execution_count": 13,
   "id": "d2375004-4ddf-4717-80b0-ca3a2726009c",
   "metadata": {},
   "outputs": [
    {
     "name": "stdout",
     "output_type": "stream",
     "text": [
      "The number is: 204\n",
      "The number is: 404\n"
     ]
    }
   ],
   "source": [
    "Number = 204    \n",
    "def AddNumber():  # here, we are defining a function with the name Add Number  \n",
    "    # Here, we are accessing the global namespace    \n",
    "    global Number    \n",
    "    Number = Number + 200    \n",
    "print(\"The number is:\", Number)       \n",
    "# here, we are printing the number after performing the addition  \n",
    "AddNumber()    # here, we are calling the function  \n",
    "print(\"The number is:\", Number)    "
   ]
  },
  {
   "cell_type": "code",
   "execution_count": null,
   "id": "a424aeee-a67e-4c1e-8238-ed602f6a581a",
   "metadata": {},
   "outputs": [],
   "source": []
  }
 ],
 "metadata": {
  "kernelspec": {
   "display_name": "Python 3 (ipykernel)",
   "language": "python",
   "name": "python3"
  },
  "language_info": {
   "codemirror_mode": {
    "name": "ipython",
    "version": 3
   },
   "file_extension": ".py",
   "mimetype": "text/x-python",
   "name": "python",
   "nbconvert_exporter": "python",
   "pygments_lexer": "ipython3",
   "version": "3.12.4"
  }
 },
 "nbformat": 4,
 "nbformat_minor": 5

}
