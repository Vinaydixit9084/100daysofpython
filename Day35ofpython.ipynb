{
 "cells": [
  {
   "cell_type": "markdown",
   "id": "d4235814-d65e-41f6-8418-8898d5f753ca",
   "metadata": {},
   "source": [
    "Python Itertools"
   ]
  },
  {
   "cell_type": "code",
   "execution_count": 1,
   "id": "b63e37f2-1254-4cb0-83ee-120bd01c9e23",
   "metadata": {},
   "outputs": [
    {
     "name": "stdout",
     "output_type": "stream",
     "text": [
      "<zip object at 0x00000211F7381480>\n"
     ]
    }
   ],
   "source": [
    "a = [1,2,3]  \n",
    "b= ['a', 'b', 'c']  \n",
    "c = zip(a,b)  \n",
    "print(c)  "
   ]
  },
  {
   "cell_type": "code",
   "execution_count": 2,
   "id": "3b3d8906-0f16-4d77-81b3-9132f04b85cf",
   "metadata": {},
   "outputs": [
    {
     "name": "stdout",
     "output_type": "stream",
     "text": [
      "10 15 20 25 30 35 40 45 "
     ]
    }
   ],
   "source": [
    "import itertools  \n",
    "  \n",
    "for i in itertools.count(10,5):  \n",
    "    if i == 50:  \n",
    "        break  \n",
    "    else:  \n",
    "        print(i,end=\" \")  "
   ]
  },
  {
   "cell_type": "code",
   "execution_count": 3,
   "id": "82ed5c6b-2ad5-40ee-86b8-d303199a16db",
   "metadata": {},
   "outputs": [
    {
     "name": "stdout",
     "output_type": "stream",
     "text": [
      "1 2 3 1 2 3 1 2 "
     ]
    }
   ],
   "source": [
    "import itertools  \n",
    "temp = 0  \n",
    "for i in itertools.cycle(\"123\"):  \n",
    "    if temp > 7:  \n",
    "        break  \n",
    "    else:  \n",
    "        print(i,end=' ')  \n",
    "        temp = temp+1  "
   ]
  },
  {
   "cell_type": "code",
   "execution_count": 4,
   "id": "faf40a01-800d-4163-818d-3343ea4ab616",
   "metadata": {},
   "outputs": [
    {
     "name": "stdout",
     "output_type": "stream",
     "text": [
      "Java T Point Java T Point "
     ]
    }
   ],
   "source": [
    "import itertools  \n",
    "  \n",
    "val = ['Java', 'T', 'Point']  \n",
    "  \n",
    "iter = itertools.cycle(val)  \n",
    "  \n",
    "for i in range(6):  \n",
    "    # Using next function  \n",
    "    print(next(iter), end = \" \")  "
   ]
  },
  {
   "cell_type": "code",
   "execution_count": 5,
   "id": "15c1e958-f634-41b7-aebc-7d41ddbc2a49",
   "metadata": {},
   "outputs": [
    {
     "name": "stdout",
     "output_type": "stream",
     "text": [
      "We are computing cartesian product using repeat Keyword Argument:\n",
      "[(1, 1), (1, 2), (2, 1), (2, 2)]\n",
      "\n",
      "We are computing cartesian product of the containers:\n",
      "[('Java', '5'), ('T', '5'), ('point', '5')]\n",
      "\n",
      "We are computing product of the containers:\n",
      "[('C', 4), ('C', 5), ('D', 4), ('D', 5)]\n"
     ]
    }
   ],
   "source": [
    "from itertools import product  \n",
    "  \n",
    "print(\"We are computing cartesian product using repeat Keyword Argument:\")  \n",
    "print(list(product([1, 2], repeat=2)))  \n",
    "print()  \n",
    "  \n",
    "print(\"We are computing cartesian product of the containers:\")  \n",
    "print(list(product(['Java', 'T', 'point'], '5')))  \n",
    "print()  \n",
    "  \n",
    "print(\"We are computing product of the containers:\")  \n",
    "print(list(product('CD', [4, 5])))  "
   ]
  },
  {
   "cell_type": "code",
   "execution_count": 6,
   "id": "02aab1d4-2ad1-4eb6-9d0d-76d8861ce7a5",
   "metadata": {},
   "outputs": [
    {
     "name": "stdout",
     "output_type": "stream",
     "text": [
      "Computing all permutation of the following list\n",
      "[(3, 'Python'), ('Python', 3)]\n",
      "\n",
      "Permutations of following string\n",
      "[('A', 'B'), ('B', 'A')]\n",
      "\n",
      "Permutation of the given container is:\n",
      "[(0, 1), (0, 2), (0, 3), (1, 0), (1, 2), (1, 3), (2, 0), (2, 1), (2, 3), (3, 0), (3, 1), (3, 2)]\n"
     ]
    }
   ],
   "source": [
    "from itertools import permutations  \n",
    "  \n",
    "print(\"Computing all permutation of the following list\")  \n",
    "print(list(permutations([3,\"Python\"],2)))  \n",
    "print()  \n",
    "  \n",
    "print(\"Permutations of following string\")  \n",
    "print(list(permutations('AB')))  \n",
    "print()  \n",
    "  \n",
    "print(\"Permutation of the given container is:\")  \n",
    "print(list(permutations(range(4),2)))  "
   ]
  },
  {
   "cell_type": "code",
   "execution_count": 7,
   "id": "e0c4fff4-3b87-4209-b29f-13d893b2b4e7",
   "metadata": {},
   "outputs": [
    {
     "name": "stdout",
     "output_type": "stream",
     "text": [
      "Combination of list in sorted order(without replacement) [('B', 3)]\n",
      "\n",
      "Combination of string in sorted order [('Z', 'X')]\n",
      "\n",
      "Combination of list in sorted order [(0,), (1,), (2,), (3,), (4,), (5,), (6,), (7,), (8,), (9,), (10,), (11,), (12,), (13,), (14,), (15,), (16,), (17,), (18,), (19,)]\n"
     ]
    }
   ],
   "source": [
    "from itertools import combinations  \n",
    "print(\"Combination of list in sorted order(without replacement)\",list(combinations(['B',3],2)))  \n",
    "print()  \n",
    "  \n",
    "print(\"Combination of string in sorted order\",list(combinations(\"ZX\",2)))  \n",
    "print()  \n",
    "  \n",
    "print(\"Combination of list in sorted order\",list(combinations(range(20),1)))  "
   ]
  },
  {
   "cell_type": "code",
   "execution_count": 8,
   "id": "e48229a6-cf70-403a-9ab9-6ca649fd827e",
   "metadata": {},
   "outputs": [
    {
     "name": "stdout",
     "output_type": "stream",
     "text": [
      "Combination of string in sorted order(with replacement) is:\n",
      "[('X', 'X', 'X'), ('X', 'X', 'Y'), ('X', 'Y', 'Y'), ('Y', 'Y', 'Y')]\n",
      "\n",
      "Combination of list in sorted order(with replacement) is:\n",
      "[(4, 4, 4), (4, 4, 2), (4, 2, 2), (2, 2, 2)]\n",
      "\n",
      "Combination of container in sorted order(with replacement) is:\n",
      "[(0, 0), (0, 1), (0, 2), (1, 1), (1, 2), (2, 2)]\n"
     ]
    }
   ],
   "source": [
    "from itertools import combinations_with_replacement  \n",
    "  \n",
    "print(\"Combination of string in sorted order(with replacement) is:\")  \n",
    "print(list(combinations_with_replacement(\"XY\", 3)))  \n",
    "print()  \n",
    "  \n",
    "print(\"Combination of list in sorted order(with replacement) is:\")  \n",
    "print(list(combinations_with_replacement([4, 2], 3)))  \n",
    "print()  \n",
    "  \n",
    "print(\"Combination of container in sorted order(with replacement) is:\")  \n",
    "print(list(combinations_with_replacement(range(3), 2)))  "
   ]
  },
  {
   "cell_type": "code",
   "execution_count": 9,
   "id": "748dfaf1-8c7f-4af6-8190-8791f622726b",
   "metadata": {},
   "outputs": [
    {
     "name": "stdout",
     "output_type": "stream",
     "text": [
      "The sum is : [1, 5, 10, 17, 26, 37]\n",
      "The product is : [1, 4, 20, 140, 1260, 13860]\n",
      "The sum is : [1, 5, 10, 17, 26, 37]\n",
      "The product is : [1, 4, 20, 140, 1260, 13860]\n"
     ]
    }
   ],
   "source": [
    "import itertools  \n",
    "import operator  \n",
    "  \n",
    "# initializing list 1  \n",
    "list1 = [1, 4, 5, 7, 9, 11]  \n",
    "  \n",
    "# using accumulate() that will prints the successive summation of elements  \n",
    "print(\"The sum is : \", end=\"\")  \n",
    "print(list(itertools.accumulate(list1)))  \n",
    "  \n",
    "# using accumulate() that will prints the successive multiplication of elements  \n",
    "print(\"The product is : \", end=\"\")  \n",
    "print(list(itertools.accumulate(list1, operator.mul)))  \n",
    "  \n",
    "  \n",
    "# using accumulate() that will prints the successive summation of elements  \n",
    "print(\"The sum is : \", end=\"\")  \n",
    "print(list(itertools.accumulate(list1)))  \n",
    "  \n",
    "# using accumulate() that will prints the successive multiplication of elements  \n",
    "print(\"The product is : \", end=\"\")  \n",
    "print(list(itertools.accumulate(list1, operator.mul)))  "
   ]
  },
  {
   "cell_type": "code",
   "execution_count": 10,
   "id": "2ef66940-6f45-4860-b114-051255ab8219",
   "metadata": {},
   "outputs": [
    {
     "name": "stdout",
     "output_type": "stream",
     "text": [
      "The output is : [1, 2, 3, 4, 1, 5, 6, 8, 9, 10, 11, 12]\n"
     ]
    }
   ],
   "source": [
    "import itertools  \n",
    "  \n",
    "# declaring list 1  \n",
    "list1 = [1, 2, 3, 4]  \n",
    "  \n",
    "# declaring list 2  \n",
    "list2 = [1, 5, 6, 8]  \n",
    "  \n",
    "# declaring list 3  \n",
    "list3 = [9, 10, 11, 12]  \n",
    "  \n",
    "# using chain() function that will to print all elements of lists  \n",
    "print(\"The output is : \", end=\"\")  \n",
    "print(list(itertools.chain(list1, list2, list3)))  "
   ]
  },
  {
   "cell_type": "code",
   "execution_count": 11,
   "id": "f2ab1377-d741-42b7-9367-4f1333995f66",
   "metadata": {},
   "outputs": [
    {
     "name": "stdout",
     "output_type": "stream",
     "text": [
      "The output is : [5, 7, 8]\n"
     ]
    }
   ],
   "source": [
    "import itertools  \n",
    "# initializing list  \n",
    "list1 = [2, 4, 5, 7, 8]  \n",
    "# using dropwhile() iterator that will print start displaying after condition is false  \n",
    "print(\"The output is : \", end=\"\")  \n",
    "print(list(itertools.dropwhile(lambda x: x % 2 == 0, list1)))  "
   ]
  },
  {
   "cell_type": "code",
   "execution_count": 12,
   "id": "2adc4318-59ae-403f-bd65-ed8b95a65f38",
   "metadata": {},
   "outputs": [
    {
     "name": "stdout",
     "output_type": "stream",
     "text": [
      "The Output is: [15, 27]\n"
     ]
    }
   ],
   "source": [
    "import itertools  \n",
    "  \n",
    "# declaring list  \n",
    "list1 = [12, 14, 15, 27, 28]  \n",
    "  \n",
    "# using filterfalse() iterator that will print false values  \n",
    "print(\"The Output is: \", end=\"\")  \n",
    "print(list(itertools.filterfalse(lambda x: x % 2 == 0, list1)))  "
   ]
  },
  {
   "cell_type": "code",
   "execution_count": 13,
   "id": "e963674e-20c0-4588-a00b-cf99f98a6038",
   "metadata": {},
   "outputs": [
    {
     "name": "stdout",
     "output_type": "stream",
     "text": [
      "The sliced list values are : [65, 80, 20]\n"
     ]
    }
   ],
   "source": [
    "import itertools  \n",
    "# Declaring list  \n",
    "list1 = [12, 34, 65, 73, 80, 19, 20]  \n",
    "# using islice() iterator that will slice the list acc. to given argument  \n",
    "# starts printing from 3nd index till 8th skipping 2  \n",
    "print(\"The sliced list values are : \", end=\"\")  \n",
    "print(list(itertools.islice(list1, 2, 8, 2)))  "
   ]
  },
  {
   "cell_type": "code",
   "execution_count": 14,
   "id": "b4eb4691-f92c-4b4c-a1da-6833b45f6594",
   "metadata": {},
   "outputs": [
    {
     "name": "stdout",
     "output_type": "stream",
     "text": [
      "The values acc. to function are : [20, 40, 90, 27]\n"
     ]
    }
   ],
   "source": [
    "import itertools  \n",
    "  \n",
    "# Declaring list that contain tuple as element  \n",
    "list1 = [(10, 20, 15), (18, 40, 19), (53, 42, 90), (16, 12, 27)]  \n",
    "  \n",
    "# using starmap() iterator for selection value acc. to function  \n",
    "# selects max of all tuple values  \n",
    "print(\"The values acc. to function are : \", end=\"\")  \n",
    "print(list(itertools.starmap(max, list1)))  "
   ]
  },
  {
   "cell_type": "code",
   "execution_count": 15,
   "id": "fd720efd-6912-495d-9ec5-4fa5889d6c80",
   "metadata": {},
   "outputs": [
    {
     "name": "stdout",
     "output_type": "stream",
     "text": [
      "Print until 1st false value returned : [20, 42, 64]\n"
     ]
    }
   ],
   "source": [
    "import itertools  \n",
    "  \n",
    "# Defining a list  \n",
    "list1 = [20, 42, 64, 77, 8, 10, 20]  \n",
    "  \n",
    "# takewhile() iterator is used  to print values till condition return false.  \n",
    "print(\"Print until 1st false value returned : \", end=\"\")  \n",
    "print(list(itertools.takewhile(lambda x: x % 2 == 0, list1))) "
   ]
  },
  {
   "cell_type": "code",
   "execution_count": null,
   "id": "22f28718-ee64-4556-b129-e62bc003f7a8",
   "metadata": {},
   "outputs": [],
   "source": []
  }
 ],
 "metadata": {
  "kernelspec": {
   "display_name": "Python 3 (ipykernel)",
   "language": "python",
   "name": "python3"
  },
  "language_info": {
   "codemirror_mode": {
    "name": "ipython",
    "version": 3
   },
   "file_extension": ".py",
   "mimetype": "text/x-python",
   "name": "python",
   "nbconvert_exporter": "python",
   "pygments_lexer": "ipython3",
   "version": "3.12.4"
  }
 },
 "nbformat": 4,
 "nbformat_minor": 5
}
