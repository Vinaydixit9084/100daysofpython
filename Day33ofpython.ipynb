{
 "cells": [
  {
   "cell_type": "markdown",
   "id": "404a5aea-e03d-40bf-a9ec-8d583f300dae",
   "metadata": {},
   "source": [
    "Python Generators"
   ]
  },
  {
   "cell_type": "code",
   "execution_count": 6,
   "id": "60bf5cd1-ad8e-4433-a5db-73f3797e9ccc",
   "metadata": {},
   "outputs": [
    {
     "name": "stdout",
     "output_type": "stream",
     "text": [
      "0\n",
      "2\n",
      "4\n",
      "6\n",
      "8\n"
     ]
    }
   ],
   "source": [
    "def simple():  \n",
    " for i in range(10):  \n",
    "    if(i%2==0):  \n",
    "      yield i  \n",
    "  \n",
    "#Successive Function call using for loop  \n",
    "for i in simple():  \n",
    "    print(i)  "
   ]
  },
  {
   "cell_type": "code",
   "execution_count": 7,
   "id": "4deab198-6eb9-46d1-aac7-a90480622bc7",
   "metadata": {},
   "outputs": [
    {
     "name": "stdout",
     "output_type": "stream",
     "text": [
      "First String\n",
      "Second string\n",
      "Third String\n"
     ]
    }
   ],
   "source": [
    "def multiple_yield():  \n",
    "    str1 = \"First String\"  \n",
    "    yield str1  \n",
    "  \n",
    "    str2 = \"Second string\"  \n",
    "    yield str2  \n",
    "  \n",
    "    str3 = \"Third String\"  \n",
    "    yield str3  \n",
    "obj = multiple_yield()  \n",
    "print(next(obj))  \n",
    "print(next(obj))  \n",
    "print(next(obj))  \n"
   ]
  },
  {
   "cell_type": "code",
   "execution_count": 8,
   "id": "00a4173d-59db-4d6c-a988-d0d6f24f5deb",
   "metadata": {},
   "outputs": [
    {
     "name": "stdout",
     "output_type": "stream",
     "text": [
      "<generator object <genexpr> at 0x000001D2F0EC8AD0>\n",
      "[1, 8, 27, 64, 125, 216, 343]\n"
     ]
    }
   ],
   "source": [
    "list = [1,2,3,4,5,6,7]  \n",
    "  \n",
    "# List Comprehension  \n",
    "z = [x**3 for x in list]  \n",
    "  \n",
    "# Generator expression  \n",
    "a = (x**3 for x in list)  \n",
    "  \n",
    "print(a)  \n",
    "print(z)  "
   ]
  },
  {
   "cell_type": "code",
   "execution_count": 9,
   "id": "0d79f54b-6e64-4521-82ea-c8cede470513",
   "metadata": {},
   "outputs": [
    {
     "name": "stdout",
     "output_type": "stream",
     "text": [
      "1\n",
      "8\n",
      "27\n",
      "64\n"
     ]
    }
   ],
   "source": [
    "list = [1,2,3,4,5,6]  \n",
    "  \n",
    "z = (x**3 for x in list)  \n",
    "  \n",
    "print(next(z))  \n",
    "  \n",
    "print(next(z))  \n",
    "  \n",
    "print(next(z))  \n",
    "  \n",
    "print(next(z))  "
   ]
  },
  {
   "cell_type": "code",
   "execution_count": 13,
   "id": "8da80334-9464-46bb-bf2f-51fadbb56cc9",
   "metadata": {},
   "outputs": [
    {
     "name": "stdout",
     "output_type": "stream",
     "text": [
      "15\n",
      "30\n",
      "45\n",
      "60\n",
      "75\n",
      "90\n",
      "105\n",
      "120\n",
      "135\n",
      "150\n"
     ]
    }
   ],
   "source": [
    "def table(n):  \n",
    "    for i in range(1,11):  \n",
    "        yield n*i  \n",
    "        i = i+1  \n",
    "  \n",
    "for i in table(15):  \n",
    "    print(i)  "
   ]
  },
  {
   "cell_type": "code",
   "execution_count": null,
   "id": "f2b032e7-0cc2-4861-9103-2c3bad80abab",
   "metadata": {},
   "outputs": [],
   "source": []
  }
 ],
 "metadata": {
  "kernelspec": {
   "display_name": "Python 3 (ipykernel)",
   "language": "python",
   "name": "python3"
  },
  "language_info": {
   "codemirror_mode": {
    "name": "ipython",
    "version": 3
   },
   "file_extension": ".py",
   "mimetype": "text/x-python",
   "name": "python",
   "nbconvert_exporter": "python",
   "pygments_lexer": "ipython3",
   "version": "3.12.4"
  }
 },
 "nbformat": 4,
 "nbformat_minor": 5
}
