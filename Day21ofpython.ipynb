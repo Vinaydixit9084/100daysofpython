{
 "cells": [
  {
   "cell_type": "markdown",
   "id": "d27fa2d4-c806-42b9-a98c-14c5e4522f9c",
   "metadata": {},
   "source": [
    "RegEx Functions"
   ]
  },
  {
   "cell_type": "code",
   "execution_count": 1,
   "id": "528da4c1-ce34-4ff0-b138-fad7295bcee0",
   "metadata": {},
   "outputs": [
    {
     "name": "stdout",
     "output_type": "stream",
     "text": [
      "Match Object: <re.Match object; span=(17, 24), match='amazing'>\n"
     ]
    }
   ],
   "source": [
    "# Importing re module  \n",
    "import re  \n",
    "  \n",
    "# Defining regEx pattern  \n",
    "pattern = \"amazing\"  \n",
    "  \n",
    "# Createing a regEx object  \n",
    "regex_object = re.compile(pattern)  \n",
    "  \n",
    "# String  \n",
    "text = \"This tutorial is amazing!\"   \n",
    "  \n",
    "# Searching for the pattern in the string  \n",
    "match_object = regex_object.search(text)  \n",
    "  \n",
    "# Output  \n",
    "print(\"Match Object:\", match_object)  "
   ]
  },
  {
   "cell_type": "code",
   "execution_count": 2,
   "id": "ce6c254b-3657-4d55-8681-f4ad27035b3d",
   "metadata": {},
   "outputs": [
    {
     "name": "stdout",
     "output_type": "stream",
     "text": [
      "<re.Match object; span=(0, 5), match='hello'>\n",
      "Span: (0, 5)\n",
      "Start: 0\n",
      "End: 5\n"
     ]
    }
   ],
   "source": [
    "# Importing re module  \n",
    "import re  \n",
    "  \n",
    "# Our pattern  \n",
    "pattern = \"hello\"  \n",
    "  \n",
    "# Returns a match object if found else Null  \n",
    "match = re.match(pattern, \"hello world\")  \n",
    "  \n",
    "print(match) # Printing the match object  \n",
    "print(\"Span:\", match.span()) # Return the tuple (start, end)  \n",
    "print(\"Start:\", match.start()) # Return the starting index  \n",
    "print(\"End:\", match.end()) # Returns the ending index  "
   ]
  },
  {
   "cell_type": "code",
   "execution_count": 3,
   "id": "24846b47-fe9c-4361-88a4-7a2974d74f41",
   "metadata": {},
   "outputs": [
    {
     "name": "stdout",
     "output_type": "stream",
     "text": [
      "There isn't any match!!\n"
     ]
    }
   ],
   "source": [
    "import re    \n",
    "line = \"Learn Python through tutorials on javatpoint\"    \n",
    "match_object = re.match( r'.w* (.w?) (.w*?)', line, re.M|re.I)    \n",
    "    \n",
    "if match_object:    \n",
    "    print (\"match object group : \", match_object.group())    \n",
    "    print (\"match object 1 group : \", match_object.group(1))    \n",
    "    print (\"match object 2 group : \", match_object.group(2))    \n",
    "else:    \n",
    "    print ( \"There isn't any match!!\" )   "
   ]
  },
  {
   "cell_type": "code",
   "execution_count": 4,
   "id": "5fd6a4e9-e039-4211-bf0c-7e08a83dfb37",
   "metadata": {},
   "outputs": [
    {
     "name": "stdout",
     "output_type": "stream",
     "text": [
      "search object group :   Python through tutorials on javatpoint\n",
      "search object group 1 :  on\n",
      "search object group 2 :  javatpoint\n"
     ]
    }
   ],
   "source": [
    "import re  \n",
    "  \n",
    "line = \"Learn Python through tutorials on javatpoint\";  \n",
    "  \n",
    "search_object = re.search( r' .*t? (.*t?) (.*t?)', line)  \n",
    "if search_object:  \n",
    "    print(\"search object group : \", search_object.group())  \n",
    "    print(\"search object group 1 : \", search_object.group(1))  \n",
    "    print(\"search object group 2 : \", search_object.group(2))  \n",
    "else:  \n",
    "    print(\"Nothing found!!\")  "
   ]
  },
  {
   "cell_type": "code",
   "execution_count": 5,
   "id": "41cd6b76-4dc8-4215-86fd-4be66e484075",
   "metadata": {},
   "outputs": [
    {
     "name": "stdout",
     "output_type": "stream",
     "text": [
      "Original text: I like Javatpoint!\n",
      "Substituted text:  I love Javatpoint!\n"
     ]
    }
   ],
   "source": [
    "# Importing re module  \n",
    "import re  \n",
    "  \n",
    "# Defining parameters  \n",
    "pattern = \"like\" # to be replaced  \n",
    "repl = \"love\" # Replacement  \n",
    "text = \"I like Javatpoint!\" # String  \n",
    "  \n",
    "# Returns a new string with a substituted pattern  \n",
    "new_text = re.sub(pattern, repl, text)  \n",
    "  \n",
    "# Output  \n",
    "print(\"Original text:\", text)  \n",
    "print(\"Substituted text: \", new_text)  "
   ]
  },
  {
   "cell_type": "code",
   "execution_count": 6,
   "id": "a40aff11-a44e-45c8-98a5-af6b1ce78e4a",
   "metadata": {},
   "outputs": [
    {
     "name": "stdout",
     "output_type": "stream",
     "text": [
      "Original text: I like Javatpoint! I also like tutorials!\n",
      "Substituted text: I Like Javatpoint! I aLso Like tutorials!\n"
     ]
    }
   ],
   "source": [
    "# Importing re package  \n",
    "import re  \n",
    "  \n",
    "# Defining parameters  \n",
    "pattern = \"l\" # to be replaced  \n",
    "repl = \"L\" # Replacement  \n",
    "text = \"I like Javatpoint! I also like tutorials!\" # String  \n",
    "  \n",
    "# Returns a new string with the substituted pattern  \n",
    "new_text = re.sub(pattern, repl, text, 3)  \n",
    "  \n",
    "# Output  \n",
    "print(\"Original text:\", text)  \n",
    "print(\"Substituted text:\", new_text)  "
   ]
  },
  {
   "cell_type": "code",
   "execution_count": 7,
   "id": "d2932d01-f5bb-4bd4-9af1-659375c049c2",
   "metadata": {},
   "outputs": [
    {
     "name": "stdout",
     "output_type": "stream",
     "text": [
      "Original text: I like Javatpoint! I also like tutorials!\n",
      "Substituted text: ('I Like Javatpoint! I aLso Like tutorials!', 3)\n"
     ]
    }
   ],
   "source": [
    "# Importing re module  \n",
    "import re  \n",
    "  \n",
    "# Defining parameters  \n",
    "pattern = \"l\" # to be replaced  \n",
    "repl = \"L\" # Replacement  \n",
    "text = \"I like Javatpoint! I also like tutorials!\" # String  \n",
    "  \n",
    "# Returns a new string with the substituted pattern  \n",
    "new_text = re.subn(pattern, repl, text, 3)  \n",
    "  \n",
    "# Output  \n",
    "print(\"Original text:\", text)  \n",
    "print(\"Substituted text:\", new_text)  "
   ]
  },
  {
   "cell_type": "code",
   "execution_count": 8,
   "id": "02e994c2-91d7-4775-9d0d-d31ce236218f",
   "metadata": {},
   "outputs": [
    {
     "name": "stdout",
     "output_type": "stream",
     "text": [
      "None\n",
      "<re.Match object; span=(0, 11), match='Hello world'>\n"
     ]
    }
   ],
   "source": [
    "# Importing re module  \n",
    "import re   \n",
    "  \n",
    "# Sample string  \n",
    "line = \"Hello world\";    \n",
    "  \n",
    "# Using re.fullmatch()  \n",
    "print(re.fullmatch(\"Hello\", line))  \n",
    "print(re.fullmatch(\"Hello world\", line))  "
   ]
  },
  {
   "cell_type": "code",
   "execution_count": 9,
   "id": "a86311ea-cf0f-4ef4-bc86-4e8cd8caac75",
   "metadata": {},
   "outputs": [
    {
     "name": "stdout",
     "output_type": "stream",
     "text": [
      "<re.Match object; span=(1, 2), match='e'>\n",
      "<re.Match object; span=(4, 5), match='o'>\n",
      "<re.Match object; span=(7, 8), match='o'>\n",
      "<re.Match object; span=(15, 16), match='a'>\n",
      "<re.Match object; span=(19, 20), match='e'>\n",
      "<re.Match object; span=(21, 22), match='e'>\n"
     ]
    }
   ],
   "source": [
    "# Importing re module  \n",
    "import re   \n",
    "  \n",
    "# Sample string  \n",
    "line = \"Hello world. I am Here!\";  \n",
    "  \n",
    "# Regex pattern  \n",
    "pattern = r'[aeiou]'  \n",
    "  \n",
    "# Using re.finditer()  \n",
    "iter_ = re.finditer(pattern, line)  \n",
    "  \n",
    "# Iterating the itre_  \n",
    "for i in iter_:  \n",
    "    print(i)  "
   ]
  },
  {
   "cell_type": "code",
   "execution_count": 10,
   "id": "2c2ba77f-cb92-461f-8dba-98044d18305a",
   "metadata": {},
   "outputs": [
    {
     "name": "stdout",
     "output_type": "stream",
     "text": [
      "When maxsplit = 0, result: ['Learn', 'Python', 'through', 'tutorials', 'on', 'javatpoint']\n",
      "When maxsplit = 1, result = ['Learn', 'Python through tutorials on javatpoint']\n"
     ]
    }
   ],
   "source": [
    "# Import re module  \n",
    "import re    \n",
    "  \n",
    "# Pattern  \n",
    "pattern = ' '  \n",
    "# Sample string  \n",
    "line = \"Learn Python through tutorials on javatpoint\"    \n",
    "  \n",
    "# Using split function to split the string after ' '  \n",
    "result = re.split( pattern, line)   \n",
    "  \n",
    "# Printing the result  \n",
    "print(\"When maxsplit = 0, result:\", result)  \n",
    "  \n",
    "# When Maxsplit is one  \n",
    "result = re.split(pattern, line, maxsplit=1)  \n",
    "print(\"When maxsplit = 1, result =\", result)  "
   ]
  },
  {
   "cell_type": "code",
   "execution_count": 12,
   "id": "8c7f0edf-7f37-428d-aa35-0797caa74b65",
   "metadata": {},
   "outputs": [
    {
     "name": "stdout",
     "output_type": "stream",
     "text": [
      "Result: https://www\\.google\\.com/\n"
     ]
    }
   ],
   "source": [
    "# Import re module  \n",
    "import re    \n",
    "  \n",
    "# Pattern  \n",
    "pattern = 'https://www.google.com/'  \n",
    "  \n",
    "# Using escape function to escape metacharacters  \n",
    "result = re.escape( pattern)   \n",
    "  \n",
    "# Printing the result  \n",
    "print(\"Result:\", result)  "
   ]
  },
  {
   "cell_type": "code",
   "execution_count": 13,
   "id": "932880dc-08d8-41ac-a33c-560399465fb8",
   "metadata": {},
   "outputs": [
    {
     "name": "stdout",
     "output_type": "stream",
     "text": [
      "<re.Match object; span=(0, 3), match='123'>\n",
      "<re.Match object; span=(3, 6), match='abc'>\n",
      "<re.Match object; span=(0, 3), match='456'>\n",
      "<re.Match object; span=(3, 6), match='def'>\n"
     ]
    }
   ],
   "source": [
    "# Importing re module  \n",
    "import re  \n",
    "  \n",
    "# Define some regular expressions  \n",
    "pattern1 = r'\\d+'  \n",
    "pattern2 = r'[a-z]+'  \n",
    "  \n",
    "# Use the regular expressions  \n",
    "print(re.search(pattern1, '123abc'))  \n",
    "print(re.search(pattern2, '123abc'))  \n",
    "  \n",
    "# Clear the regular expression cache  \n",
    "re.purge()  \n",
    "  \n",
    "# Use the regular expressions again  \n",
    "print(re.search(pattern1, '456def'))  \n",
    "print(re.search(pattern2, '456def'))  "
   ]
  },
  {
   "cell_type": "code",
   "execution_count": 14,
   "id": "16ac7e2f-16ec-47cb-a626-333ebbf47c7e",
   "metadata": {},
   "outputs": [
    {
     "name": "stdout",
     "output_type": "stream",
     "text": [
      "There isn't any match!!\n",
      "Search object group :  <re.Match object; span=(13, 20), match='through'>\n"
     ]
    }
   ],
   "source": [
    "# Import re module  \n",
    "import re    \n",
    "  \n",
    "# Sample string  \n",
    "line = \"Learn Python through tutorials on javatpoint\"    \n",
    "  \n",
    "# Using match function to match 'through'  \n",
    "match_object = re.match( r'through', line, re.M|re.I)    \n",
    "if match_object:    \n",
    "    print(\"match object group : \", match_object)    \n",
    "else:    \n",
    "    print( \"There isn't any match!!\")    \n",
    "  \n",
    "# using search function to search  \n",
    "search_object = re.search( r'through', line, re.M|re.I)    \n",
    "if search_object:    \n",
    "    print(\"Search object group : \", search_object)    \n",
    "else:    \n",
    "    print(\"Nothing found!!\")  "
   ]
  },
  {
   "cell_type": "code",
   "execution_count": null,
   "id": "d8f4101d-57e8-4856-9960-334254094643",
   "metadata": {},
   "outputs": [],
   "source": []
  }
 ],
 "metadata": {
  "kernelspec": {
   "display_name": "Python 3 (ipykernel)",
   "language": "python",
   "name": "python3"
  },
  "language_info": {
   "codemirror_mode": {
    "name": "ipython",
    "version": 3
   },
   "file_extension": ".py",
   "mimetype": "text/x-python",
   "name": "python",
   "nbconvert_exporter": "python",
   "pygments_lexer": "ipython3",
   "version": "3.12.4"
  }
 },
 "nbformat": 4,
 "nbformat_minor": 5
}
