{
 "cells": [
  {
   "cell_type": "code",
   "execution_count": 6,
   "id": "69e2cb4c-780c-4ceb-a785-aa3279ab8570",
   "metadata": {},
   "outputs": [
    {
     "name": "stdin",
     "output_type": "stream",
     "text": [
      "Enter a number 161\n"
     ]
    },
    {
     "name": "stdout",
     "output_type": "stream",
     "text": [
      "161 is a palindrome.\n"
     ]
    }
   ],
   "source": [
    "# Palindrome Number\n",
    "\n",
    "def isPalindrome(x):\n",
    "    numstr = str(x)\n",
    "\n",
    "    return numstr == numstr[::-1]\n",
    "\n",
    "x =  int(input(\"Enter a number\"))\n",
    "if isPalindrome(x):\n",
    "    print(f\"{x} is a palindrome.\")\n",
    "\n",
    "else:\n",
    "      print(f\"{x} is not a palindrome.\")\n",
    "    "
   ]
  },
  {
   "cell_type": "code",
   "execution_count": 11,
   "id": "dda7efe9-49b3-4058-b341-61ba59f57ded",
   "metadata": {},
   "outputs": [
    {
     "name": "stdin",
     "output_type": "stream",
     "text": [
      "Enter the number of terms:  5\n"
     ]
    },
    {
     "name": "stdout",
     "output_type": "stream",
     "text": [
      "0 1 1 2 3 "
     ]
    }
   ],
   "source": [
    "# Fibonacci Series\n",
    "def fibonacci(n):\n",
    "    a, b = 0, 1\n",
    "    for _ in range(n):\n",
    "        print(a, end=\" \")\n",
    "        a, b = b, a + b\n",
    "\n",
    "n = int(input(\"Enter the number of terms: \"))\n",
    "fibonacci(n)"
   ]
  },
  {
   "cell_type": "code",
   "execution_count": 10,
   "id": "651bb914-4ba6-4446-a91a-6b4bf7cc93e0",
   "metadata": {},
   "outputs": [
    {
     "name": "stdout",
     "output_type": "stream",
     "text": [
      "0 1 1 2 3 5 8 13 21 34 "
     ]
    }
   ],
   "source": [
    "# Fibonacci upto 10 numbers\n",
    "def fibonacci(n):\n",
    "    a, b = 0, 1\n",
    "    for _ in range(n):\n",
    "        print(a, end = \" \")\n",
    "        a, b = b, a + b\n",
    "\n",
    "fibonacci(10)\n",
    "    "
   ]
  },
  {
   "cell_type": "code",
   "execution_count": 3,
   "id": "b216595e-e237-4bca-be31-7f97aa055943",
   "metadata": {},
   "outputs": [
    {
     "name": "stdin",
     "output_type": "stream",
     "text": [
      "Enter a number:  9474\n"
     ]
    },
    {
     "name": "stdout",
     "output_type": "stream",
     "text": [
      "9474 is an Armstrong number.\n"
     ]
    }
   ],
   "source": [
    "def is_armstrong(n):\n",
    "    num_str = str(n)  # Convert number to string\n",
    "    num_digits = len(num_str)  # Count digits\n",
    "    sum_of_powers = sum(int(digit) ** num_digits for digit in num_str)  # Compute sum\n",
    "    \n",
    "    return sum_of_powers == n  # Check if Armstrong\n",
    "\n",
    "# Example usage\n",
    "num = int(input(\"Enter a number: \"))\n",
    "if is_armstrong(num):\n",
    "    print(f\"{num} is an Armstrong number.\")\n",
    "else:\n",
    "    print(f\"{num} is not an Armstrong number.\")\n"
   ]
  },
  {
   "cell_type": "code",
   "execution_count": 4,
   "id": "65f5697d-3b1d-4748-81f9-9fa4302d59c4",
   "metadata": {},
   "outputs": [
    {
     "name": "stdout",
     "output_type": "stream",
     "text": [
      "1 2 3 4 5 6 7 8 9 153 370 371 407 1634 8208 9474 "
     ]
    }
   ],
   "source": [
    "# Armstrong in range\n",
    "def armstrong_in_range(start, end):\n",
    "    for num in range(start, end + 1):\n",
    "        if is_armstrong(num):\n",
    "            print(num, end=\" \")\n",
    "\n",
    "# Print Armstrong numbers from 1 to 10000\n",
    "armstrong_in_range(1, 10000)"
   ]
  },
  {
   "cell_type": "code",
   "execution_count": null,
   "id": "2f82f8d2-0170-4d4b-80bb-a1aa263fc5ab",
   "metadata": {},
   "outputs": [],
   "source": []
  }
 ],
 "metadata": {
  "kernelspec": {
   "display_name": "Python 3 (ipykernel)",
   "language": "python",
   "name": "python3"
  },
  "language_info": {
   "codemirror_mode": {
    "name": "ipython",
    "version": 3
   },
   "file_extension": ".py",
   "mimetype": "text/x-python",
   "name": "python",
   "nbconvert_exporter": "python",
   "pygments_lexer": "ipython3",
   "version": "3.12.6"
  }
 },
 "nbformat": 4,
 "nbformat_minor": 5
}
