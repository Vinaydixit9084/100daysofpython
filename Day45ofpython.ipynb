{
 "cells": [
  {
   "cell_type": "code",
   "execution_count": 15,
   "id": "b02d5ec0-1d2c-4047-a75d-6c72eed173df",
   "metadata": {},
   "outputs": [
    {
     "name": "stdout",
     "output_type": "stream",
     "text": [
      "[[7, 6, 15], [6, 7, 15], [15, 7, 6], [7, 15, 6], [6, 15, 7], [15, 6, 7]]\n"
     ]
    }
   ],
   "source": [
    "# Permutation Problem solve\n",
    "def permute(nums):\n",
    "        result = []\n",
    "\n",
    "        if len(nums) == 1:\n",
    "            return [nums[:]]\n",
    "\n",
    "        for i in range(len(nums)):\n",
    "            n = nums.pop(0)\n",
    "            perms = permute(nums)\n",
    "\n",
    "            for perm in perms:\n",
    "                perm.append(n)\n",
    "            result.extend(perms)\n",
    "            nums.append(n)\n",
    "\n",
    "        return result\n",
    "\n",
    "print(permute([15,6,7]))\n",
    "        \n",
    "        "
   ]
  },
  {
   "cell_type": "code",
   "execution_count": 22,
   "id": "dd11c596-b72e-4376-8f51-46aa4595f1ef",
   "metadata": {},
   "outputs": [
    {
     "name": "stdout",
     "output_type": "stream",
     "text": [
      "[1, 2, 4, 6]\n",
      "48\n"
     ]
    }
   ],
   "source": [
    "#Maximum Product of Three Numbers\n",
    "def maximumProduct(nums):\n",
    "         nums.sort()\n",
    "         print(nums)\n",
    "         return max(nums[-1] * nums[-2] * nums[-3], nums[0] * nums[1] * nums[-1])\n",
    "\n",
    "print(maximumProduct([1,2,6,4]))"
   ]
  },
  {
   "cell_type": "code",
   "execution_count": 62,
   "id": "addd46b9-e5bd-4d0d-b9e8-6d795f7fea30",
   "metadata": {},
   "outputs": [
    {
     "name": "stdout",
     "output_type": "stream",
     "text": [
      "{19}\n",
      "{82, 19}\n",
      "{82, 19, 68}\n",
      "{100, 82, 19, 68}\n",
      "True\n",
      "{46}\n",
      "{52, 46}\n",
      "{52, 29, 46}\n",
      "{85, 52, 29, 46}\n",
      "{46, 52, 85, 89, 29}\n",
      "{46, 145, 52, 85, 89, 29}\n",
      "{42, 46, 145, 52, 85, 89, 29}\n",
      "{42, 46, 145, 52, 85, 20, 89, 29}\n",
      "{4, 42, 46, 145, 52, 85, 20, 89, 29}\n",
      "{4, 42, 46, 16, 145, 52, 85, 20, 89, 29}\n",
      "{4, 37, 42, 46, 16, 145, 52, 85, 20, 89, 29}\n",
      "{4, 37, 42, 46, 16, 145, 52, 85, 20, 89, 58, 29}\n",
      "False\n"
     ]
    }
   ],
   "source": [
    "#Happy Number\n",
    "def isHappy(n):\n",
    "          seen = set()\n",
    "          while n != 1 and n not in seen:\n",
    "            seen.add(n)\n",
    "            n = sum_of_squares(n)\n",
    "            print(seen)\n",
    "          return n == 1\n",
    "\n",
    "def sum_of_squares(n):\n",
    "        sum_squares = 0\n",
    "        while n:\n",
    "            digit = n % 10\n",
    "            sum_squares += digit ** 2\n",
    "            n //= 10\n",
    "        return sum_squares\n",
    "\n",
    "print(isHappy(19))\n",
    "print(isHappy(46))\n",
    "        "
   ]
  },
  {
   "cell_type": "code",
   "execution_count": null,
   "id": "d4daf78e-bf20-430d-b80d-a1ac0dfccd35",
   "metadata": {},
   "outputs": [],
   "source": []
  }
 ],
 "metadata": {
  "kernelspec": {
   "display_name": "Python 3 (ipykernel)",
   "language": "python",
   "name": "python3"
  },
  "language_info": {
   "codemirror_mode": {
    "name": "ipython",
    "version": 3
   },
   "file_extension": ".py",
   "mimetype": "text/x-python",
   "name": "python",
   "nbconvert_exporter": "python",
   "pygments_lexer": "ipython3",
   "version": "3.12.6"
  }
 },
 "nbformat": 4,
 "nbformat_minor": 5
}
