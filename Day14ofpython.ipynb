{
 "cells": [
  {
   "cell_type": "markdown",
   "id": "b5cc3b62-d14c-42f0-82ed-8f0c8d4aae13",
   "metadata": {},
   "source": [
    "FUNCTIONS"
   ]
  },
  {
   "cell_type": "code",
   "execution_count": 1,
   "id": "54d12677-8b1e-4881-a887-d60d55c8e3d2",
   "metadata": {},
   "outputs": [
    {
     "name": "stdout",
     "output_type": "stream",
     "text": [
      "The square of the given number is:  36\n"
     ]
    }
   ],
   "source": [
    "# Example Python Code for User-Defined function  \n",
    "def square( num ):    \n",
    "    \"\"\"  \n",
    "    This function computes the square of the number.  \n",
    "    \"\"\"    \n",
    "    return num**2     \n",
    "object_ = square(6)    \n",
    "print( \"The square of the given number is: \", object_ )    "
   ]
  },
  {
   "cell_type": "code",
   "execution_count": 2,
   "id": "9cf79756-6154-4bbf-a3c3-4a54a8ab9e05",
   "metadata": {},
   "outputs": [
    {
     "name": "stdout",
     "output_type": "stream",
     "text": [
      "Length of the string Functions is:  9\n",
      "Length of the string Python is:  6\n"
     ]
    }
   ],
   "source": [
    "# Example Python Code for calling a function  \n",
    "# Defining a function    \n",
    "def a_function( string ):    \n",
    "    \"This prints the value of length of string\"    \n",
    "    return len(string)    \n",
    "    \n",
    "# Calling the function we defined    \n",
    "print( \"Length of the string Functions is: \", a_function( \"Functions\" ) )    \n",
    "print( \"Length of the string Python is: \", a_function( \"Python\" ) )    "
   ]
  },
  {
   "cell_type": "code",
   "execution_count": 3,
   "id": "4ecd3160-18ca-465a-a572-744a68bb86ae",
   "metadata": {},
   "outputs": [
    {
     "name": "stdout",
     "output_type": "stream",
     "text": [
      "Squares of the list are:  [289, 2704, 64]\n"
     ]
    }
   ],
   "source": [
    "# Example Python Code for Pass by Reference vs. Value  \n",
    "# defining the function    \n",
    "def square( item_list ):    \n",
    "    '''''''This function will find the square of items in the list'''    \n",
    "    squares = [ ]    \n",
    "    for l in item_list:    \n",
    "        squares.append( l**2 )    \n",
    "    return squares    \n",
    "    \n",
    "# calling the defined function    \n",
    "my_list = [17, 52, 8];    \n",
    "my_result = square( my_list )    \n",
    "print( \"Squares of the list are: \", my_result )    "
   ]
  },
  {
   "cell_type": "markdown",
   "id": "fe188047-e2eb-4c32-9c81-3dfa04b1671e",
   "metadata": {},
   "source": [
    "Default Arguments"
   ]
  },
  {
   "cell_type": "code",
   "execution_count": 4,
   "id": "38ae21c2-c302-4759-bae4-37c00c191fde",
   "metadata": {},
   "outputs": [
    {
     "name": "stdout",
     "output_type": "stream",
     "text": [
      "Passing only one argument\n",
      "number 1 is:  30\n",
      "number 2 is:  20\n",
      "Passing two arguments\n",
      "number 1 is:  50\n",
      "number 2 is:  30\n"
     ]
    }
   ],
   "source": [
    "# Python code to demonstrate the use of default arguments    \n",
    "# defining a function    \n",
    "def function( n1, n2 = 20 ):    \n",
    "    print(\"number 1 is: \", n1)    \n",
    "    print(\"number 2 is: \", n2)    \n",
    "     \n",
    "     \n",
    "# Calling the function and passing only one argument    \n",
    "print( \"Passing only one argument\" )    \n",
    "function(30)    \n",
    "    \n",
    "# Now giving two arguments to the function    \n",
    "print( \"Passing two arguments\" )    \n",
    "function(50,30)    "
   ]
  },
  {
   "cell_type": "markdown",
   "id": "2328e9b5-f7e3-457c-ba8d-01f086920326",
   "metadata": {},
   "source": [
    "Keyword Arguments"
   ]
  },
  {
   "cell_type": "code",
   "execution_count": 5,
   "id": "bc30871c-6535-48bb-8fcc-46c851ff1e01",
   "metadata": {},
   "outputs": [
    {
     "name": "stdout",
     "output_type": "stream",
     "text": [
      "Without using keyword\n",
      "number 1 is:  50\n",
      "number 2 is:  30\n",
      "With using keyword\n",
      "number 1 is:  30\n",
      "number 2 is:  50\n"
     ]
    }
   ],
   "source": [
    "# Python code to demonstrate the use of keyword arguments    \n",
    "  # Defining a function    \n",
    "def function( n1, n2 ):    \n",
    "    print(\"number 1 is: \", n1)    \n",
    "    print(\"number 2 is: \", n2)    \n",
    "    \n",
    "# Calling function and passing arguments without using keyword    \n",
    "print( \"Without using keyword\" )    \n",
    "function( 50, 30)       \n",
    "        \n",
    "# Calling function and passing arguments using keyword    \n",
    "print( \"With using keyword\" )    \n",
    "function( n2 = 50, n1 = 30)   "
   ]
  },
  {
   "cell_type": "markdown",
   "id": "0e801f88-4844-4a96-a625-a3009449766f",
   "metadata": {},
   "source": [
    " Required Arguments"
   ]
  },
  {
   "cell_type": "code",
   "execution_count": 6,
   "id": "bb6917ce-ae06-49f0-ad28-dab9e6fb8de8",
   "metadata": {},
   "outputs": [
    {
     "name": "stdout",
     "output_type": "stream",
     "text": [
      "Passing out of order arguments\n",
      "number 1 is:  30\n",
      "number 2 is:  20\n",
      "Passing only one argument\n",
      "Function needs two positional arguments\n"
     ]
    }
   ],
   "source": [
    "# Python code to demonstrate the use of default arguments      \n",
    "# Defining a function    \n",
    "def function( n1, n2 ):    \n",
    "    print(\"number 1 is: \", n1)    \n",
    "    print(\"number 2 is: \", n2)    \n",
    "    \n",
    "# Calling function and passing two arguments out of order, we need num1 to be 20 and num2 to be 30    \n",
    "print( \"Passing out of order arguments\" )    \n",
    "function( 30, 20 )       \n",
    "    \n",
    "# Calling function and passing only one argument    \n",
    "print( \"Passing only one argument\" )    \n",
    "try:    \n",
    "    function( 30 )    \n",
    "except:    \n",
    "    print( \"Function needs two positional arguments\" )  "
   ]
  },
  {
   "cell_type": "markdown",
   "id": "902f7d93-d422-464c-b678-428f50e42416",
   "metadata": {},
   "source": [
    "Variable-Length Arguments"
   ]
  },
  {
   "cell_type": "code",
   "execution_count": 7,
   "id": "b98f6460-25a0-4dfc-b838-0eea77d46478",
   "metadata": {},
   "outputs": [
    {
     "name": "stdout",
     "output_type": "stream",
     "text": [
      "['PYTHON', 'FUNCTIONS', 'TUTORIAL']\n",
      "[['First', 'Python'], ['Second', 'Functions'], ['Third', 'Tutorial']]\n"
     ]
    }
   ],
   "source": [
    "# Python code to demonstrate the use of variable-length arguments       \n",
    "# Defining a function    \n",
    "def function( *args_list ):    \n",
    "    ans = []    \n",
    "    for l in args_list:    \n",
    "        ans.append( l.upper() )    \n",
    "    return ans    \n",
    "# Passing args arguments    \n",
    "object = function('Python', 'Functions', 'tutorial')    \n",
    "print( object )    \n",
    "    \n",
    "# defining a function    \n",
    "def function( **kargs_list ):    \n",
    "    ans = []    \n",
    "    for key, value in kargs_list.items():    \n",
    "        ans.append([key, value])    \n",
    "    return ans    \n",
    "# Paasing kwargs arguments    \n",
    "object = function(First = \"Python\", Second = \"Functions\", Third = \"Tutorial\")    \n",
    "print(object)    "
   ]
  },
  {
   "cell_type": "markdown",
   "id": "8222c8ce-9926-4aa3-94e1-84f92ccdb72a",
   "metadata": {},
   "source": [
    "return Statement"
   ]
  },
  {
   "cell_type": "code",
   "execution_count": 8,
   "id": "56a6efdc-47b5-4686-9384-c33ded74f03b",
   "metadata": {},
   "outputs": [
    {
     "name": "stdout",
     "output_type": "stream",
     "text": [
      "With return statement\n",
      "2704\n",
      "Without return statement\n",
      "None\n"
     ]
    }
   ],
   "source": [
    "# Python code to demonstrate the use of return statements      \n",
    "# Defining a function with return statement    \n",
    "def square( num ):    \n",
    "    return num**2    \n",
    "     \n",
    "# Calling function and passing arguments.    \n",
    "print( \"With return statement\" )    \n",
    "print( square( 52 ) )    \n",
    "    \n",
    "# Defining a function without return statement     \n",
    "def square( num ):    \n",
    "     num**2     \n",
    "    \n",
    "# Calling function and passing arguments.    \n",
    "print( \"Without return statement\" )    \n",
    "print( square( 52 ) )    "
   ]
  },
  {
   "cell_type": "markdown",
   "id": "afeb05c9-6c79-4600-ba32-b8f9d3afa6c1",
   "metadata": {},
   "source": [
    "The Anonymous Functions"
   ]
  },
  {
   "cell_type": "code",
   "execution_count": 9,
   "id": "551a7eb4-e9d4-4be0-a0f7-9d7a13657706",
   "metadata": {},
   "outputs": [
    {
     "name": "stdout",
     "output_type": "stream",
     "text": [
      "Value of the function is :  50\n",
      "Value of the function is :  90\n"
     ]
    }
   ],
   "source": [
    "# Python code to demonstrate ananymous functions  \n",
    "# Defining a function    \n",
    "lambda_ = lambda argument1, argument2: argument1 + argument2;    \n",
    "    \n",
    "# Calling the function and passing values    \n",
    "print( \"Value of the function is : \", lambda_( 20, 30 ) )    \n",
    "print( \"Value of the function is : \", lambda_( 40, 50 ) )   "
   ]
  },
  {
   "cell_type": "markdown",
   "id": "397c5817-37b5-44e3-b4ac-08e1183c2dbe",
   "metadata": {},
   "source": [
    "Scope and Lifetime of Variables"
   ]
  },
  {
   "cell_type": "code",
   "execution_count": 10,
   "id": "74236b8d-b74e-4537-a945-b7d587f9ec40",
   "metadata": {},
   "outputs": [
    {
     "name": "stdout",
     "output_type": "stream",
     "text": [
      "Value of num inside the function:  50\n",
      "Value of num outside the function: 10\n"
     ]
    }
   ],
   "source": [
    "# Python code to demonstrate scope and lifetime of variables  \n",
    "#defining a function to print a number.    \n",
    "def number( ):    \n",
    "    num = 50    \n",
    "    print( \"Value of num inside the function: \", num)    \n",
    "    \n",
    "num = 10    \n",
    "number()    \n",
    "print( \"Value of num outside the function:\", num)    "
   ]
  },
  {
   "cell_type": "code",
   "execution_count": null,
   "id": "14caddc6-024a-4aff-a800-5ea2978a9628",
   "metadata": {},
   "outputs": [],
   "source": []
  }
 ],
 "metadata": {
  "kernelspec": {
   "display_name": "Python 3 (ipykernel)",
   "language": "python",
   "name": "python3"
  },
  "language_info": {
   "codemirror_mode": {
    "name": "ipython",
    "version": 3
   },
   "file_extension": ".py",
   "mimetype": "text/x-python",
   "name": "python",
   "nbconvert_exporter": "python",
   "pygments_lexer": "ipython3",
   "version": "3.12.4"
  }
 },
 "nbformat": 4,
 "nbformat_minor": 5

}
