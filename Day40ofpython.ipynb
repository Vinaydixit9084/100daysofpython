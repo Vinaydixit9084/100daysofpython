{
 "cells": [
  {
   "cell_type": "markdown",
   "id": "4f34196a-4a4a-4f63-b38f-bd1c75133633",
   "metadata": {},
   "source": [
    "Python OOPs "
   ]
  },
  {
   "cell_type": "code",
   "execution_count": 1,
   "id": "a5ffc20e-5bcc-49c1-ac29-ed8b5c59abf4",
   "metadata": {},
   "outputs": [
    {
     "name": "stdout",
     "output_type": "stream",
     "text": [
      "Toyota 2016\n"
     ]
    }
   ],
   "source": [
    "class car:  \n",
    "    def __init__(self,modelname, year):  \n",
    "        self.modelname = modelname  \n",
    "        self.year = year  \n",
    "    def display(self):  \n",
    "        print(self.modelname,self.year)  \n",
    "  \n",
    "c1 = car(\"Toyota\", 2016)  \n",
    "c1.display()  "
   ]
  },
  {
   "cell_type": "code",
   "execution_count": 3,
   "id": "f60a5071-4747-470f-86eb-45e85548f01c",
   "metadata": {},
   "outputs": [
    {
     "name": "stdout",
     "output_type": "stream",
     "text": [
      "Hello, my name is Ayan\n"
     ]
    }
   ],
   "source": [
    "class Person:  \n",
    "    def __init__(self, name, age):  \n",
    "        self.name = name    \n",
    "        self.age = age      \n",
    "    def greet(self):  \n",
    "        print(\"Hello, my name is \" + self.name)  \n",
    "  \n",
    "# Create a new instance of the Person class and assign it to the variable person1  \n",
    "person1 = Person(\"Ayan\", 25)  \n",
    "person1.greet()    "
   ]
  },
  {
   "cell_type": "code",
   "execution_count": 4,
   "id": "f496987f-b852-47af-ad5b-c5085e224fa8",
   "metadata": {},
   "outputs": [
    {
     "name": "stdout",
     "output_type": "stream",
     "text": [
      "2\n"
     ]
    }
   ],
   "source": [
    "class Person:  \n",
    "    count = 0   # This is a class variable  \n",
    "  \n",
    "    def __init__(self, name, age):  \n",
    "        self.name = name    # This is an instance variable  \n",
    "        self.age = age  \n",
    "        Person.count += 1   # Accessing the class variable using the name of the class  \n",
    "person1 = Person(\"Ayan\", 25)  \n",
    "person2 = Person(\"Bobby\", 30)  \n",
    "print(Person.count)     \n"
   ]
  },
  {
   "cell_type": "code",
   "execution_count": 5,
   "id": "e8e7b6cd-5ac4-4dc3-92f2-4e0f6877b93f",
   "metadata": {},
   "outputs": [
    {
     "name": "stdout",
     "output_type": "stream",
     "text": [
      "Ayan\n",
      "30\n"
     ]
    }
   ],
   "source": [
    "class Person:  \n",
    "    def __init__(self, name, age):  \n",
    "        self.name = name    # This is an instance variable  \n",
    "        self.age = age  \n",
    "person1 = Person(\"Ayan\", 25)  \n",
    "person2 = Person(\"Bobby\", 30)  \n",
    "print(person1.name)    \n",
    "print(person2.age) "
   ]
  },
  {
   "cell_type": "markdown",
   "id": "9993b357-490c-4a6d-bfc0-58be0cdd2795",
   "metadata": {},
   "source": [
    "Python Constructor"
   ]
  },
  {
   "cell_type": "code",
   "execution_count": 6,
   "id": "9f5d526b-3a61-4d2f-aea0-ed6a1f9f1869",
   "metadata": {},
   "outputs": [
    {
     "name": "stdout",
     "output_type": "stream",
     "text": [
      "ID: 101 \n",
      "Name: John\n",
      "ID: 102 \n",
      "Name: David\n"
     ]
    }
   ],
   "source": [
    "class Employee:  \n",
    "    def __init__(self, name, id):  \n",
    "        self.id = id  \n",
    "        self.name = name  \n",
    "  \n",
    "    def display(self):  \n",
    "        print(\"ID: %d \\nName: %s\" % (self.id, self.name))  \n",
    "  \n",
    "  \n",
    "emp1 = Employee(\"John\", 101)  \n",
    "emp2 = Employee(\"David\", 102)  \n",
    "  \n",
    "# accessing display() method to print employee 1 information  \n",
    "  \n",
    "emp1.display()  \n",
    "  \n",
    "# accessing display() method to print employee 2 information  \n",
    "emp2.display()  "
   ]
  },
  {
   "cell_type": "code",
   "execution_count": 7,
   "id": "b1e09c11-b62b-461f-891c-c09fc0acbc07",
   "metadata": {},
   "outputs": [
    {
     "name": "stdout",
     "output_type": "stream",
     "text": [
      "The number of students: 3\n"
     ]
    }
   ],
   "source": [
    "class Student:    \n",
    "    count = 0    \n",
    "    def __init__(self):    \n",
    "        Student.count = Student.count + 1    \n",
    "s1=Student()    \n",
    "s2=Student()    \n",
    "s3=Student()    \n",
    "print(\"The number of students:\",Student.count)    "
   ]
  },
  {
   "cell_type": "code",
   "execution_count": 8,
   "id": "dfa98424-5b80-47a8-bc36-20aaa05e13f9",
   "metadata": {},
   "outputs": [
    {
     "name": "stdout",
     "output_type": "stream",
     "text": [
      "The number of students: 3\n"
     ]
    }
   ],
   "source": [
    "class Student:    \n",
    "    count = 0    \n",
    "    def __init__(self):    \n",
    "        Student.count = Student.count + 1    \n",
    "s1=Student()    \n",
    "s2=Student()    \n",
    "s3=Student()    \n",
    "print(\"The number of students:\",Student.count)    "
   ]
  },
  {
   "cell_type": "code",
   "execution_count": 9,
   "id": "9417e10d-b916-4ff5-8291-6de910717479",
   "metadata": {},
   "outputs": [
    {
     "name": "stdout",
     "output_type": "stream",
     "text": [
      "101 Joseph\n"
     ]
    }
   ],
   "source": [
    "class Student:  \n",
    "    roll_num = 101  \n",
    "    name = \"Joseph\"  \n",
    "  \n",
    "    def display(self):  \n",
    "        print(self.roll_num,self.name)  \n",
    "  \n",
    "st = Student()  \n",
    "st.display()  "
   ]
  },
  {
   "cell_type": "code",
   "execution_count": 10,
   "id": "8e0f6433-7e12-4e3d-969c-61f23a81aab2",
   "metadata": {},
   "outputs": [
    {
     "name": "stdout",
     "output_type": "stream",
     "text": [
      "The second contructor\n"
     ]
    }
   ],
   "source": [
    "class Student:  \n",
    "    def __init__(self):  \n",
    "        print(\"The First Constructor\")  \n",
    "    def __init__(self):  \n",
    "        print(\"The second contructor\")  \n",
    "  \n",
    "st = Student()  "
   ]
  },
  {
   "cell_type": "code",
   "execution_count": 12,
   "id": "a98dc1f8-26c7-45d4-8f67-68f909673758",
   "metadata": {},
   "outputs": [
    {
     "name": "stdout",
     "output_type": "stream",
     "text": [
      "John\n",
      "23\n",
      "True\n"
     ]
    }
   ],
   "source": [
    "class Student:  \n",
    "    def __init__(self, name, id, age):  \n",
    "        self.name = name  \n",
    "        self.id = id  \n",
    "        self.age = age  \n",
    "  \n",
    "    # creates the object of the class Student  \n",
    "s = Student(\"John\", 101, 22)  \n",
    "  \n",
    "# prints the attribute name of the object s  \n",
    "print(getattr(s, 'name'))  \n",
    "  \n",
    "# reset the value of attribute age to 23  \n",
    "setattr(s, \"age\", 23)  \n",
    "  \n",
    "# prints the modified value of age  \n",
    "print(getattr(s, 'age'))  \n",
    "  \n",
    "# prints true if the student contains the attribute with name id  \n",
    "  \n",
    "print(hasattr(s, 'id'))  \n",
    "# deletes the attribute age  \n",
    "delattr(s, 'age')  \n"
   ]
  },
  {
   "cell_type": "code",
   "execution_count": 13,
   "id": "cf7e1cbb-f6ab-47bd-9666-715c2c28a213",
   "metadata": {},
   "outputs": [
    {
     "name": "stdout",
     "output_type": "stream",
     "text": [
      "None\n",
      "{'name': 'John', 'id': 101, 'age': 22}\n",
      "__main__\n"
     ]
    }
   ],
   "source": [
    "class Student:    \n",
    "    def __init__(self,name,id,age):    \n",
    "        self.name = name;    \n",
    "        self.id = id;    \n",
    "        self.age = age    \n",
    "    def display_details(self):    \n",
    "        print(\"Name:%s, ID:%d, age:%d\"%(self.name,self.id))    \n",
    "s = Student(\"John\",101,22)    \n",
    "print(s.__doc__)    \n",
    "print(s.__dict__)    \n",
    "print(s.__module__)    "
   ]
  },
  {
   "cell_type": "code",
   "execution_count": null,
   "id": "3086e1ec-43db-4324-962c-626bced74ce8",
   "metadata": {},
   "outputs": [],
   "source": []
  }
 ],
 "metadata": {
  "kernelspec": {
   "display_name": "Python 3 (ipykernel)",
   "language": "python",
   "name": "python3"
  },
  "language_info": {
   "codemirror_mode": {
    "name": "ipython",
    "version": 3
   },
   "file_extension": ".py",
   "mimetype": "text/x-python",
   "name": "python",
   "nbconvert_exporter": "python",
   "pygments_lexer": "ipython3",
   "version": "3.12.6"
  }
 },
 "nbformat": 4,
 "nbformat_minor": 5
}
