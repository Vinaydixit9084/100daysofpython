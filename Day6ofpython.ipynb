{
 "cells": [
  {
   "cell_type": "markdown",
   "id": "ede37c29-848e-45b6-900f-ecdf09a06b29",
   "metadata": {},
   "source": [
    "THE FOR LOOP"
   ]
  },
  {
   "cell_type": "code",
   "execution_count": 1,
   "id": "12349e46-ae3a-48a5-aca7-667b4a0e15ec",
   "metadata": {},
   "outputs": [
    {
     "name": "stdout",
     "output_type": "stream",
     "text": [
      "Even number: 0\n",
      "Even number: 2\n",
      "Even number: 4\n",
      "Even number: 6\n",
      "Even number: 8\n",
      "Even number: 10\n",
      "Even number: 12\n",
      "Even number: 14\n",
      "Even number: 16\n",
      "Even number: 18\n",
      "Even number: 20\n"
     ]
    }
   ],
   "source": [
    "for num in range(21):\n",
    "    if num%2 == 0:\n",
    "        print(f\"Even number: {num}\")"
   ]
  },
  {
   "cell_type": "code",
   "execution_count": 2,
   "id": "fcfb32fb-efde-4dae-8d0e-dd1c16ef0d53",
   "metadata": {},
   "outputs": [
    {
     "name": "stdout",
     "output_type": "stream",
     "text": [
      "Alice is 25 years old.\n",
      "Bob is 30 years old.\n",
      "Charlie is 35 years old.\n"
     ]
    }
   ],
   "source": [
    "# List of dictionaries\n",
    "people = [\n",
    "    {'name': 'Alice', 'age': 25},\n",
    "    {'name': 'Bob', 'age': 30},\n",
    "    {'name': 'Charlie', 'age': 35}\n",
    "]\n",
    "\n",
    "# Loop through each dictionary in the list\n",
    "for person in people:\n",
    "    print(f\"{person['name']} is {person['age']} years old.\")\n"
   ]
  },
  {
   "cell_type": "code",
   "execution_count": 4,
   "id": "48b96c09-bdc1-434c-9e83-b862f5373302",
   "metadata": {},
   "outputs": [
    {
     "name": "stdout",
     "output_type": "stream",
     "text": [
      "Vinayis 21 years old.\n",
      "Ajayis 20 years old.\n"
     ]
    }
   ],
   "source": [
    "people = [\n",
    "    {'name': 'Vinay','age':21},\n",
    "    {'name': 'Ajay', 'age':20}\n",
    "]\n",
    "\n",
    "for person in people:\n",
    "    print(f\"{person['name']}is {person['age']} years old.\")"
   ]
  },
  {
   "cell_type": "code",
   "execution_count": 5,
   "id": "9d115cf2-7387-431d-8039-a4f989b92664",
   "metadata": {},
   "outputs": [
    {
     "name": "stdout",
     "output_type": "stream",
     "text": [
      "1 * 1 = 1\n",
      "1 * 2 = 2\n",
      "1 * 3 = 3\n",
      "1 * 4 = 4\n",
      "1 * 5 = 5\n",
      "-----------\n",
      "2 * 1 = 2\n",
      "2 * 2 = 4\n",
      "2 * 3 = 6\n",
      "2 * 4 = 8\n",
      "2 * 5 = 10\n",
      "-----------\n",
      "3 * 1 = 3\n",
      "3 * 2 = 6\n",
      "3 * 3 = 9\n",
      "3 * 4 = 12\n",
      "3 * 5 = 15\n",
      "-----------\n",
      "4 * 1 = 4\n",
      "4 * 2 = 8\n",
      "4 * 3 = 12\n",
      "4 * 4 = 16\n",
      "4 * 5 = 20\n",
      "-----------\n",
      "5 * 1 = 5\n",
      "5 * 2 = 10\n",
      "5 * 3 = 15\n",
      "5 * 4 = 20\n",
      "5 * 5 = 25\n",
      "-----------\n"
     ]
    }
   ],
   "source": [
    "# Multiplication table (1 to 5)\n",
    "for i in range(1, 6):\n",
    "    for j in range(1, 6):\n",
    "        print(f\"{i} * {j} = {i * j}\")\n",
    "    print(\"-----------\")  # Just to separate each table\n"
   ]
  },
  {
   "cell_type": "code",
   "execution_count": 7,
   "id": "72c88430-3dcd-4304-a16a-d58b9194e466",
   "metadata": {},
   "outputs": [
    {
     "name": "stdout",
     "output_type": "stream",
     "text": [
      "1 * 1 = 1\n",
      "-------------\n",
      "1 * 2 = 2\n",
      "-------------\n",
      "1 * 3 = 3\n",
      "-------------\n",
      "2 * 1 = 2\n",
      "-------------\n",
      "2 * 2 = 4\n",
      "-------------\n",
      "2 * 3 = 6\n",
      "-------------\n",
      "3 * 1 = 3\n",
      "-------------\n",
      "3 * 2 = 6\n",
      "-------------\n",
      "3 * 3 = 9\n",
      "-------------\n"
     ]
    }
   ],
   "source": [
    "for i in range(1,4):\n",
    "    for j in range(1,4):\n",
    "        print(f\"{i} * {j} = {i * j}\")\n",
    "        print(\"-------------\")"
   ]
  },
  {
   "cell_type": "code",
   "execution_count": 8,
   "id": "d77d2613-dc6b-4953-9fce-f0ae5dd3c35b",
   "metadata": {},
   "outputs": [
    {
     "name": "stdout",
     "output_type": "stream",
     "text": [
      "Color 1: red\n",
      "Color 2: blue\n",
      "Color 3: green\n",
      "Color 4: yellow\n"
     ]
    }
   ],
   "source": [
    "# List of colors\n",
    "colors = ['red', 'blue', 'green', 'yellow']\n",
    "\n",
    "# Loop with index\n",
    "for index, color in enumerate(colors):\n",
    "    print(f\"Color {index + 1}: {color}\")\n"
   ]
  },
  {
   "cell_type": "code",
   "execution_count": 7,
   "id": "c841b3a7-c256-4f74-b6a5-27afa8334e18",
   "metadata": {},
   "outputs": [
    {
     "name": "stdout",
     "output_type": "stream",
     "text": [
      "[3, 5, 6, 8, 4, 5, 7, 8, 10, 6]\n"
     ]
    }
   ],
   "source": [
    "my_list = [3, 5, 6, 8, 4]  \n",
    "for iter_var in range( len( my_list ) ):  \n",
    "    my_list.append(my_list[iter_var] + 2)  \n",
    "print( my_list )   "
   ]
  },
  {
   "cell_type": "code",
   "execution_count": 9,
   "id": "ee6571e8-3963-4f3c-9b38-5ba77bd183b1",
   "metadata": {},
   "outputs": [
    {
     "name": "stdout",
     "output_type": "stream",
     "text": [
      "0 1 2 4 4 5 6 9 9 10 "
     ]
    }
   ],
   "source": [
    "import random  \n",
    "numbers = [ ]  \n",
    "for val in range(0, 11):  \n",
    "    numbers.append( random.randint( 0, 11 ) )  \n",
    "for num in range( 0, 11 ):  \n",
    "    for i in numbers:  \n",
    "        if num == i:  \n",
    "            print( num, end = \" \" )  "
   ]
  },
  {
   "cell_type": "code",
   "execution_count": null,
   "id": "6d2afbca-4661-4d72-8bc7-e53deaaa606b",
   "metadata": {},
   "outputs": [],
   "source": []
  }
 ],
 "metadata": {
  "kernelspec": {
   "display_name": "Python 3 (ipykernel)",
   "language": "python",
   "name": "python3"
  },
  "language_info": {
   "codemirror_mode": {
    "name": "ipython",
    "version": 3
   },
   "file_extension": ".py",
   "mimetype": "text/x-python",
   "name": "python",
   "nbconvert_exporter": "python",
   "pygments_lexer": "ipython3",
   "version": "3.12.4"
  }
 },
 "nbformat": 4,
 "nbformat_minor": 5
}
